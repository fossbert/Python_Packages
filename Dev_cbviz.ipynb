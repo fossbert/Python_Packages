{
 "cells": [
  {
   "cell_type": "code",
   "execution_count": 2,
   "metadata": {},
   "outputs": [],
   "source": [
    "%load_ext autoreload \n",
    "%autoreload 2"
   ]
  },
  {
   "cell_type": "code",
   "execution_count": 1,
   "metadata": {},
   "outputs": [],
   "source": [
    "import numpy as np \n",
    "import pandas as pd \n",
    "import matplotlib.pyplot as plt "
   ]
  },
  {
   "cell_type": "markdown",
   "metadata": {},
   "source": [
    "# Data classes"
   ]
  },
  {
   "cell_type": "code",
   "execution_count": null,
   "metadata": {},
   "outputs": [],
   "source": [
    "from cbviz.cbviz.utils import DataNum"
   ]
  },
  {
   "cell_type": "code",
   "execution_count": null,
   "metadata": {},
   "outputs": [],
   "source": [
    "all = pd.read_csv('./Metabolite-logFC-Signatures.csv', index_col=0)\n",
    "df = all.iloc[:, [0,2]].copy()\n",
    "\n",
    "dn = DataNum(df, ncols=2)"
   ]
  },
  {
   "cell_type": "code",
   "execution_count": null,
   "metadata": {},
   "outputs": [],
   "source": [
    "expected = np.repeat('floating', 1)\n",
    "observed = df.apply(infer_dtype).values\n",
    "type(expected)"
   ]
  },
  {
   "cell_type": "code",
   "execution_count": null,
   "metadata": {},
   "outputs": [],
   "source": [
    "s1 = np.random.permutation(np.repeat(['WT', 'Balanced', 'Minor', 'Major'], (30, 80, 50, 30)))\n",
    "s2 = np.repeat(['Basal-like', \"Classical\"], (57, 133))\n",
    "x = [y for x in [np.random.normal(loc=i, size=s) for i, s in zip((2, -2) , (57, 133)) ] for y in x]\n",
    "\n",
    "df2 = pd.DataFrame({\"x\" : x, \"s1\" : s1, \"s2\" : s2})\n",
    "df2['s1'] = df2['s1'].astype('category')"
   ]
  },
  {
   "cell_type": "code",
   "execution_count": null,
   "metadata": {},
   "outputs": [],
   "source": [
    "from cbviz.cbviz.utils import DataMix"
   ]
  },
  {
   "cell_type": "code",
   "execution_count": null,
   "metadata": {},
   "outputs": [],
   "source": [
    "DataMix(df2, ncat=2)"
   ]
  },
  {
   "cell_type": "code",
   "execution_count": null,
   "metadata": {},
   "outputs": [],
   "source": [
    "df = pd.DataFrame({'Age':np.random.randint(low=40, high=90, size=50), 'group':np.repeat(('ctrl', 'polyp'), (25, 25))})"
   ]
  },
  {
   "cell_type": "code",
   "execution_count": null,
   "metadata": {},
   "outputs": [],
   "source": [
    "DataMix(df)"
   ]
  },
  {
   "cell_type": "markdown",
   "metadata": {},
   "source": [
    "# KDE related "
   ]
  },
  {
   "cell_type": "markdown",
   "metadata": {},
   "source": [
    "## Split violin "
   ]
  },
  {
   "cell_type": "code",
   "execution_count": null,
   "metadata": {},
   "outputs": [],
   "source": [
    "s1 = np.random.permutation(np.repeat(['WT', 'Balanced', 'Minor', 'Major'], (30, 80, 50, 30)))\n",
    "s2 = np.repeat(['Basal-like', \"Classical\"], (57, 133))\n",
    "x = [y for x in [np.random.normal(loc=i, size=s) for i, s in zip((2, -2) , (57, 133)) ] for y in x]\n",
    "\n",
    "data = pd.DataFrame({\"x\" : x, \"s1\" : s1, \"s2\" : s2})"
   ]
  },
  {
   "cell_type": "code",
   "execution_count": null,
   "metadata": {},
   "outputs": [],
   "source": [
    "from cbviz.cbviz.kdetools import SplitViolin"
   ]
  },
  {
   "cell_type": "code",
   "execution_count": null,
   "metadata": {},
   "outputs": [],
   "source": [
    "sp = SplitViolin(data, s1_order=['WT', 'Balanced', 'Minor', 'Major'], s2_order=['Classical', 'Basal-like'])"
   ]
  },
  {
   "cell_type": "code",
   "execution_count": null,
   "metadata": {},
   "outputs": [],
   "source": [
    "plt.style.use('cviz')\n",
    "fig, ax = plt.subplots(figsize=(3,2.5))\n",
    "\n",
    "for kde in sp.get_violins(colors=('cornflowerblue', 'salmon')):\n",
    "\n",
    "    ax.fill_betweenx(kde.density, kde.grid, facecolor=kde.color, alpha=0.5)\n",
    "    ax.plot(kde.mode.ycoords, kde.mode.xcoords, lw=0.5, c='k')\n",
    "\n",
    "ax.set_yticks(*sp.get_s1_ticks())\n",
    "\n",
    "leg = ax.legend(handles=sp.get_s2_legend(colors=('cornflowerblue', 'salmon')), \n",
    "                loc='upper left', handlelength=0.4,\n",
    "                bbox_to_anchor=(0, 1.0, 0, 0.15), ncol=2, fontsize='x-small')\n",
    "leg.get_frame().set_linewidth(0.2)\n",
    "\n",
    "[ax.axhline(i, lw=0.5, ls=\":\", c='0.5') for i in (sp.get_s1_ticks()[0])]\n",
    "ax.set_xlabel(sp.ylabel)\n",
    "# fig.savefig('./test/Test-SplitViolin.pdf')"
   ]
  },
  {
   "cell_type": "markdown",
   "metadata": {},
   "source": [
    "## Ridge plot"
   ]
  },
  {
   "cell_type": "code",
   "execution_count": null,
   "metadata": {},
   "outputs": [],
   "source": [
    "s1 = np.repeat(['WT', 'Balanced', 'Minor', 'Major'], (30, 80, 50, 30))\n",
    "x = [y for x in [np.random.normal(loc=i, size=s) for i, s in zip(range(4) , (30, 80, 50, 30)) ] for y in x]\n",
    "\n",
    "data = pd.DataFrame({\"x\" : x, \"s1\" : s1})\n",
    "data"
   ]
  },
  {
   "cell_type": "code",
   "execution_count": null,
   "metadata": {},
   "outputs": [],
   "source": [
    "from cbviz.cbviz.kdetools import Ridge"
   ]
  },
  {
   "cell_type": "code",
   "execution_count": null,
   "metadata": {},
   "outputs": [],
   "source": [
    "rp = Ridge(data, s1_order=['WT','Balanced', 'Minor', 'Major'], scale_factor=1.2)"
   ]
  },
  {
   "cell_type": "code",
   "execution_count": null,
   "metadata": {},
   "outputs": [],
   "source": [
    "plt.style.use('cviz')\n",
    "fig, ax = plt.subplots(figsize=(3,2.5))\n",
    "\n",
    "for kde in rp.get_kdes():\n",
    "\n",
    "    ax.fill_betweenx(kde.density, kde.grid, facecolor=kde.color, alpha=0.3)\n",
    "    ax.plot(kde.mode.ycoords, kde.mode.xcoords, lw=0.1, c='k')\n",
    "\n",
    "ax.set_yticks(*rp.get_s1_ticks())\n",
    "ax.set_xlabel(rp.ylabel)\n",
    "[ax.axhline(i, ls=':', lw=0.25, c='0.15') for i in rp.get_s1_ticks()[0]]"
   ]
  },
  {
   "cell_type": "markdown",
   "metadata": {},
   "source": [
    "# Scatterplots"
   ]
  },
  {
   "cell_type": "markdown",
   "metadata": {},
   "source": [
    "## XYview"
   ]
  },
  {
   "cell_type": "code",
   "execution_count": null,
   "metadata": {},
   "outputs": [],
   "source": [
    "metabolites = ['L-Cystine', 'Cysteine', 'NADH']"
   ]
  },
  {
   "cell_type": "code",
   "execution_count": null,
   "metadata": {},
   "outputs": [],
   "source": [
    "all = pd.read_csv('./Metabolite-logFC-Signatures.csv', index_col=0)\n",
    "df = all.iloc[:, [0,2]].copy()"
   ]
  },
  {
   "cell_type": "code",
   "execution_count": null,
   "metadata": {},
   "outputs": [],
   "source": [
    "from cbviz.cbviz.xytools import XYview\n",
    "from adjustText import adjust_text"
   ]
  },
  {
   "cell_type": "code",
   "execution_count": null,
   "metadata": {},
   "outputs": [],
   "source": [
    "cond = df.index.isin(metabolites)\n",
    "xv = XYview(df, highlight=metabolites, s=np.where(cond, 40, 10), c=np.where(cond, 'r', '.5'), alpha=1)"
   ]
  },
  {
   "cell_type": "code",
   "execution_count": null,
   "metadata": {},
   "outputs": [],
   "source": [
    "!pip install adjustText"
   ]
  },
  {
   "cell_type": "code",
   "execution_count": null,
   "metadata": {},
   "outputs": [],
   "source": [
    "plt.style.use('cviz')\n",
    "\n",
    "fig, ax = plt.subplots(figsize=(3,3))\n",
    "\n",
    "ax.scatter(xv.x, xv.y, **xv.scatter_kw)\n",
    "xv.add_correlation(fontsize='small')\n",
    "xv.add_reg_line(color='cornflowerblue', lw=1)\n",
    "xv.label_dots(adjust=True, fontsize='small')\n",
    "xv.label_xy()\n",
    "fig.savefig('./test/Test-XYview.pdf')"
   ]
  },
  {
   "cell_type": "markdown",
   "metadata": {},
   "source": [
    "## XYpairs"
   ]
  },
  {
   "cell_type": "code",
   "execution_count": null,
   "metadata": {},
   "outputs": [],
   "source": [
    "from cbviz.cbviz.xytools import XYpairs"
   ]
  },
  {
   "cell_type": "code",
   "execution_count": null,
   "metadata": {},
   "outputs": [],
   "source": [
    "metabolites = ['L-Cystine', 'Cysteine', 'NADH']"
   ]
  },
  {
   "cell_type": "code",
   "execution_count": null,
   "metadata": {},
   "outputs": [],
   "source": [
    "all = pd.read_csv('./Metabolite-logFC-Signatures.csv', index_col=0)"
   ]
  },
  {
   "cell_type": "code",
   "execution_count": null,
   "metadata": {},
   "outputs": [],
   "source": [
    "np.ptp(all.values.ravel()) * 0.02"
   ]
  },
  {
   "cell_type": "code",
   "execution_count": null,
   "metadata": {},
   "outputs": [],
   "source": [
    "all = all.iloc[:, [1,0,3,2]]"
   ]
  },
  {
   "cell_type": "code",
   "execution_count": null,
   "metadata": {},
   "outputs": [],
   "source": [
    "cond = all.index.isin(metabolites)\n",
    "xp = XYpairs(all, lower_tri=False)"
   ]
  },
  {
   "cell_type": "code",
   "execution_count": null,
   "metadata": {},
   "outputs": [],
   "source": [
    "plt.style.use('cviz')\n",
    "\n",
    "fig = plt.figure(figsize=(5, 5))\n",
    "\n",
    "gs = xp.add_gridspec(hspace=0.3, wspace=0.4)\n",
    "\n",
    "pairs = xp.get_pairs(highlight=metabolites, s=np.where(cond, 40, 10), c=np.where(cond, 'r', '0.5'), alpha=np.where(cond, 1, 0.5))\n",
    "for pair in pairs:\n",
    "    ax = fig.add_subplot(gs[pair.position])\n",
    "    ax.tick_params(labelsize='xx-small', pad=0)\n",
    "    xv = pair.XYview\n",
    "    ax.scatter(xv.x, xv.y, **xv.scatter_kw)\n",
    "    xv.add_reg_line()\n",
    "    xv.label_dots(adjust=True, fontsize='x-small')\n",
    "    if pair.combo == ['FG_effect_sgNT', 'sgARNTL2_effect_FG']:\n",
    "        xv.add_correlation(loc=1)\n",
    "    else:\n",
    "        xv.add_correlation(loc=4)\n",
    "    xv.label_xy(fontsize='x-small', outer=True)"
   ]
  },
  {
   "cell_type": "markdown",
   "metadata": {},
   "source": [
    "## XYzoom"
   ]
  },
  {
   "cell_type": "code",
   "execution_count": null,
   "metadata": {},
   "outputs": [],
   "source": [
    "metabolites = ['L-Cystine', 'Cysteine', 'NADH']\n",
    "all = pd.read_csv('./Metabolite-logFC-Signatures.csv', index_col=0)\n",
    "df = all.iloc[:, [0,2]].copy()"
   ]
  },
  {
   "cell_type": "code",
   "execution_count": null,
   "metadata": {},
   "outputs": [],
   "source": [
    "from cbviz.cbviz.xytools import XYzoom"
   ]
  },
  {
   "cell_type": "code",
   "execution_count": null,
   "metadata": {},
   "outputs": [],
   "source": [
    "xz = XYzoom(df, ('min', 0), ('min', 0))"
   ]
  },
  {
   "cell_type": "code",
   "execution_count": null,
   "metadata": {},
   "outputs": [],
   "source": [
    "top5 = xz.zoom_data.mean(1).nsmallest(5).index.to_list()\n",
    "cond = xz.data.df.index.isin(top5)"
   ]
  },
  {
   "cell_type": "code",
   "execution_count": null,
   "metadata": {},
   "outputs": [],
   "source": [
    "top5"
   ]
  },
  {
   "cell_type": "code",
   "execution_count": null,
   "metadata": {},
   "outputs": [],
   "source": [
    "plt.style.use('cviz')\n",
    "\n",
    "xz = XYzoom(df, ('min', 0), ('min', 0))\n",
    "\n",
    "top5 = xz.zoom_data.mean(1).nsmallest(5).index.to_list()\n",
    "cond = xz.data.df.index.isin(top5)\n",
    "\n",
    "fig, (ax1, ax2) = plt.subplots(1, 2, figsize=(4,2))\n",
    "\n",
    "ax2.scatter(xz.x, xz.y, **xz.scatter_kw)\n",
    "xz.add_xy_line(ax2)\n",
    "xz.add_rect(ax=ax2)\n",
    "ax1.scatter(xz.x, xz.y, s=np.where(cond, 20, 5), c=np.where(cond, 'r', '.5'), alpha=0.5, linewidths=0)\n",
    "xz.connect(ax2, ax1, 'left', lw=0.5, ls=':')\n",
    "xz.label_xy(ax=ax1, outer=False, fontsize='x-small')\n",
    "xz.label_dots(top5, ax=ax1, adjust=True, adjust_kwargs={'arrowprops':{'arrowstyle':'-', 'lw':0.2}}, fontsize=4)"
   ]
  },
  {
   "cell_type": "markdown",
   "metadata": {},
   "source": [
    "# Boxplots"
   ]
  },
  {
   "cell_type": "markdown",
   "metadata": {},
   "source": [
    "## Box plus strip plot"
   ]
  },
  {
   "cell_type": "code",
   "execution_count": null,
   "metadata": {},
   "outputs": [],
   "source": [
    "s1 = np.repeat(['WT', 'Balanced', 'Minor', 'Major'], (30, 80, 50, 30))\n",
    "x = [y for x in [np.random.normal(loc=i, size=s) for i, s in zip(range(4) , (30, 80, 50, 30)) ] for y in x]\n",
    "\n",
    "data = pd.DataFrame({\"x\" : x, \"s1\" : s1})\n",
    "data"
   ]
  },
  {
   "cell_type": "code",
   "execution_count": null,
   "metadata": {},
   "outputs": [],
   "source": [
    "from cbviz.cbviz.bptools import StripBox"
   ]
  },
  {
   "cell_type": "code",
   "execution_count": null,
   "metadata": {},
   "outputs": [],
   "source": [
    "sb = StripBox(data, p_method_global='Anova', s1_order=['WT', 'Balanced', 'Minor', 'Major'])"
   ]
  },
  {
   "cell_type": "code",
   "execution_count": null,
   "metadata": {},
   "outputs": [],
   "source": [
    "plt.style.use('cviz')\n",
    "\n",
    "fig, ax = plt.subplots(figsize=(2.5,2.5))\n",
    "\n",
    "sb.boxplt()\n",
    "sb.add_strips(s=20, alpha=0.50, linewidths=0)\n",
    "sb.add_global_p(fontsize='xx-small')"
   ]
  },
  {
   "cell_type": "code",
   "execution_count": null,
   "metadata": {},
   "outputs": [],
   "source": [
    "sb.calc_pairwise_p(adj_method='fdr_bh')"
   ]
  },
  {
   "cell_type": "code",
   "execution_count": null,
   "metadata": {},
   "outputs": [],
   "source": [
    "plt.style.use('cviz')\n",
    "\n",
    "fig, ax = plt.subplots(figsize=(3, 2.5))\n",
    "\n",
    "sb.boxplt()\n",
    "sb.add_strips(s=20, alpha=0.50, linewidths=0)\n",
    "sb.add_pair_p(groupA='WT', groupB='Minor', yoffset=0.5, cut_p=True)"
   ]
  },
  {
   "cell_type": "code",
   "execution_count": null,
   "metadata": {},
   "outputs": [],
   "source": [
    "from scipy.stats import f_oneway, ttest_ind"
   ]
  },
  {
   "cell_type": "code",
   "execution_count": null,
   "metadata": {},
   "outputs": [],
   "source": [
    "x, y = [np.random.normal(i, size=100) for i in range(2)]"
   ]
  },
  {
   "cell_type": "code",
   "execution_count": null,
   "metadata": {},
   "outputs": [],
   "source": [
    "data['s1'] = data['s1'].astype('category')"
   ]
  },
  {
   "cell_type": "code",
   "execution_count": null,
   "metadata": {},
   "outputs": [],
   "source": [
    "from pandas.api.types import is_categorical_dtype\n",
    "def cat_cleaner(series):\n",
    "    if is_categorical_dtype(series):\n",
    "        return series.cat.remove_unused_categories()\n",
    "    else:\n",
    "        return series"
   ]
  },
  {
   "cell_type": "code",
   "execution_count": null,
   "metadata": {},
   "outputs": [],
   "source": [
    "data[data['s1'].isin(['WT', 'Balanced'])]['s1']#.apply(cat_cleaner)"
   ]
  },
  {
   "cell_type": "code",
   "execution_count": null,
   "metadata": {},
   "outputs": [],
   "source": [
    "data[data['s1'].isin(['WT', 'Balanced'])].apply(cat_cleaner)['s1']"
   ]
  },
  {
   "cell_type": "code",
   "execution_count": null,
   "metadata": {},
   "outputs": [],
   "source": []
  },
  {
   "cell_type": "markdown",
   "metadata": {},
   "source": [
    "# Dotplot"
   ]
  },
  {
   "cell_type": "code",
   "execution_count": null,
   "metadata": {},
   "outputs": [],
   "source": [
    "df = pd.read_csv('./Dotplot_input.csv')"
   ]
  },
  {
   "cell_type": "code",
   "execution_count": null,
   "metadata": {},
   "outputs": [],
   "source": [
    "from cbviz.cbviz.xytools import Dotplot"
   ]
  },
  {
   "cell_type": "code",
   "execution_count": null,
   "metadata": {},
   "outputs": [],
   "source": [
    "hm = pd.read_table('/home/carlo/Documents/Data/HALLMARK_related/Hallmark_Sets_PerCategory.tsv')\n",
    "hm = hm[hm['Name'].isin(df['y'])]\n",
    "df['y'] = df['y'].astype('category').cat.reorder_categories(hm['Name'].to_list())"
   ]
  },
  {
   "cell_type": "code",
   "execution_count": null,
   "metadata": {},
   "outputs": [],
   "source": [
    "hm.sort_values(['Process'], [])"
   ]
  },
  {
   "cell_type": "code",
   "execution_count": null,
   "metadata": {},
   "outputs": [],
   "source": [
    "df['y']"
   ]
  },
  {
   "cell_type": "code",
   "execution_count": null,
   "metadata": {},
   "outputs": [],
   "source": [
    "dp = Dotplot(df, 'x', 'y', 'fdr', 'med_tstat')"
   ]
  },
  {
   "cell_type": "code",
   "execution_count": null,
   "metadata": {},
   "outputs": [],
   "source": [
    "dp.cut_size(bins=[0, 1e-20, 1e-5, 0.05, 1], sizes_out=(0, 5, 20, 50), reverse=True)"
   ]
  },
  {
   "cell_type": "code",
   "execution_count": null,
   "metadata": {},
   "outputs": [],
   "source": [
    "dp.bins"
   ]
  },
  {
   "cell_type": "code",
   "execution_count": null,
   "metadata": {},
   "outputs": [],
   "source": [
    "from matplotlib.colors import CenteredNorm"
   ]
  },
  {
   "cell_type": "code",
   "execution_count": null,
   "metadata": {},
   "outputs": [],
   "source": [
    "plt.style.use('cviz')\n",
    "fig, ax = plt.subplots(figsize=(1.5, 5))\n",
    "\n",
    "sp = ax.scatter(dp.x, dp.y, s=dp.size_cut, c=dp.color_raw, cmap=plt.cm.coolwarm, norm=CenteredNorm(0))\n",
    "dp.set_ticklabels(fontsize='x-small')\n",
    "ax.set_xlim(-0.5, 5.5)\n",
    "leg = ax.legend(handles=dp.get_size_handles(reverse=True, marker_sizes=(4, 7, 9)), bbox_to_anchor=(1, 1, 0.2, 0), fontsize='x-small')\n",
    "leg.get_frame().set_linewidth(0.4)\n",
    "cax = fig.add_axes([1, 0.7, 0.4, 0.03])\n",
    "cax.set_xticks([-2.5, 0, 2.5], [-2.5, 0, 2.5], fontsize='x-small')\n",
    "cax.set_title('Progression stat', loc='left', fontsize='xx-small')\n",
    "fig.colorbar(sp, cax=cax, orientation='horizontal')\n",
    "fig.savefig('Figures/DotPlot-HALLMARKvsRPcluster.pdf')"
   ]
  },
  {
   "cell_type": "markdown",
   "metadata": {},
   "source": [
    "# Corrplot"
   ]
  },
  {
   "cell_type": "code",
   "execution_count": 16,
   "metadata": {},
   "outputs": [],
   "source": [
    "df = pd.read_csv('./Corrplot_input.csv')"
   ]
  },
  {
   "cell_type": "code",
   "execution_count": 19,
   "metadata": {},
   "outputs": [
    {
     "data": {
      "text/html": [
       "<div>\n",
       "<style scoped>\n",
       "    .dataframe tbody tr th:only-of-type {\n",
       "        vertical-align: middle;\n",
       "    }\n",
       "\n",
       "    .dataframe tbody tr th {\n",
       "        vertical-align: top;\n",
       "    }\n",
       "\n",
       "    .dataframe thead th {\n",
       "        text-align: right;\n",
       "    }\n",
       "</style>\n",
       "<table border=\"1\" class=\"dataframe\">\n",
       "  <thead>\n",
       "    <tr style=\"text-align: right;\">\n",
       "      <th></th>\n",
       "      <th>Albumin</th>\n",
       "      <th>AP</th>\n",
       "      <th>Bilirubin</th>\n",
       "      <th>Harnstoff</th>\n",
       "      <th>Ca</th>\n",
       "      <th>Cholesterin</th>\n",
       "      <th>Krea</th>\n",
       "      <th>CRP</th>\n",
       "      <th>GGT</th>\n",
       "      <th>Glucose</th>\n",
       "      <th>...</th>\n",
       "      <th>HDL</th>\n",
       "      <th>K</th>\n",
       "      <th>LDH</th>\n",
       "      <th>LDL</th>\n",
       "      <th>Mg</th>\n",
       "      <th>Na</th>\n",
       "      <th>Ph</th>\n",
       "      <th>Eiweiß</th>\n",
       "      <th>Triglyceride</th>\n",
       "      <th>GFR</th>\n",
       "    </tr>\n",
       "  </thead>\n",
       "  <tbody>\n",
       "    <tr>\n",
       "      <th>Albumin</th>\n",
       "      <td>1.000000</td>\n",
       "      <td>0.076034</td>\n",
       "      <td>0.212077</td>\n",
       "      <td>0.178567</td>\n",
       "      <td>0.560017</td>\n",
       "      <td>0.402080</td>\n",
       "      <td>0.187759</td>\n",
       "      <td>-0.138873</td>\n",
       "      <td>0.102578</td>\n",
       "      <td>0.096729</td>\n",
       "      <td>...</td>\n",
       "      <td>0.399870</td>\n",
       "      <td>-0.029486</td>\n",
       "      <td>0.019440</td>\n",
       "      <td>0.283477</td>\n",
       "      <td>0.506340</td>\n",
       "      <td>0.226556</td>\n",
       "      <td>0.223297</td>\n",
       "      <td>0.686272</td>\n",
       "      <td>-0.045780</td>\n",
       "      <td>-0.068425</td>\n",
       "    </tr>\n",
       "    <tr>\n",
       "      <th>AP</th>\n",
       "      <td>0.076034</td>\n",
       "      <td>1.000000</td>\n",
       "      <td>0.035770</td>\n",
       "      <td>0.244930</td>\n",
       "      <td>0.048402</td>\n",
       "      <td>0.026146</td>\n",
       "      <td>0.127143</td>\n",
       "      <td>0.315335</td>\n",
       "      <td>0.300764</td>\n",
       "      <td>0.263990</td>\n",
       "      <td>...</td>\n",
       "      <td>-0.147838</td>\n",
       "      <td>-0.033569</td>\n",
       "      <td>0.087214</td>\n",
       "      <td>0.058111</td>\n",
       "      <td>0.064255</td>\n",
       "      <td>0.068347</td>\n",
       "      <td>0.202417</td>\n",
       "      <td>0.253042</td>\n",
       "      <td>0.241931</td>\n",
       "      <td>-0.228731</td>\n",
       "    </tr>\n",
       "    <tr>\n",
       "      <th>Bilirubin</th>\n",
       "      <td>0.212077</td>\n",
       "      <td>0.035770</td>\n",
       "      <td>1.000000</td>\n",
       "      <td>0.028606</td>\n",
       "      <td>0.192427</td>\n",
       "      <td>-0.024652</td>\n",
       "      <td>0.222985</td>\n",
       "      <td>0.083903</td>\n",
       "      <td>0.336160</td>\n",
       "      <td>0.079386</td>\n",
       "      <td>...</td>\n",
       "      <td>0.010779</td>\n",
       "      <td>-0.044543</td>\n",
       "      <td>0.167542</td>\n",
       "      <td>0.019142</td>\n",
       "      <td>0.138174</td>\n",
       "      <td>-0.000204</td>\n",
       "      <td>-0.094205</td>\n",
       "      <td>0.179917</td>\n",
       "      <td>-0.065004</td>\n",
       "      <td>-0.101946</td>\n",
       "    </tr>\n",
       "    <tr>\n",
       "      <th>Harnstoff</th>\n",
       "      <td>0.178567</td>\n",
       "      <td>0.244930</td>\n",
       "      <td>0.028606</td>\n",
       "      <td>1.000000</td>\n",
       "      <td>0.036841</td>\n",
       "      <td>0.151802</td>\n",
       "      <td>0.607021</td>\n",
       "      <td>0.185489</td>\n",
       "      <td>0.159764</td>\n",
       "      <td>0.223356</td>\n",
       "      <td>...</td>\n",
       "      <td>0.078934</td>\n",
       "      <td>0.112081</td>\n",
       "      <td>0.127898</td>\n",
       "      <td>0.107721</td>\n",
       "      <td>0.049889</td>\n",
       "      <td>0.125243</td>\n",
       "      <td>0.023701</td>\n",
       "      <td>0.097734</td>\n",
       "      <td>0.131096</td>\n",
       "      <td>-0.642785</td>\n",
       "    </tr>\n",
       "    <tr>\n",
       "      <th>Ca</th>\n",
       "      <td>0.560017</td>\n",
       "      <td>0.048402</td>\n",
       "      <td>0.192427</td>\n",
       "      <td>0.036841</td>\n",
       "      <td>1.000000</td>\n",
       "      <td>0.353741</td>\n",
       "      <td>-0.037106</td>\n",
       "      <td>-0.070424</td>\n",
       "      <td>0.065150</td>\n",
       "      <td>0.010031</td>\n",
       "      <td>...</td>\n",
       "      <td>0.203992</td>\n",
       "      <td>0.190663</td>\n",
       "      <td>0.001358</td>\n",
       "      <td>0.244891</td>\n",
       "      <td>0.241927</td>\n",
       "      <td>0.305719</td>\n",
       "      <td>0.285881</td>\n",
       "      <td>0.601331</td>\n",
       "      <td>-0.050764</td>\n",
       "      <td>0.063890</td>\n",
       "    </tr>\n",
       "    <tr>\n",
       "      <th>Cholesterin</th>\n",
       "      <td>0.402080</td>\n",
       "      <td>0.026146</td>\n",
       "      <td>-0.024652</td>\n",
       "      <td>0.151802</td>\n",
       "      <td>0.353741</td>\n",
       "      <td>1.000000</td>\n",
       "      <td>0.076844</td>\n",
       "      <td>0.009114</td>\n",
       "      <td>0.125092</td>\n",
       "      <td>0.114806</td>\n",
       "      <td>...</td>\n",
       "      <td>0.244159</td>\n",
       "      <td>0.164351</td>\n",
       "      <td>-0.088293</td>\n",
       "      <td>0.905024</td>\n",
       "      <td>0.359800</td>\n",
       "      <td>0.200927</td>\n",
       "      <td>0.060853</td>\n",
       "      <td>0.456088</td>\n",
       "      <td>0.245660</td>\n",
       "      <td>-0.121166</td>\n",
       "    </tr>\n",
       "    <tr>\n",
       "      <th>Krea</th>\n",
       "      <td>0.187759</td>\n",
       "      <td>0.127143</td>\n",
       "      <td>0.222985</td>\n",
       "      <td>0.607021</td>\n",
       "      <td>-0.037106</td>\n",
       "      <td>0.076844</td>\n",
       "      <td>1.000000</td>\n",
       "      <td>0.099329</td>\n",
       "      <td>0.272895</td>\n",
       "      <td>0.108529</td>\n",
       "      <td>...</td>\n",
       "      <td>0.135056</td>\n",
       "      <td>0.150090</td>\n",
       "      <td>0.098182</td>\n",
       "      <td>0.046728</td>\n",
       "      <td>0.181645</td>\n",
       "      <td>0.062578</td>\n",
       "      <td>-0.121822</td>\n",
       "      <td>0.030900</td>\n",
       "      <td>0.150596</td>\n",
       "      <td>-0.827931</td>\n",
       "    </tr>\n",
       "    <tr>\n",
       "      <th>CRP</th>\n",
       "      <td>-0.138873</td>\n",
       "      <td>0.315335</td>\n",
       "      <td>0.083903</td>\n",
       "      <td>0.185489</td>\n",
       "      <td>-0.070424</td>\n",
       "      <td>0.009114</td>\n",
       "      <td>0.099329</td>\n",
       "      <td>1.000000</td>\n",
       "      <td>0.283574</td>\n",
       "      <td>0.245320</td>\n",
       "      <td>...</td>\n",
       "      <td>-0.089744</td>\n",
       "      <td>-0.020259</td>\n",
       "      <td>0.047983</td>\n",
       "      <td>-0.037004</td>\n",
       "      <td>-0.062930</td>\n",
       "      <td>-0.111295</td>\n",
       "      <td>0.110545</td>\n",
       "      <td>0.127321</td>\n",
       "      <td>0.162654</td>\n",
       "      <td>-0.181747</td>\n",
       "    </tr>\n",
       "    <tr>\n",
       "      <th>GGT</th>\n",
       "      <td>0.102578</td>\n",
       "      <td>0.300764</td>\n",
       "      <td>0.336160</td>\n",
       "      <td>0.159764</td>\n",
       "      <td>0.065150</td>\n",
       "      <td>0.125092</td>\n",
       "      <td>0.272895</td>\n",
       "      <td>0.283574</td>\n",
       "      <td>1.000000</td>\n",
       "      <td>0.214020</td>\n",
       "      <td>...</td>\n",
       "      <td>-0.221981</td>\n",
       "      <td>0.041100</td>\n",
       "      <td>0.135209</td>\n",
       "      <td>0.125207</td>\n",
       "      <td>0.002218</td>\n",
       "      <td>0.086436</td>\n",
       "      <td>-0.102864</td>\n",
       "      <td>0.234131</td>\n",
       "      <td>0.401616</td>\n",
       "      <td>-0.166622</td>\n",
       "    </tr>\n",
       "    <tr>\n",
       "      <th>Glucose</th>\n",
       "      <td>0.096729</td>\n",
       "      <td>0.263990</td>\n",
       "      <td>0.079386</td>\n",
       "      <td>0.223356</td>\n",
       "      <td>0.010031</td>\n",
       "      <td>0.114806</td>\n",
       "      <td>0.108529</td>\n",
       "      <td>0.245320</td>\n",
       "      <td>0.214020</td>\n",
       "      <td>1.000000</td>\n",
       "      <td>...</td>\n",
       "      <td>-0.041467</td>\n",
       "      <td>0.044744</td>\n",
       "      <td>0.220963</td>\n",
       "      <td>0.093657</td>\n",
       "      <td>-0.008635</td>\n",
       "      <td>0.010976</td>\n",
       "      <td>-0.063787</td>\n",
       "      <td>0.112233</td>\n",
       "      <td>0.273941</td>\n",
       "      <td>-0.137580</td>\n",
       "    </tr>\n",
       "    <tr>\n",
       "      <th>GOT</th>\n",
       "      <td>0.041642</td>\n",
       "      <td>0.153830</td>\n",
       "      <td>0.247031</td>\n",
       "      <td>0.020596</td>\n",
       "      <td>0.159727</td>\n",
       "      <td>-0.035327</td>\n",
       "      <td>0.037073</td>\n",
       "      <td>-0.029916</td>\n",
       "      <td>0.350828</td>\n",
       "      <td>0.007882</td>\n",
       "      <td>...</td>\n",
       "      <td>-0.164380</td>\n",
       "      <td>-0.066637</td>\n",
       "      <td>0.383708</td>\n",
       "      <td>-0.032878</td>\n",
       "      <td>-0.056444</td>\n",
       "      <td>0.001216</td>\n",
       "      <td>-0.069462</td>\n",
       "      <td>0.168811</td>\n",
       "      <td>0.216225</td>\n",
       "      <td>-0.021127</td>\n",
       "    </tr>\n",
       "    <tr>\n",
       "      <th>GPT</th>\n",
       "      <td>0.047603</td>\n",
       "      <td>0.111349</td>\n",
       "      <td>0.236610</td>\n",
       "      <td>0.025611</td>\n",
       "      <td>0.063729</td>\n",
       "      <td>-0.051410</td>\n",
       "      <td>0.082344</td>\n",
       "      <td>-0.077050</td>\n",
       "      <td>0.337813</td>\n",
       "      <td>0.050727</td>\n",
       "      <td>...</td>\n",
       "      <td>-0.177329</td>\n",
       "      <td>-0.094104</td>\n",
       "      <td>0.314477</td>\n",
       "      <td>0.001879</td>\n",
       "      <td>0.023449</td>\n",
       "      <td>-0.095343</td>\n",
       "      <td>-0.166843</td>\n",
       "      <td>0.059533</td>\n",
       "      <td>0.121850</td>\n",
       "      <td>0.051829</td>\n",
       "    </tr>\n",
       "    <tr>\n",
       "      <th>HDL</th>\n",
       "      <td>0.399870</td>\n",
       "      <td>-0.147838</td>\n",
       "      <td>0.010779</td>\n",
       "      <td>0.078934</td>\n",
       "      <td>0.203992</td>\n",
       "      <td>0.244159</td>\n",
       "      <td>0.135056</td>\n",
       "      <td>-0.089744</td>\n",
       "      <td>-0.221981</td>\n",
       "      <td>-0.041467</td>\n",
       "      <td>...</td>\n",
       "      <td>1.000000</td>\n",
       "      <td>-0.102273</td>\n",
       "      <td>-0.116265</td>\n",
       "      <td>-0.033700</td>\n",
       "      <td>0.286165</td>\n",
       "      <td>-0.003823</td>\n",
       "      <td>0.087976</td>\n",
       "      <td>0.229057</td>\n",
       "      <td>-0.408792</td>\n",
       "      <td>-0.124866</td>\n",
       "    </tr>\n",
       "    <tr>\n",
       "      <th>K</th>\n",
       "      <td>-0.029486</td>\n",
       "      <td>-0.033569</td>\n",
       "      <td>-0.044543</td>\n",
       "      <td>0.112081</td>\n",
       "      <td>0.190663</td>\n",
       "      <td>0.164351</td>\n",
       "      <td>0.150090</td>\n",
       "      <td>-0.020259</td>\n",
       "      <td>0.041100</td>\n",
       "      <td>0.044744</td>\n",
       "      <td>...</td>\n",
       "      <td>-0.102273</td>\n",
       "      <td>1.000000</td>\n",
       "      <td>0.082689</td>\n",
       "      <td>0.160117</td>\n",
       "      <td>0.180009</td>\n",
       "      <td>0.252560</td>\n",
       "      <td>0.101199</td>\n",
       "      <td>-0.075185</td>\n",
       "      <td>0.113304</td>\n",
       "      <td>-0.107961</td>\n",
       "    </tr>\n",
       "    <tr>\n",
       "      <th>LDH</th>\n",
       "      <td>0.019440</td>\n",
       "      <td>0.087214</td>\n",
       "      <td>0.167542</td>\n",
       "      <td>0.127898</td>\n",
       "      <td>0.001358</td>\n",
       "      <td>-0.088293</td>\n",
       "      <td>0.098182</td>\n",
       "      <td>0.047983</td>\n",
       "      <td>0.135209</td>\n",
       "      <td>0.220963</td>\n",
       "      <td>...</td>\n",
       "      <td>-0.116265</td>\n",
       "      <td>0.082689</td>\n",
       "      <td>1.000000</td>\n",
       "      <td>-0.045354</td>\n",
       "      <td>-0.053007</td>\n",
       "      <td>0.097223</td>\n",
       "      <td>-0.188795</td>\n",
       "      <td>-0.040959</td>\n",
       "      <td>0.020751</td>\n",
       "      <td>-0.163887</td>\n",
       "    </tr>\n",
       "    <tr>\n",
       "      <th>LDL</th>\n",
       "      <td>0.283477</td>\n",
       "      <td>0.058111</td>\n",
       "      <td>0.019142</td>\n",
       "      <td>0.107721</td>\n",
       "      <td>0.244891</td>\n",
       "      <td>0.905024</td>\n",
       "      <td>0.046728</td>\n",
       "      <td>-0.037004</td>\n",
       "      <td>0.125207</td>\n",
       "      <td>0.093657</td>\n",
       "      <td>...</td>\n",
       "      <td>-0.033700</td>\n",
       "      <td>0.160117</td>\n",
       "      <td>-0.045354</td>\n",
       "      <td>1.000000</td>\n",
       "      <td>0.272755</td>\n",
       "      <td>0.101014</td>\n",
       "      <td>0.031886</td>\n",
       "      <td>0.360628</td>\n",
       "      <td>0.219775</td>\n",
       "      <td>-0.064323</td>\n",
       "    </tr>\n",
       "    <tr>\n",
       "      <th>Mg</th>\n",
       "      <td>0.506340</td>\n",
       "      <td>0.064255</td>\n",
       "      <td>0.138174</td>\n",
       "      <td>0.049889</td>\n",
       "      <td>0.241927</td>\n",
       "      <td>0.359800</td>\n",
       "      <td>0.181645</td>\n",
       "      <td>-0.062930</td>\n",
       "      <td>0.002218</td>\n",
       "      <td>-0.008635</td>\n",
       "      <td>...</td>\n",
       "      <td>0.286165</td>\n",
       "      <td>0.180009</td>\n",
       "      <td>-0.053007</td>\n",
       "      <td>0.272755</td>\n",
       "      <td>1.000000</td>\n",
       "      <td>0.226546</td>\n",
       "      <td>0.217176</td>\n",
       "      <td>0.393252</td>\n",
       "      <td>0.111259</td>\n",
       "      <td>-0.154890</td>\n",
       "    </tr>\n",
       "    <tr>\n",
       "      <th>Na</th>\n",
       "      <td>0.226556</td>\n",
       "      <td>0.068347</td>\n",
       "      <td>-0.000204</td>\n",
       "      <td>0.125243</td>\n",
       "      <td>0.305719</td>\n",
       "      <td>0.200927</td>\n",
       "      <td>0.062578</td>\n",
       "      <td>-0.111295</td>\n",
       "      <td>0.086436</td>\n",
       "      <td>0.010976</td>\n",
       "      <td>...</td>\n",
       "      <td>-0.003823</td>\n",
       "      <td>0.252560</td>\n",
       "      <td>0.097223</td>\n",
       "      <td>0.101014</td>\n",
       "      <td>0.226546</td>\n",
       "      <td>1.000000</td>\n",
       "      <td>0.132462</td>\n",
       "      <td>0.107929</td>\n",
       "      <td>0.146727</td>\n",
       "      <td>-0.100026</td>\n",
       "    </tr>\n",
       "    <tr>\n",
       "      <th>Ph</th>\n",
       "      <td>0.223297</td>\n",
       "      <td>0.202417</td>\n",
       "      <td>-0.094205</td>\n",
       "      <td>0.023701</td>\n",
       "      <td>0.285881</td>\n",
       "      <td>0.060853</td>\n",
       "      <td>-0.121822</td>\n",
       "      <td>0.110545</td>\n",
       "      <td>-0.102864</td>\n",
       "      <td>-0.063787</td>\n",
       "      <td>...</td>\n",
       "      <td>0.087976</td>\n",
       "      <td>0.101199</td>\n",
       "      <td>-0.188795</td>\n",
       "      <td>0.031886</td>\n",
       "      <td>0.217176</td>\n",
       "      <td>0.132462</td>\n",
       "      <td>1.000000</td>\n",
       "      <td>0.301380</td>\n",
       "      <td>-0.038305</td>\n",
       "      <td>0.055589</td>\n",
       "    </tr>\n",
       "    <tr>\n",
       "      <th>Eiweiß</th>\n",
       "      <td>0.686272</td>\n",
       "      <td>0.253042</td>\n",
       "      <td>0.179917</td>\n",
       "      <td>0.097734</td>\n",
       "      <td>0.601331</td>\n",
       "      <td>0.456088</td>\n",
       "      <td>0.030900</td>\n",
       "      <td>0.127321</td>\n",
       "      <td>0.234131</td>\n",
       "      <td>0.112233</td>\n",
       "      <td>...</td>\n",
       "      <td>0.229057</td>\n",
       "      <td>-0.075185</td>\n",
       "      <td>-0.040959</td>\n",
       "      <td>0.360628</td>\n",
       "      <td>0.393252</td>\n",
       "      <td>0.107929</td>\n",
       "      <td>0.301380</td>\n",
       "      <td>1.000000</td>\n",
       "      <td>0.102879</td>\n",
       "      <td>-0.003531</td>\n",
       "    </tr>\n",
       "    <tr>\n",
       "      <th>Triglyceride</th>\n",
       "      <td>-0.045780</td>\n",
       "      <td>0.241931</td>\n",
       "      <td>-0.065004</td>\n",
       "      <td>0.131096</td>\n",
       "      <td>-0.050764</td>\n",
       "      <td>0.245660</td>\n",
       "      <td>0.150596</td>\n",
       "      <td>0.162654</td>\n",
       "      <td>0.401616</td>\n",
       "      <td>0.273941</td>\n",
       "      <td>...</td>\n",
       "      <td>-0.408792</td>\n",
       "      <td>0.113304</td>\n",
       "      <td>0.020751</td>\n",
       "      <td>0.219775</td>\n",
       "      <td>0.111259</td>\n",
       "      <td>0.146727</td>\n",
       "      <td>-0.038305</td>\n",
       "      <td>0.102879</td>\n",
       "      <td>1.000000</td>\n",
       "      <td>-0.188685</td>\n",
       "    </tr>\n",
       "    <tr>\n",
       "      <th>GFR</th>\n",
       "      <td>-0.068425</td>\n",
       "      <td>-0.228731</td>\n",
       "      <td>-0.101946</td>\n",
       "      <td>-0.642785</td>\n",
       "      <td>0.063890</td>\n",
       "      <td>-0.121166</td>\n",
       "      <td>-0.827931</td>\n",
       "      <td>-0.181747</td>\n",
       "      <td>-0.166622</td>\n",
       "      <td>-0.137580</td>\n",
       "      <td>...</td>\n",
       "      <td>-0.124866</td>\n",
       "      <td>-0.107961</td>\n",
       "      <td>-0.163887</td>\n",
       "      <td>-0.064323</td>\n",
       "      <td>-0.154890</td>\n",
       "      <td>-0.100026</td>\n",
       "      <td>0.055589</td>\n",
       "      <td>-0.003531</td>\n",
       "      <td>-0.188685</td>\n",
       "      <td>1.000000</td>\n",
       "    </tr>\n",
       "  </tbody>\n",
       "</table>\n",
       "<p>22 rows × 22 columns</p>\n",
       "</div>"
      ],
      "text/plain": [
       "               Albumin        AP  Bilirubin  Harnstoff        Ca  Cholesterin  \\\n",
       "Albumin       1.000000  0.076034   0.212077   0.178567  0.560017     0.402080   \n",
       "AP            0.076034  1.000000   0.035770   0.244930  0.048402     0.026146   \n",
       "Bilirubin     0.212077  0.035770   1.000000   0.028606  0.192427    -0.024652   \n",
       "Harnstoff     0.178567  0.244930   0.028606   1.000000  0.036841     0.151802   \n",
       "Ca            0.560017  0.048402   0.192427   0.036841  1.000000     0.353741   \n",
       "Cholesterin   0.402080  0.026146  -0.024652   0.151802  0.353741     1.000000   \n",
       "Krea          0.187759  0.127143   0.222985   0.607021 -0.037106     0.076844   \n",
       "CRP          -0.138873  0.315335   0.083903   0.185489 -0.070424     0.009114   \n",
       "GGT           0.102578  0.300764   0.336160   0.159764  0.065150     0.125092   \n",
       "Glucose       0.096729  0.263990   0.079386   0.223356  0.010031     0.114806   \n",
       "GOT           0.041642  0.153830   0.247031   0.020596  0.159727    -0.035327   \n",
       "GPT           0.047603  0.111349   0.236610   0.025611  0.063729    -0.051410   \n",
       "HDL           0.399870 -0.147838   0.010779   0.078934  0.203992     0.244159   \n",
       "K            -0.029486 -0.033569  -0.044543   0.112081  0.190663     0.164351   \n",
       "LDH           0.019440  0.087214   0.167542   0.127898  0.001358    -0.088293   \n",
       "LDL           0.283477  0.058111   0.019142   0.107721  0.244891     0.905024   \n",
       "Mg            0.506340  0.064255   0.138174   0.049889  0.241927     0.359800   \n",
       "Na            0.226556  0.068347  -0.000204   0.125243  0.305719     0.200927   \n",
       "Ph            0.223297  0.202417  -0.094205   0.023701  0.285881     0.060853   \n",
       "Eiweiß        0.686272  0.253042   0.179917   0.097734  0.601331     0.456088   \n",
       "Triglyceride -0.045780  0.241931  -0.065004   0.131096 -0.050764     0.245660   \n",
       "GFR          -0.068425 -0.228731  -0.101946  -0.642785  0.063890    -0.121166   \n",
       "\n",
       "                  Krea       CRP       GGT   Glucose  ...       HDL         K  \\\n",
       "Albumin       0.187759 -0.138873  0.102578  0.096729  ...  0.399870 -0.029486   \n",
       "AP            0.127143  0.315335  0.300764  0.263990  ... -0.147838 -0.033569   \n",
       "Bilirubin     0.222985  0.083903  0.336160  0.079386  ...  0.010779 -0.044543   \n",
       "Harnstoff     0.607021  0.185489  0.159764  0.223356  ...  0.078934  0.112081   \n",
       "Ca           -0.037106 -0.070424  0.065150  0.010031  ...  0.203992  0.190663   \n",
       "Cholesterin   0.076844  0.009114  0.125092  0.114806  ...  0.244159  0.164351   \n",
       "Krea          1.000000  0.099329  0.272895  0.108529  ...  0.135056  0.150090   \n",
       "CRP           0.099329  1.000000  0.283574  0.245320  ... -0.089744 -0.020259   \n",
       "GGT           0.272895  0.283574  1.000000  0.214020  ... -0.221981  0.041100   \n",
       "Glucose       0.108529  0.245320  0.214020  1.000000  ... -0.041467  0.044744   \n",
       "GOT           0.037073 -0.029916  0.350828  0.007882  ... -0.164380 -0.066637   \n",
       "GPT           0.082344 -0.077050  0.337813  0.050727  ... -0.177329 -0.094104   \n",
       "HDL           0.135056 -0.089744 -0.221981 -0.041467  ...  1.000000 -0.102273   \n",
       "K             0.150090 -0.020259  0.041100  0.044744  ... -0.102273  1.000000   \n",
       "LDH           0.098182  0.047983  0.135209  0.220963  ... -0.116265  0.082689   \n",
       "LDL           0.046728 -0.037004  0.125207  0.093657  ... -0.033700  0.160117   \n",
       "Mg            0.181645 -0.062930  0.002218 -0.008635  ...  0.286165  0.180009   \n",
       "Na            0.062578 -0.111295  0.086436  0.010976  ... -0.003823  0.252560   \n",
       "Ph           -0.121822  0.110545 -0.102864 -0.063787  ...  0.087976  0.101199   \n",
       "Eiweiß        0.030900  0.127321  0.234131  0.112233  ...  0.229057 -0.075185   \n",
       "Triglyceride  0.150596  0.162654  0.401616  0.273941  ... -0.408792  0.113304   \n",
       "GFR          -0.827931 -0.181747 -0.166622 -0.137580  ... -0.124866 -0.107961   \n",
       "\n",
       "                   LDH       LDL        Mg        Na        Ph    Eiweiß  \\\n",
       "Albumin       0.019440  0.283477  0.506340  0.226556  0.223297  0.686272   \n",
       "AP            0.087214  0.058111  0.064255  0.068347  0.202417  0.253042   \n",
       "Bilirubin     0.167542  0.019142  0.138174 -0.000204 -0.094205  0.179917   \n",
       "Harnstoff     0.127898  0.107721  0.049889  0.125243  0.023701  0.097734   \n",
       "Ca            0.001358  0.244891  0.241927  0.305719  0.285881  0.601331   \n",
       "Cholesterin  -0.088293  0.905024  0.359800  0.200927  0.060853  0.456088   \n",
       "Krea          0.098182  0.046728  0.181645  0.062578 -0.121822  0.030900   \n",
       "CRP           0.047983 -0.037004 -0.062930 -0.111295  0.110545  0.127321   \n",
       "GGT           0.135209  0.125207  0.002218  0.086436 -0.102864  0.234131   \n",
       "Glucose       0.220963  0.093657 -0.008635  0.010976 -0.063787  0.112233   \n",
       "GOT           0.383708 -0.032878 -0.056444  0.001216 -0.069462  0.168811   \n",
       "GPT           0.314477  0.001879  0.023449 -0.095343 -0.166843  0.059533   \n",
       "HDL          -0.116265 -0.033700  0.286165 -0.003823  0.087976  0.229057   \n",
       "K             0.082689  0.160117  0.180009  0.252560  0.101199 -0.075185   \n",
       "LDH           1.000000 -0.045354 -0.053007  0.097223 -0.188795 -0.040959   \n",
       "LDL          -0.045354  1.000000  0.272755  0.101014  0.031886  0.360628   \n",
       "Mg           -0.053007  0.272755  1.000000  0.226546  0.217176  0.393252   \n",
       "Na            0.097223  0.101014  0.226546  1.000000  0.132462  0.107929   \n",
       "Ph           -0.188795  0.031886  0.217176  0.132462  1.000000  0.301380   \n",
       "Eiweiß       -0.040959  0.360628  0.393252  0.107929  0.301380  1.000000   \n",
       "Triglyceride  0.020751  0.219775  0.111259  0.146727 -0.038305  0.102879   \n",
       "GFR          -0.163887 -0.064323 -0.154890 -0.100026  0.055589 -0.003531   \n",
       "\n",
       "              Triglyceride       GFR  \n",
       "Albumin          -0.045780 -0.068425  \n",
       "AP                0.241931 -0.228731  \n",
       "Bilirubin        -0.065004 -0.101946  \n",
       "Harnstoff         0.131096 -0.642785  \n",
       "Ca               -0.050764  0.063890  \n",
       "Cholesterin       0.245660 -0.121166  \n",
       "Krea              0.150596 -0.827931  \n",
       "CRP               0.162654 -0.181747  \n",
       "GGT               0.401616 -0.166622  \n",
       "Glucose           0.273941 -0.137580  \n",
       "GOT               0.216225 -0.021127  \n",
       "GPT               0.121850  0.051829  \n",
       "HDL              -0.408792 -0.124866  \n",
       "K                 0.113304 -0.107961  \n",
       "LDH               0.020751 -0.163887  \n",
       "LDL               0.219775 -0.064323  \n",
       "Mg                0.111259 -0.154890  \n",
       "Na                0.146727 -0.100026  \n",
       "Ph               -0.038305  0.055589  \n",
       "Eiweiß            0.102879 -0.003531  \n",
       "Triglyceride      1.000000 -0.188685  \n",
       "GFR              -0.188685  1.000000  \n",
       "\n",
       "[22 rows x 22 columns]"
      ]
     },
     "execution_count": 19,
     "metadata": {},
     "output_type": "execute_result"
    }
   ],
   "source": [
    "df.corr(method='spearman')"
   ]
  },
  {
   "cell_type": "code",
   "execution_count": 16,
   "metadata": {},
   "outputs": [],
   "source": [
    "lab.columns = lab.columns.str.split('(').str[0]"
   ]
  },
  {
   "cell_type": "code",
   "execution_count": 17,
   "metadata": {},
   "outputs": [],
   "source": [
    "lab.drop('Cl', axis=1, inplace=True)"
   ]
  },
  {
   "cell_type": "code",
   "execution_count": 19,
   "metadata": {},
   "outputs": [],
   "source": [
    "lab.to_csv('./Corrplot_input.csv')"
   ]
  },
  {
   "cell_type": "code",
   "execution_count": null,
   "metadata": {},
   "outputs": [],
   "source": [
    "df = pd.read_csv('./Dotplot_input.csv')"
   ]
  },
  {
   "cell_type": "code",
   "execution_count": null,
   "metadata": {},
   "outputs": [],
   "source": [
    "from cbviz.cbviz.xytools import Dotplot"
   ]
  },
  {
   "cell_type": "code",
   "execution_count": null,
   "metadata": {},
   "outputs": [],
   "source": [
    "hm = pd.read_table('/home/carlo/Documents/Data/HALLMARK_related/Hallmark_Sets_PerCategory.tsv')\n",
    "hm = hm[hm['Name'].isin(df['y'])]\n",
    "df['y'] = df['y'].astype('category').cat.reorder_categories(hm['Name'].to_list())"
   ]
  },
  {
   "cell_type": "code",
   "execution_count": null,
   "metadata": {},
   "outputs": [],
   "source": [
    "hm.sort_values(['Process'], [])"
   ]
  },
  {
   "cell_type": "code",
   "execution_count": null,
   "metadata": {},
   "outputs": [],
   "source": [
    "df['y']"
   ]
  },
  {
   "cell_type": "code",
   "execution_count": null,
   "metadata": {},
   "outputs": [],
   "source": [
    "dp = Dotplot(df, 'x', 'y', 'fdr', 'med_tstat')"
   ]
  },
  {
   "cell_type": "code",
   "execution_count": null,
   "metadata": {},
   "outputs": [],
   "source": [
    "dp.cut_size(bins=[0, 1e-20, 1e-5, 0.05, 1], sizes_out=(0, 5, 20, 50), reverse=True)"
   ]
  },
  {
   "cell_type": "code",
   "execution_count": null,
   "metadata": {},
   "outputs": [],
   "source": [
    "dp.bins"
   ]
  },
  {
   "cell_type": "code",
   "execution_count": null,
   "metadata": {},
   "outputs": [],
   "source": [
    "from matplotlib.colors import CenteredNorm"
   ]
  },
  {
   "cell_type": "code",
   "execution_count": null,
   "metadata": {},
   "outputs": [],
   "source": [
    "plt.style.use('cviz')\n",
    "fig, ax = plt.subplots(figsize=(1.5, 5))\n",
    "\n",
    "sp = ax.scatter(dp.x, dp.y, s=dp.size_cut, c=dp.color_raw, cmap=plt.cm.coolwarm, norm=CenteredNorm(0))\n",
    "dp.set_ticklabels(fontsize='x-small')\n",
    "ax.set_xlim(-0.5, 5.5)\n",
    "leg = ax.legend(handles=dp.get_size_handles(reverse=True, marker_sizes=(4, 7, 9)), bbox_to_anchor=(1, 1, 0.2, 0), fontsize='x-small')\n",
    "leg.get_frame().set_linewidth(0.4)\n",
    "cax = fig.add_axes([1, 0.7, 0.4, 0.03])\n",
    "cax.set_xticks([-2.5, 0, 2.5], [-2.5, 0, 2.5], fontsize='x-small')\n",
    "cax.set_title('Progression stat', loc='left', fontsize='xx-small')\n",
    "fig.colorbar(sp, cax=cax, orientation='horizontal')\n",
    "fig.savefig('Figures/DotPlot-HALLMARKvsRPcluster.pdf')"
   ]
  },
  {
   "cell_type": "code",
   "execution_count": null,
   "metadata": {},
   "outputs": [],
   "source": [
    "df = pd.read_csv('./Dotplot_input.csv')"
   ]
  },
  {
   "cell_type": "code",
   "execution_count": null,
   "metadata": {},
   "outputs": [],
   "source": [
    "from cbviz.cbviz.xytools import Dotplot"
   ]
  },
  {
   "cell_type": "code",
   "execution_count": null,
   "metadata": {},
   "outputs": [],
   "source": [
    "hm = pd.read_table('/home/carlo/Documents/Data/HALLMARK_related/Hallmark_Sets_PerCategory.tsv')\n",
    "hm = hm[hm['Name'].isin(df['y'])]\n",
    "df['y'] = df['y'].astype('category').cat.reorder_categories(hm['Name'].to_list())"
   ]
  },
  {
   "cell_type": "code",
   "execution_count": null,
   "metadata": {},
   "outputs": [],
   "source": [
    "hm.sort_values(['Process'], [])"
   ]
  },
  {
   "cell_type": "code",
   "execution_count": null,
   "metadata": {},
   "outputs": [],
   "source": [
    "df['y']"
   ]
  },
  {
   "cell_type": "code",
   "execution_count": null,
   "metadata": {},
   "outputs": [],
   "source": [
    "dp = Dotplot(df, 'x', 'y', 'fdr', 'med_tstat')"
   ]
  },
  {
   "cell_type": "code",
   "execution_count": null,
   "metadata": {},
   "outputs": [],
   "source": [
    "dp.cut_size(bins=[0, 1e-20, 1e-5, 0.05, 1], sizes_out=(0, 5, 20, 50), reverse=True)"
   ]
  },
  {
   "cell_type": "code",
   "execution_count": null,
   "metadata": {},
   "outputs": [],
   "source": [
    "dp.bins"
   ]
  },
  {
   "cell_type": "code",
   "execution_count": null,
   "metadata": {},
   "outputs": [],
   "source": [
    "from matplotlib.colors import CenteredNorm"
   ]
  },
  {
   "cell_type": "code",
   "execution_count": null,
   "metadata": {},
   "outputs": [],
   "source": [
    "plt.style.use('cviz')\n",
    "fig, ax = plt.subplots(figsize=(1.5, 5))\n",
    "\n",
    "sp = ax.scatter(dp.x, dp.y, s=dp.size_cut, c=dp.color_raw, cmap=plt.cm.coolwarm, norm=CenteredNorm(0))\n",
    "dp.set_ticklabels(fontsize='x-small')\n",
    "ax.set_xlim(-0.5, 5.5)\n",
    "leg = ax.legend(handles=dp.get_size_handles(reverse=True, marker_sizes=(4, 7, 9)), bbox_to_anchor=(1, 1, 0.2, 0), fontsize='x-small')\n",
    "leg.get_frame().set_linewidth(0.4)\n",
    "cax = fig.add_axes([1, 0.7, 0.4, 0.03])\n",
    "cax.set_xticks([-2.5, 0, 2.5], [-2.5, 0, 2.5], fontsize='x-small')\n",
    "cax.set_title('Progression stat', loc='left', fontsize='xx-small')\n",
    "fig.colorbar(sp, cax=cax, orientation='horizontal')\n",
    "fig.savefig('Figures/DotPlot-HALLMARKvsRPcluster.pdf')"
   ]
  }
 ],
 "metadata": {
  "interpreter": {
   "hash": "e8d075b866a6e8bb417e6eedf4c3fd1246316055f9b48a9c795ca2a066087e73"
  },
  "kernelspec": {
   "display_name": "Python 3.9.7 64-bit ('devpack': conda)",
   "language": "python",
   "name": "python3"
  },
  "language_info": {
   "codemirror_mode": {
    "name": "ipython",
    "version": 3
   },
   "file_extension": ".py",
   "mimetype": "text/x-python",
   "name": "python",
   "nbconvert_exporter": "python",
   "pygments_lexer": "ipython3",
   "version": "3.9.7"
  },
  "orig_nbformat": 4
 },
 "nbformat": 4,
 "nbformat_minor": 2
}
