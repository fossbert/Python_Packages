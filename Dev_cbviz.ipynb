{
 "cells": [
  {
   "cell_type": "code",
   "execution_count": 5,
   "metadata": {},
   "outputs": [
    {
     "name": "stdout",
     "output_type": "stream",
     "text": [
      "The autoreload extension is already loaded. To reload it, use:\n",
      "  %reload_ext autoreload\n"
     ]
    }
   ],
   "source": [
    "%load_ext autoreload \n",
    "%autoreload 2"
   ]
  },
  {
   "cell_type": "code",
   "execution_count": 6,
   "metadata": {},
   "outputs": [],
   "source": [
    "import numpy as np \n",
    "import pandas as pd \n",
    "import matplotlib.pyplot as plt "
   ]
  },
  {
   "cell_type": "markdown",
   "metadata": {},
   "source": [
    "# Data classes"
   ]
  },
  {
   "cell_type": "code",
   "execution_count": null,
   "metadata": {},
   "outputs": [],
   "source": [
    "from cbviz.cbviz.utils import DataNum"
   ]
  },
  {
   "cell_type": "code",
   "execution_count": null,
   "metadata": {},
   "outputs": [],
   "source": [
    "all = pd.read_csv('./Metabolite-logFC-Signatures.csv', index_col=0)\n",
    "df = all.iloc[:, [0,2]].copy()\n",
    "\n",
    "dn = DataNum(df, ncols=2)"
   ]
  },
  {
   "cell_type": "code",
   "execution_count": null,
   "metadata": {},
   "outputs": [],
   "source": [
    "expected = np.repeat('floating', 1)\n",
    "observed = df.apply(infer_dtype).values\n",
    "type(expected)"
   ]
  },
  {
   "cell_type": "code",
   "execution_count": null,
   "metadata": {},
   "outputs": [],
   "source": [
    "s1 = np.random.permutation(np.repeat(['WT', 'Balanced', 'Minor', 'Major'], (30, 80, 50, 30)))\n",
    "s2 = np.repeat(['Basal-like', \"Classical\"], (57, 133))\n",
    "x = [y for x in [np.random.normal(loc=i, size=s) for i, s in zip((2, -2) , (57, 133)) ] for y in x]\n",
    "\n",
    "df2 = pd.DataFrame({\"x\" : x, \"s1\" : s1, \"s2\" : s2})\n",
    "df2['s1'] = df2['s1'].astype('category')"
   ]
  },
  {
   "cell_type": "code",
   "execution_count": null,
   "metadata": {},
   "outputs": [],
   "source": [
    "from cbviz.cbviz.utils import DataMix"
   ]
  },
  {
   "cell_type": "code",
   "execution_count": null,
   "metadata": {},
   "outputs": [],
   "source": [
    "DataMix(df2, ncat=2)"
   ]
  },
  {
   "cell_type": "markdown",
   "metadata": {},
   "source": [
    "# KDE related "
   ]
  },
  {
   "cell_type": "markdown",
   "metadata": {},
   "source": [
    "## Split violin "
   ]
  },
  {
   "cell_type": "code",
   "execution_count": null,
   "metadata": {},
   "outputs": [],
   "source": [
    "s1 = np.random.permutation(np.repeat(['WT', 'Balanced', 'Minor', 'Major'], (30, 80, 50, 30)))\n",
    "s2 = np.repeat(['Basal-like', \"Classical\"], (57, 133))\n",
    "x = [y for x in [np.random.normal(loc=i, size=s) for i, s in zip((2, -2) , (57, 133)) ] for y in x]\n",
    "\n",
    "data = pd.DataFrame({\"x\" : x, \"s1\" : s1, \"s2\" : s2})"
   ]
  },
  {
   "cell_type": "code",
   "execution_count": null,
   "metadata": {},
   "outputs": [],
   "source": [
    "from cbviz.cbviz.kdetools import SplitViolin"
   ]
  },
  {
   "cell_type": "code",
   "execution_count": null,
   "metadata": {},
   "outputs": [],
   "source": [
    "sp = SplitViolin(data, s1_order=['WT', 'Balanced', 'Minor', 'Major'], s2_order=['Classical', 'Basal-like'])"
   ]
  },
  {
   "cell_type": "code",
   "execution_count": null,
   "metadata": {},
   "outputs": [],
   "source": [
    "plt.style.use('cviz')\n",
    "fig, ax = plt.subplots(figsize=(3,2.5))\n",
    "\n",
    "for kde in sp.get_violins(colors=('cornflowerblue', 'salmon')):\n",
    "\n",
    "    ax.fill_betweenx(kde.density, kde.grid, facecolor=kde.color, alpha=0.5)\n",
    "    ax.plot(kde.mode.ycoords, kde.mode.xcoords, lw=0.5, c='k')\n",
    "\n",
    "ax.set_yticks(*sp.get_s1_ticks())\n",
    "\n",
    "leg = ax.legend(handles=sp.get_s2_legend(colors=('cornflowerblue', 'salmon')), \n",
    "                loc='upper left', handlelength=0.4,\n",
    "                bbox_to_anchor=(0, 1.0, 0, 0.15), ncol=2, fontsize='x-small')\n",
    "leg.get_frame().set_linewidth(0.2)\n",
    "\n",
    "[ax.axhline(i, lw=0.5, ls=\":\", c='0.5') for i in (sp.get_s1_ticks()[0])]\n",
    "ax.set_xlabel(sp.ylabel)\n",
    "# fig.savefig('./test/Test-SplitViolin.pdf')"
   ]
  },
  {
   "cell_type": "markdown",
   "metadata": {},
   "source": [
    "## Ridge plot"
   ]
  },
  {
   "cell_type": "code",
   "execution_count": null,
   "metadata": {},
   "outputs": [],
   "source": [
    "s1 = np.repeat(['WT', 'Balanced', 'Minor', 'Major'], (30, 80, 50, 30))\n",
    "x = [y for x in [np.random.normal(loc=i, size=s) for i, s in zip(range(4) , (30, 80, 50, 30)) ] for y in x]\n",
    "\n",
    "data = pd.DataFrame({\"x\" : x, \"s1\" : s1})\n",
    "data"
   ]
  },
  {
   "cell_type": "code",
   "execution_count": null,
   "metadata": {},
   "outputs": [],
   "source": [
    "from cbviz.cbviz.kdetools import Ridge"
   ]
  },
  {
   "cell_type": "code",
   "execution_count": null,
   "metadata": {},
   "outputs": [],
   "source": [
    "rp = Ridge(data, s1_order=['WT','Balanced', 'Minor', 'Major'], scale_factor=1.2)"
   ]
  },
  {
   "cell_type": "code",
   "execution_count": null,
   "metadata": {},
   "outputs": [],
   "source": [
    "plt.style.use('cviz')\n",
    "fig, ax = plt.subplots(figsize=(3,2.5))\n",
    "\n",
    "for kde in rp.get_kdes():\n",
    "\n",
    "    ax.fill_betweenx(kde.density, kde.grid, facecolor=kde.color, alpha=0.3)\n",
    "    ax.plot(kde.mode.ycoords, kde.mode.xcoords, lw=0.1, c='k')\n",
    "\n",
    "ax.set_yticks(*rp.get_s1_ticks())\n",
    "ax.set_xlabel(rp.ylabel)\n",
    "[ax.axhline(i, ls=':', lw=0.25, c='0.15') for i in rp.get_s1_ticks()[0]]"
   ]
  },
  {
   "cell_type": "markdown",
   "metadata": {},
   "source": [
    "# Scatterplots"
   ]
  },
  {
   "cell_type": "markdown",
   "metadata": {},
   "source": [
    "## XYview"
   ]
  },
  {
   "cell_type": "code",
   "execution_count": null,
   "metadata": {},
   "outputs": [],
   "source": [
    "metabolites = ['L-Cystine', 'Cysteine', 'NADH']"
   ]
  },
  {
   "cell_type": "code",
   "execution_count": null,
   "metadata": {},
   "outputs": [],
   "source": [
    "all = pd.read_csv('./Metabolite-logFC-Signatures.csv', index_col=0)\n",
    "df = all.iloc[:, [0,2]].copy()"
   ]
  },
  {
   "cell_type": "code",
   "execution_count": null,
   "metadata": {},
   "outputs": [],
   "source": [
    "from cbviz.cbviz.xytools import XYview\n",
    "from adjustText import adjust_text"
   ]
  },
  {
   "cell_type": "code",
   "execution_count": null,
   "metadata": {},
   "outputs": [],
   "source": [
    "cond = df.index.isin(metabolites)\n",
    "xv = XYview(df, highlight=metabolites, s=np.where(cond, 40, 10), c=np.where(cond, 'r', '.5'), alpha=1)"
   ]
  },
  {
   "cell_type": "code",
   "execution_count": null,
   "metadata": {},
   "outputs": [],
   "source": [
    "!pip install adjustText"
   ]
  },
  {
   "cell_type": "code",
   "execution_count": null,
   "metadata": {},
   "outputs": [],
   "source": [
    "plt.style.use('cviz')\n",
    "\n",
    "fig, ax = plt.subplots(figsize=(3,3))\n",
    "\n",
    "ax.scatter(xv.x, xv.y, **xv.scatter_kw)\n",
    "xv.add_correlation(fontsize='small')\n",
    "xv.add_reg_line(color='cornflowerblue', lw=1)\n",
    "xv.label_dots(adjust=True, fontsize='small')\n",
    "xv.label_xy()\n",
    "fig.savefig('./test/Test-XYview.pdf')"
   ]
  },
  {
   "cell_type": "markdown",
   "metadata": {},
   "source": [
    "## XYpairs"
   ]
  },
  {
   "cell_type": "code",
   "execution_count": null,
   "metadata": {},
   "outputs": [],
   "source": [
    "from cbviz.cbviz.xytools import XYpairs"
   ]
  },
  {
   "cell_type": "code",
   "execution_count": null,
   "metadata": {},
   "outputs": [],
   "source": [
    "metabolites = ['L-Cystine', 'Cysteine', 'NADH']"
   ]
  },
  {
   "cell_type": "code",
   "execution_count": null,
   "metadata": {},
   "outputs": [],
   "source": [
    "all = pd.read_csv('./Metabolite-logFC-Signatures.csv', index_col=0)"
   ]
  },
  {
   "cell_type": "code",
   "execution_count": null,
   "metadata": {},
   "outputs": [],
   "source": [
    "np.ptp(all.values.ravel()) * 0.02"
   ]
  },
  {
   "cell_type": "code",
   "execution_count": null,
   "metadata": {},
   "outputs": [],
   "source": [
    "all = all.iloc[:, [1,0,3,2]]"
   ]
  },
  {
   "cell_type": "code",
   "execution_count": null,
   "metadata": {},
   "outputs": [],
   "source": [
    "cond = all.index.isin(metabolites)\n",
    "xp = XYpairs(all, lower_tri=False)"
   ]
  },
  {
   "cell_type": "code",
   "execution_count": null,
   "metadata": {},
   "outputs": [],
   "source": [
    "plt.style.use('cviz')\n",
    "\n",
    "fig = plt.figure(figsize=(5, 5))\n",
    "\n",
    "gs = xp.add_gridspec(hspace=0.3, wspace=0.4)\n",
    "\n",
    "pairs = xp.get_pairs(highlight=metabolites, s=np.where(cond, 40, 10), c=np.where(cond, 'r', '0.5'), alpha=np.where(cond, 1, 0.5))\n",
    "for pair in pairs:\n",
    "    ax = fig.add_subplot(gs[pair.position])\n",
    "    ax.tick_params(labelsize='xx-small', pad=0)\n",
    "    xv = pair.XYview\n",
    "    ax.scatter(xv.x, xv.y, **xv.scatter_kw)\n",
    "    xv.add_reg_line()\n",
    "    xv.label_dots(adjust=True, fontsize='x-small')\n",
    "    if pair.combo == ['FG_effect_sgNT', 'sgARNTL2_effect_FG']:\n",
    "        xv.add_correlation(loc=1)\n",
    "    else:\n",
    "        xv.add_correlation(loc=4)\n",
    "    xv.label_xy(fontsize='x-small', outer=True)"
   ]
  },
  {
   "cell_type": "markdown",
   "metadata": {},
   "source": [
    "## XYzoom"
   ]
  },
  {
   "cell_type": "code",
   "execution_count": null,
   "metadata": {},
   "outputs": [],
   "source": [
    "metabolites = ['L-Cystine', 'Cysteine', 'NADH']\n",
    "all = pd.read_csv('./Metabolite-logFC-Signatures.csv', index_col=0)\n",
    "df = all.iloc[:, [0,2]].copy()"
   ]
  },
  {
   "cell_type": "code",
   "execution_count": null,
   "metadata": {},
   "outputs": [],
   "source": [
    "from cbviz.cbviz.xytools import XYzoom"
   ]
  },
  {
   "cell_type": "code",
   "execution_count": null,
   "metadata": {},
   "outputs": [],
   "source": [
    "xz = XYzoom(df, ('min', 0), ('min', 0))"
   ]
  },
  {
   "cell_type": "code",
   "execution_count": null,
   "metadata": {},
   "outputs": [],
   "source": [
    "top5 = xz.zoom_data.mean(1).nsmallest(5).index.to_list()\n",
    "cond = xz.data.df.index.isin(top5)"
   ]
  },
  {
   "cell_type": "code",
   "execution_count": null,
   "metadata": {},
   "outputs": [],
   "source": [
    "top5"
   ]
  },
  {
   "cell_type": "code",
   "execution_count": null,
   "metadata": {},
   "outputs": [],
   "source": [
    "plt.style.use('cviz')\n",
    "\n",
    "xz = XYzoom(df, ('min', 0), ('min', 0))\n",
    "\n",
    "top5 = xz.zoom_data.mean(1).nsmallest(5).index.to_list()\n",
    "cond = xz.data.df.index.isin(top5)\n",
    "\n",
    "fig, (ax1, ax2) = plt.subplots(1, 2, figsize=(4,2))\n",
    "\n",
    "ax2.scatter(xz.x, xz.y, **xz.scatter_kw)\n",
    "xz.add_xy_line(ax2)\n",
    "xz.add_rect(ax=ax2)\n",
    "ax1.scatter(xz.x, xz.y, s=np.where(cond, 20, 5), c=np.where(cond, 'r', '.5'), alpha=0.5, linewidths=0)\n",
    "xz.connect(ax2, ax1, 'left', lw=0.5, ls=':')\n",
    "xz.label_xy(ax=ax1, outer=False, fontsize='x-small')\n",
    "xz.label_dots(top5, ax=ax1, adjust=True, adjust_kwargs={'arrowprops':{'arrowstyle':'-', 'lw':0.2}}, fontsize=4)"
   ]
  },
  {
   "cell_type": "markdown",
   "metadata": {},
   "source": [
    "# Boxplots"
   ]
  },
  {
   "cell_type": "markdown",
   "metadata": {},
   "source": [
    "## Box plus strip plot"
   ]
  },
  {
   "cell_type": "code",
   "execution_count": null,
   "metadata": {},
   "outputs": [],
   "source": [
    "s1 = np.repeat(['WT', 'Balanced', 'Minor', 'Major'], (30, 80, 50, 30))\n",
    "x = [y for x in [np.random.normal(loc=i, size=s) for i, s in zip(range(4) , (30, 80, 50, 30)) ] for y in x]\n",
    "\n",
    "data = pd.DataFrame({\"x\" : x, \"s1\" : s1})\n",
    "data"
   ]
  },
  {
   "cell_type": "code",
   "execution_count": null,
   "metadata": {},
   "outputs": [],
   "source": [
    "from cbviz.cbviz.bptools import StripBox"
   ]
  },
  {
   "cell_type": "code",
   "execution_count": null,
   "metadata": {},
   "outputs": [],
   "source": [
    "sb = StripBox(data, p_method_global='Anova', s1_order=['WT', 'Balanced', 'Minor', 'Major'])"
   ]
  },
  {
   "cell_type": "code",
   "execution_count": null,
   "metadata": {},
   "outputs": [],
   "source": [
    "plt.style.use('cviz')\n",
    "\n",
    "fig, ax = plt.subplots(figsize=(2.5,2.5))\n",
    "\n",
    "sb.boxplt()\n",
    "sb.add_strips(s=20, alpha=0.50, linewidths=0)\n",
    "sb.add_global_p(fontsize='xx-small')"
   ]
  },
  {
   "cell_type": "code",
   "execution_count": null,
   "metadata": {},
   "outputs": [],
   "source": [
    "sb.calc_pairwise_p(adj_method='fdr_bh')"
   ]
  },
  {
   "cell_type": "code",
   "execution_count": null,
   "metadata": {},
   "outputs": [],
   "source": [
    "plt.style.use('cviz')\n",
    "\n",
    "fig, ax = plt.subplots(figsize=(3, 2.5))\n",
    "\n",
    "sb.boxplt()\n",
    "sb.add_strips(s=20, alpha=0.50, linewidths=0)\n",
    "sb.add_pair_p(groupA='WT', groupB='Minor', yoffset=0.5, cut_p=True)"
   ]
  },
  {
   "cell_type": "code",
   "execution_count": null,
   "metadata": {},
   "outputs": [],
   "source": [
    "from scipy.stats import f_oneway, ttest_ind"
   ]
  },
  {
   "cell_type": "code",
   "execution_count": null,
   "metadata": {},
   "outputs": [],
   "source": [
    "x, y = [np.random.normal(i, size=100) for i in range(2)]"
   ]
  },
  {
   "cell_type": "code",
   "execution_count": null,
   "metadata": {},
   "outputs": [],
   "source": [
    "data['s1'] = data['s1'].astype('category')"
   ]
  },
  {
   "cell_type": "code",
   "execution_count": null,
   "metadata": {},
   "outputs": [],
   "source": [
    "from pandas.api.types import is_categorical_dtype\n",
    "def cat_cleaner(series):\n",
    "    if is_categorical_dtype(series):\n",
    "        return series.cat.remove_unused_categories()\n",
    "    else:\n",
    "        return series"
   ]
  },
  {
   "cell_type": "code",
   "execution_count": null,
   "metadata": {},
   "outputs": [],
   "source": [
    "data[data['s1'].isin(['WT', 'Balanced'])]['s1']#.apply(cat_cleaner)"
   ]
  },
  {
   "cell_type": "code",
   "execution_count": null,
   "metadata": {},
   "outputs": [],
   "source": [
    "data[data['s1'].isin(['WT', 'Balanced'])].apply(cat_cleaner)['s1']"
   ]
  },
  {
   "cell_type": "code",
   "execution_count": null,
   "metadata": {},
   "outputs": [],
   "source": []
  },
  {
   "cell_type": "markdown",
   "metadata": {},
   "source": [
    "# Dotplot"
   ]
  },
  {
   "cell_type": "code",
   "execution_count": 7,
   "metadata": {},
   "outputs": [],
   "source": [
    "df = pd.read_csv('./Dotplot_input.csv')"
   ]
  },
  {
   "cell_type": "code",
   "execution_count": 19,
   "metadata": {},
   "outputs": [],
   "source": [
    "from cbviz.cbviz.xytools import Dotplot"
   ]
  },
  {
   "cell_type": "code",
   "execution_count": 10,
   "metadata": {},
   "outputs": [],
   "source": [
    "hm = pd.read_table('/home/carlo/Documents/Data/HALLMARK_related/Hallmark_Sets_PerCategory.tsv')\n",
    "hm = hm[hm['Name'].isin(df['y'])]\n",
    "df['y'] = df['y'].astype('category').cat.reorder_categories(hm['Name'].to_list())"
   ]
  },
  {
   "cell_type": "code",
   "execution_count": 87,
   "metadata": {},
   "outputs": [
    {
     "data": {
      "text/html": [
       "<div>\n",
       "<style scoped>\n",
       "    .dataframe tbody tr th:only-of-type {\n",
       "        vertical-align: middle;\n",
       "    }\n",
       "\n",
       "    .dataframe tbody tr th {\n",
       "        vertical-align: top;\n",
       "    }\n",
       "\n",
       "    .dataframe thead th {\n",
       "        text-align: right;\n",
       "    }\n",
       "</style>\n",
       "<table border=\"1\" class=\"dataframe\">\n",
       "  <thead>\n",
       "    <tr style=\"text-align: right;\">\n",
       "      <th></th>\n",
       "      <th>Name</th>\n",
       "      <th>Process</th>\n",
       "    </tr>\n",
       "  </thead>\n",
       "  <tbody>\n",
       "    <tr>\n",
       "      <th>0</th>\n",
       "      <td>APICAL_JUNCTION</td>\n",
       "      <td>cellular_component</td>\n",
       "    </tr>\n",
       "    <tr>\n",
       "      <th>1</th>\n",
       "      <td>APICAL_SURFACE</td>\n",
       "      <td>cellular_component</td>\n",
       "    </tr>\n",
       "    <tr>\n",
       "      <th>3</th>\n",
       "      <td>ADIPOGENESIS</td>\n",
       "      <td>development</td>\n",
       "    </tr>\n",
       "    <tr>\n",
       "      <th>4</th>\n",
       "      <td>ANGIOGENESIS</td>\n",
       "      <td>development</td>\n",
       "    </tr>\n",
       "    <tr>\n",
       "      <th>5</th>\n",
       "      <td>EPITHELIAL_MESENCHYMAL_TRANSITION</td>\n",
       "      <td>development</td>\n",
       "    </tr>\n",
       "    <tr>\n",
       "      <th>7</th>\n",
       "      <td>SPERMATOGENESIS</td>\n",
       "      <td>development</td>\n",
       "    </tr>\n",
       "    <tr>\n",
       "      <th>10</th>\n",
       "      <td>UV_RESPONSE_DN</td>\n",
       "      <td>DNA_damage</td>\n",
       "    </tr>\n",
       "    <tr>\n",
       "      <th>11</th>\n",
       "      <td>UV_RESPONSE_UP</td>\n",
       "      <td>DNA_damage</td>\n",
       "    </tr>\n",
       "    <tr>\n",
       "      <th>13</th>\n",
       "      <td>COAGULATION</td>\n",
       "      <td>immune</td>\n",
       "    </tr>\n",
       "    <tr>\n",
       "      <th>14</th>\n",
       "      <td>COMPLEMENT</td>\n",
       "      <td>immune</td>\n",
       "    </tr>\n",
       "    <tr>\n",
       "      <th>15</th>\n",
       "      <td>INTERFERON_ALPHA_RESPONSE</td>\n",
       "      <td>immune</td>\n",
       "    </tr>\n",
       "    <tr>\n",
       "      <th>16</th>\n",
       "      <td>INTERFERON_GAMMA_RESPONSE</td>\n",
       "      <td>immune</td>\n",
       "    </tr>\n",
       "    <tr>\n",
       "      <th>18</th>\n",
       "      <td>INFLAMMATORY_RESPONSE</td>\n",
       "      <td>immune</td>\n",
       "    </tr>\n",
       "    <tr>\n",
       "      <th>20</th>\n",
       "      <td>CHOLESTEROL_HOMEOSTASIS</td>\n",
       "      <td>metabolic</td>\n",
       "    </tr>\n",
       "    <tr>\n",
       "      <th>21</th>\n",
       "      <td>FATTY_ACID_METABOLISM</td>\n",
       "      <td>metabolic</td>\n",
       "    </tr>\n",
       "    <tr>\n",
       "      <th>22</th>\n",
       "      <td>GLYCOLYSIS</td>\n",
       "      <td>metabolic</td>\n",
       "    </tr>\n",
       "    <tr>\n",
       "      <th>25</th>\n",
       "      <td>XENOBIOTIC_METABOLISM</td>\n",
       "      <td>metabolic</td>\n",
       "    </tr>\n",
       "    <tr>\n",
       "      <th>26</th>\n",
       "      <td>APOPTOSIS</td>\n",
       "      <td>pathway</td>\n",
       "    </tr>\n",
       "    <tr>\n",
       "      <th>27</th>\n",
       "      <td>HYPOXIA</td>\n",
       "      <td>pathway</td>\n",
       "    </tr>\n",
       "    <tr>\n",
       "      <th>31</th>\n",
       "      <td>E2F_TARGETS</td>\n",
       "      <td>proliferation</td>\n",
       "    </tr>\n",
       "    <tr>\n",
       "      <th>32</th>\n",
       "      <td>G2M_CHECKPOINT</td>\n",
       "      <td>proliferation</td>\n",
       "    </tr>\n",
       "    <tr>\n",
       "      <th>33</th>\n",
       "      <td>MYC_TARGETS_V1</td>\n",
       "      <td>proliferation</td>\n",
       "    </tr>\n",
       "    <tr>\n",
       "      <th>34</th>\n",
       "      <td>MYC_TARGETS_V2</td>\n",
       "      <td>proliferation</td>\n",
       "    </tr>\n",
       "    <tr>\n",
       "      <th>35</th>\n",
       "      <td>P53_PATHWAY</td>\n",
       "      <td>proliferation</td>\n",
       "    </tr>\n",
       "    <tr>\n",
       "      <th>36</th>\n",
       "      <td>MITOTIC_SPINDLE</td>\n",
       "      <td>proliferation</td>\n",
       "    </tr>\n",
       "    <tr>\n",
       "      <th>37</th>\n",
       "      <td>ANDROGEN_RESPONSE</td>\n",
       "      <td>signaling</td>\n",
       "    </tr>\n",
       "    <tr>\n",
       "      <th>38</th>\n",
       "      <td>ESTROGEN_RESPONSE_EARLY</td>\n",
       "      <td>signaling</td>\n",
       "    </tr>\n",
       "    <tr>\n",
       "      <th>39</th>\n",
       "      <td>ESTROGEN_RESPONSE_LATE</td>\n",
       "      <td>signaling</td>\n",
       "    </tr>\n",
       "    <tr>\n",
       "      <th>40</th>\n",
       "      <td>IL2_STAT5_SIGNALING</td>\n",
       "      <td>signaling</td>\n",
       "    </tr>\n",
       "    <tr>\n",
       "      <th>41</th>\n",
       "      <td>KRAS_SIGNALING_UP</td>\n",
       "      <td>signaling</td>\n",
       "    </tr>\n",
       "    <tr>\n",
       "      <th>42</th>\n",
       "      <td>KRAS_SIGNALING_DN</td>\n",
       "      <td>signaling</td>\n",
       "    </tr>\n",
       "    <tr>\n",
       "      <th>43</th>\n",
       "      <td>MTORC1_SIGNALING</td>\n",
       "      <td>signaling</td>\n",
       "    </tr>\n",
       "    <tr>\n",
       "      <th>47</th>\n",
       "      <td>TGF_BETA_SIGNALING</td>\n",
       "      <td>signaling</td>\n",
       "    </tr>\n",
       "    <tr>\n",
       "      <th>48</th>\n",
       "      <td>TNFA_SIGNALING_VIA_NFKB</td>\n",
       "      <td>signaling</td>\n",
       "    </tr>\n",
       "  </tbody>\n",
       "</table>\n",
       "</div>"
      ],
      "text/plain": [
       "                                 Name             Process\n",
       "0                     APICAL_JUNCTION  cellular_component\n",
       "1                      APICAL_SURFACE  cellular_component\n",
       "3                        ADIPOGENESIS         development\n",
       "4                        ANGIOGENESIS         development\n",
       "5   EPITHELIAL_MESENCHYMAL_TRANSITION         development\n",
       "7                     SPERMATOGENESIS         development\n",
       "10                     UV_RESPONSE_DN          DNA_damage\n",
       "11                     UV_RESPONSE_UP          DNA_damage\n",
       "13                        COAGULATION              immune\n",
       "14                         COMPLEMENT              immune\n",
       "15          INTERFERON_ALPHA_RESPONSE              immune\n",
       "16          INTERFERON_GAMMA_RESPONSE              immune\n",
       "18              INFLAMMATORY_RESPONSE              immune\n",
       "20            CHOLESTEROL_HOMEOSTASIS           metabolic\n",
       "21              FATTY_ACID_METABOLISM           metabolic\n",
       "22                         GLYCOLYSIS           metabolic\n",
       "25              XENOBIOTIC_METABOLISM           metabolic\n",
       "26                          APOPTOSIS             pathway\n",
       "27                            HYPOXIA             pathway\n",
       "31                        E2F_TARGETS       proliferation\n",
       "32                     G2M_CHECKPOINT       proliferation\n",
       "33                     MYC_TARGETS_V1       proliferation\n",
       "34                     MYC_TARGETS_V2       proliferation\n",
       "35                        P53_PATHWAY       proliferation\n",
       "36                    MITOTIC_SPINDLE       proliferation\n",
       "37                  ANDROGEN_RESPONSE           signaling\n",
       "38            ESTROGEN_RESPONSE_EARLY           signaling\n",
       "39             ESTROGEN_RESPONSE_LATE           signaling\n",
       "40                IL2_STAT5_SIGNALING           signaling\n",
       "41                  KRAS_SIGNALING_UP           signaling\n",
       "42                  KRAS_SIGNALING_DN           signaling\n",
       "43                   MTORC1_SIGNALING           signaling\n",
       "47                 TGF_BETA_SIGNALING           signaling\n",
       "48            TNFA_SIGNALING_VIA_NFKB           signaling"
      ]
     },
     "execution_count": 87,
     "metadata": {},
     "output_type": "execute_result"
    }
   ],
   "source": [
    "hm.sort_values(['Process'], [])"
   ]
  },
  {
   "cell_type": "code",
   "execution_count": 86,
   "metadata": {},
   "outputs": [
    {
     "data": {
      "text/plain": [
       "0              APICAL_JUNCTION\n",
       "1              APICAL_JUNCTION\n",
       "2              APICAL_JUNCTION\n",
       "3              APICAL_JUNCTION\n",
       "4              APICAL_JUNCTION\n",
       "                ...           \n",
       "152         TGF_BETA_SIGNALING\n",
       "153    TNFA_SIGNALING_VIA_NFKB\n",
       "154    TNFA_SIGNALING_VIA_NFKB\n",
       "155    TNFA_SIGNALING_VIA_NFKB\n",
       "156    TNFA_SIGNALING_VIA_NFKB\n",
       "Name: y, Length: 157, dtype: category\n",
       "Categories (34, object): ['APICAL_JUNCTION', 'APICAL_SURFACE', 'ADIPOGENESIS', 'ANGIOGENESIS', ..., 'KRAS_SIGNALING_DN', 'MTORC1_SIGNALING', 'TGF_BETA_SIGNALING', 'TNFA_SIGNALING_VIA_NFKB']"
      ]
     },
     "execution_count": 86,
     "metadata": {},
     "output_type": "execute_result"
    }
   ],
   "source": [
    "df['y']"
   ]
  },
  {
   "cell_type": "code",
   "execution_count": 83,
   "metadata": {},
   "outputs": [],
   "source": [
    "dp = Dotplot(df, 'x', 'y', 'fdr', 'med_tstat')"
   ]
  },
  {
   "cell_type": "code",
   "execution_count": 97,
   "metadata": {},
   "outputs": [
    {
     "name": "stdout",
     "output_type": "stream",
     "text": [
      "Assigned sizes as follows:\n",
      "1.00e-20 -> size 50\n",
      "1.00e-05 -> size 20\n",
      "5.00e-02 -> size 5\n",
      "1.00e+00 -> size 0\n"
     ]
    }
   ],
   "source": [
    "dp.cut_size(bins=[0, 1e-20, 1e-5, 0.05, 1], sizes_out=(0, 5, 20, 50), reverse=True)"
   ]
  },
  {
   "cell_type": "code",
   "execution_count": 98,
   "metadata": {},
   "outputs": [
    {
     "data": {
      "text/plain": [
       "[(1e-20, 50), (1e-05, 20), (0.05, 5), (1, 0)]"
      ]
     },
     "execution_count": 98,
     "metadata": {},
     "output_type": "execute_result"
    }
   ],
   "source": [
    "dp.bins"
   ]
  },
  {
   "cell_type": "code",
   "execution_count": 90,
   "metadata": {},
   "outputs": [],
   "source": [
    "from matplotlib.colors import CenteredNorm"
   ]
  },
  {
   "cell_type": "code",
   "execution_count": 131,
   "metadata": {},
   "outputs": [
    {
     "data": {
      "text/plain": [
       "<matplotlib.colorbar.Colorbar at 0x7f0b76933670>"
      ]
     },
     "execution_count": 131,
     "metadata": {},
     "output_type": "execute_result"
    },
    {
     "data": {
      "image/png": "[encoded data removed]",
      "text/plain": [
       "<Figure size 225x750 with 2 Axes>"
      ]
     },
     "metadata": {
      "needs_background": "light"
     },
     "output_type": "display_data"
    }
   ],
   "source": [
    "plt.style.use('cviz')\n",
    "fig, ax = plt.subplots(figsize=(1.5, 5))\n",
    "\n",
    "sp = ax.scatter(dp.x, dp.y, s=dp.size_cut, c=dp.color_raw, cmap=plt.cm.coolwarm, norm=CenteredNorm(0))\n",
    "dp.set_ticklabels(fontsize='x-small')\n",
    "ax.set_xlim(-0.5, 5.5)\n",
    "leg = ax.legend(handles=dp.get_size_handles(reverse=True, marker_sizes=(4, 7, 9)), bbox_to_anchor=(1, 1, 0.2, 0), fontsize='x-small')\n",
    "leg.get_frame().set_linewidth(0.4)\n",
    "cax = fig.add_axes([1, 0.7, 0.4, 0.03])\n",
    "cax.set_xticks([-2.5, 0, 2.5], [-2.5, 0, 2.5], fontsize='x-small')\n",
    "cax.set_title('Progression stat', loc='left', fontsize='xx-small')\n",
    "fig.colorbar(sp, cax=cax, orientation='horizontal')"
   ]
  },
  {
   "cell_type": "code",
   "execution_count": null,
   "metadata": {},
   "outputs": [],
   "source": []
  }
 ],
 "metadata": {
  "interpreter": {
   "hash": "e8d075b866a6e8bb417e6eedf4c3fd1246316055f9b48a9c795ca2a066087e73"
  },
  "kernelspec": {
   "display_name": "Python 3.9.7 64-bit ('devpack': conda)",
   "language": "python",
   "name": "python3"
  },
  "language_info": {
   "codemirror_mode": {
    "name": "ipython",
    "version": 3
   },
   "file_extension": ".py",
   "mimetype": "text/x-python",
   "name": "python",
   "nbconvert_exporter": "python",
   "pygments_lexer": "ipython3",
   "version": "3.9.7"
  },
  "orig_nbformat": 4
 },
 "nbformat": 4,
 "nbformat_minor": 2
}
