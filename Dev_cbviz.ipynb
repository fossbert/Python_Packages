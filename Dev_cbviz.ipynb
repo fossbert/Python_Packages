{
 "cells": [
  {
   "cell_type": "code",
   "execution_count": null,
   "metadata": {},
   "outputs": [],
   "source": [
    "%load_ext autoreload \n",
    "%autoreload 2"
   ]
  },
  {
   "cell_type": "code",
   "execution_count": null,
   "metadata": {},
   "outputs": [],
   "source": [
    "import numpy as np \n",
    "import pandas as pd \n",
    "import matplotlib.pyplot as plt "
   ]
  },
  {
   "cell_type": "markdown",
   "metadata": {},
   "source": [
    "# Data classes"
   ]
  },
  {
   "cell_type": "code",
   "execution_count": null,
   "metadata": {},
   "outputs": [],
   "source": [
    "from cbviz.cbviz.utils import DataNum"
   ]
  },
  {
   "cell_type": "code",
   "execution_count": null,
   "metadata": {},
   "outputs": [],
   "source": [
    "all = pd.read_csv('./Metabolite-logFC-Signatures.csv', index_col=0)\n",
    "df = all.iloc[:, [0,2]].copy()\n",
    "\n",
    "dn = DataNum(df, ncols=2)"
   ]
  },
  {
   "cell_type": "code",
   "execution_count": null,
   "metadata": {},
   "outputs": [],
   "source": [
    "expected = np.repeat('floating', 1)\n",
    "observed = df.apply(infer_dtype).values\n",
    "type(expected)"
   ]
  },
  {
   "cell_type": "code",
   "execution_count": null,
   "metadata": {},
   "outputs": [],
   "source": [
    "s1 = np.random.permutation(np.repeat(['WT', 'Balanced', 'Minor', 'Major'], (30, 80, 50, 30)))\n",
    "s2 = np.repeat(['Basal-like', \"Classical\"], (57, 133))\n",
    "x = [y for x in [np.random.normal(loc=i, size=s) for i, s in zip((2, -2) , (57, 133)) ] for y in x]\n",
    "\n",
    "df2 = pd.DataFrame({\"x\" : x, \"s1\" : s1, \"s2\" : s2})\n",
    "df2['s1'] = df2['s1'].astype('category')"
   ]
  },
  {
   "cell_type": "code",
   "execution_count": null,
   "metadata": {},
   "outputs": [],
   "source": [
    "from cbviz.cbviz.utils import DataMix"
   ]
  },
  {
   "cell_type": "code",
   "execution_count": null,
   "metadata": {},
   "outputs": [],
   "source": [
    "DataMix(df2, ncat=2)"
   ]
  },
  {
   "cell_type": "markdown",
   "metadata": {},
   "source": [
    "# KDE related "
   ]
  },
  {
   "cell_type": "markdown",
   "metadata": {},
   "source": [
    "## Split violin "
   ]
  },
  {
   "cell_type": "code",
   "execution_count": null,
   "metadata": {},
   "outputs": [],
   "source": [
    "s1 = np.random.permutation(np.repeat(['WT', 'Balanced', 'Minor', 'Major'], (30, 80, 50, 30)))\n",
    "s2 = np.repeat(['Basal-like', \"Classical\"], (57, 133))\n",
    "x = [y for x in [np.random.normal(loc=i, size=s) for i, s in zip((2, -2) , (57, 133)) ] for y in x]\n",
    "\n",
    "data = pd.DataFrame({\"x\" : x, \"s1\" : s1, \"s2\" : s2})"
   ]
  },
  {
   "cell_type": "code",
   "execution_count": null,
   "metadata": {},
   "outputs": [],
   "source": [
    "from cbviz.cbviz.kdetools import SplitViolin"
   ]
  },
  {
   "cell_type": "code",
   "execution_count": null,
   "metadata": {},
   "outputs": [],
   "source": [
    "sp = SplitViolin(data, s1_order=['WT', 'Balanced', 'Minor', 'Major'], s2_order=['Classical', 'Basal-like'])"
   ]
  },
  {
   "cell_type": "code",
   "execution_count": null,
   "metadata": {},
   "outputs": [],
   "source": [
    "plt.style.use('cviz')\n",
    "fig, ax = plt.subplots(figsize=(3,2.5))\n",
    "\n",
    "for kde in sp.get_violins(colors=('cornflowerblue', 'salmon')):\n",
    "\n",
    "    ax.fill_betweenx(kde.density, kde.grid, facecolor=kde.color, alpha=0.5)\n",
    "    ax.plot(kde.mode.ycoords, kde.mode.xcoords, lw=0.5, c='k')\n",
    "\n",
    "ax.set_yticks(*sp.get_s1_ticks())\n",
    "\n",
    "leg = ax.legend(handles=sp.get_s2_legend(colors=('cornflowerblue', 'salmon')), \n",
    "                loc='upper left', handlelength=0.4,\n",
    "                bbox_to_anchor=(0, 1.0, 0, 0.15), ncol=2, fontsize='x-small')\n",
    "leg.get_frame().set_linewidth(0.2)\n",
    "\n",
    "[ax.axhline(i, lw=0.5, ls=\":\", c='0.5') for i in (sp.get_s1_ticks()[0])]\n",
    "ax.set_xlabel(sp.ylabel)\n",
    "# fig.savefig('./test/Test-SplitViolin.pdf')"
   ]
  },
  {
   "cell_type": "markdown",
   "metadata": {},
   "source": [
    "## Ridge plot"
   ]
  },
  {
   "cell_type": "code",
   "execution_count": null,
   "metadata": {},
   "outputs": [],
   "source": [
    "s1 = np.repeat(['WT', 'Balanced', 'Minor', 'Major'], (30, 80, 50, 30))\n",
    "x = [y for x in [np.random.normal(loc=i, size=s) for i, s in zip(range(4) , (30, 80, 50, 30)) ] for y in x]\n",
    "\n",
    "data = pd.DataFrame({\"x\" : x, \"s1\" : s1})\n",
    "data"
   ]
  },
  {
   "cell_type": "code",
   "execution_count": null,
   "metadata": {},
   "outputs": [],
   "source": [
    "from cbviz.cbviz.kdetools import Ridge"
   ]
  },
  {
   "cell_type": "code",
   "execution_count": null,
   "metadata": {},
   "outputs": [],
   "source": [
    "rp = Ridge(data, s1_order=['WT','Balanced', 'Minor', 'Major'], scale_factor=1.2)"
   ]
  },
  {
   "cell_type": "code",
   "execution_count": null,
   "metadata": {},
   "outputs": [],
   "source": [
    "plt.style.use('cviz')\n",
    "fig, ax = plt.subplots(figsize=(3,2.5))\n",
    "\n",
    "for kde in rp.get_kdes():\n",
    "\n",
    "    ax.fill_betweenx(kde.density, kde.grid, facecolor=kde.color, alpha=0.3)\n",
    "    ax.plot(kde.mode.ycoords, kde.mode.xcoords, lw=0.1, c='k')\n",
    "\n",
    "ax.set_yticks(*rp.get_s1_ticks())\n",
    "ax.set_xlabel(rp.ylabel)\n",
    "[ax.axhline(i, ls=':', lw=0.25, c='0.15') for i in rp.get_s1_ticks()[0]]"
   ]
  },
  {
   "cell_type": "markdown",
   "metadata": {},
   "source": [
    "# Scatterplots"
   ]
  },
  {
   "cell_type": "markdown",
   "metadata": {},
   "source": [
    "## XYview"
   ]
  },
  {
   "cell_type": "code",
   "execution_count": null,
   "metadata": {},
   "outputs": [],
   "source": [
    "metabolites = ['L-Cystine', 'Cysteine', 'NADH']"
   ]
  },
  {
   "cell_type": "code",
   "execution_count": null,
   "metadata": {},
   "outputs": [],
   "source": [
    "all = pd.read_csv('./Metabolite-logFC-Signatures.csv', index_col=0)\n",
    "df = all.iloc[:, [0,2]].copy()"
   ]
  },
  {
   "cell_type": "code",
   "execution_count": null,
   "metadata": {},
   "outputs": [],
   "source": [
    "from cbviz.cbviz.xytools import XYview\n",
    "from adjustText import adjust_text"
   ]
  },
  {
   "cell_type": "code",
   "execution_count": null,
   "metadata": {},
   "outputs": [],
   "source": [
    "cond = df.index.isin(metabolites)\n",
    "xv = XYview(df, highlight=metabolites, s=np.where(cond, 40, 10), c=np.where(cond, 'r', '.5'), alpha=1)"
   ]
  },
  {
   "cell_type": "code",
   "execution_count": null,
   "metadata": {},
   "outputs": [],
   "source": [
    "!pip install adjustText"
   ]
  },
  {
   "cell_type": "code",
   "execution_count": null,
   "metadata": {},
   "outputs": [],
   "source": [
    "plt.style.use('cviz')\n",
    "\n",
    "fig, ax = plt.subplots(figsize=(3,3))\n",
    "\n",
    "ax.scatter(xv.x, xv.y, **xv.scatter_kw)\n",
    "xv.add_correlation(fontsize='small')\n",
    "xv.add_reg_line(color='cornflowerblue', lw=1)\n",
    "xv.label_dots(adjust=True, fontsize='small')\n",
    "xv.label_xy()\n",
    "fig.savefig('./test/Test-XYview.pdf')"
   ]
  },
  {
   "cell_type": "markdown",
   "metadata": {},
   "source": [
    "## XYpairs"
   ]
  },
  {
   "cell_type": "code",
   "execution_count": null,
   "metadata": {},
   "outputs": [],
   "source": [
    "from cbviz.cbviz.xytools import XYpairs"
   ]
  },
  {
   "cell_type": "code",
   "execution_count": null,
   "metadata": {},
   "outputs": [],
   "source": [
    "metabolites = ['L-Cystine', 'Cysteine', 'NADH']"
   ]
  },
  {
   "cell_type": "code",
   "execution_count": null,
   "metadata": {},
   "outputs": [],
   "source": [
    "all = pd.read_csv('./Metabolite-logFC-Signatures.csv', index_col=0)"
   ]
  },
  {
   "cell_type": "code",
   "execution_count": null,
   "metadata": {},
   "outputs": [],
   "source": [
    "np.ptp(all.values.ravel()) * 0.02"
   ]
  },
  {
   "cell_type": "code",
   "execution_count": null,
   "metadata": {},
   "outputs": [],
   "source": [
    "all = all.iloc[:, [1,0,3,2]]"
   ]
  },
  {
   "cell_type": "code",
   "execution_count": null,
   "metadata": {},
   "outputs": [],
   "source": [
    "cond = all.index.isin(metabolites)\n",
    "xp = XYpairs(all, lower_tri=False)"
   ]
  },
  {
   "cell_type": "code",
   "execution_count": null,
   "metadata": {},
   "outputs": [],
   "source": [
    "plt.style.use('cviz')\n",
    "\n",
    "fig = plt.figure(figsize=(5, 5))\n",
    "\n",
    "gs = xp.add_gridspec(hspace=0.3, wspace=0.4)\n",
    "\n",
    "pairs = xp.get_pairs(highlight=metabolites, s=np.where(cond, 40, 10), c=np.where(cond, 'r', '0.5'), alpha=np.where(cond, 1, 0.5))\n",
    "for pair in pairs:\n",
    "    ax = fig.add_subplot(gs[pair.position])\n",
    "    ax.tick_params(labelsize='xx-small', pad=0)\n",
    "    xv = pair.XYview\n",
    "    ax.scatter(xv.x, xv.y, **xv.scatter_kw)\n",
    "    xv.add_reg_line()\n",
    "    xv.label_dots(adjust=True, fontsize='x-small')\n",
    "    if pair.combo == ['FG_effect_sgNT', 'sgARNTL2_effect_FG']:\n",
    "        xv.add_correlation(loc=1)\n",
    "    else:\n",
    "        xv.add_correlation(loc=4)\n",
    "    xv.label_xy(fontsize='x-small', outer=True)"
   ]
  },
  {
   "cell_type": "markdown",
   "metadata": {},
   "source": [
    "## XYzoom"
   ]
  },
  {
   "cell_type": "code",
   "execution_count": null,
   "metadata": {},
   "outputs": [],
   "source": [
    "metabolites = ['L-Cystine', 'Cysteine', 'NADH']\n",
    "all = pd.read_csv('./Metabolite-logFC-Signatures.csv', index_col=0)\n",
    "df = all.iloc[:, [0,2]].copy()"
   ]
  },
  {
   "cell_type": "code",
   "execution_count": null,
   "metadata": {},
   "outputs": [],
   "source": [
    "from cbviz.cbviz.xytools import XYzoom"
   ]
  },
  {
   "cell_type": "code",
   "execution_count": null,
   "metadata": {},
   "outputs": [],
   "source": [
    "xz = XYzoom(df, ('min', 0), ('min', 0))"
   ]
  },
  {
   "cell_type": "code",
   "execution_count": null,
   "metadata": {},
   "outputs": [],
   "source": [
    "top5 = xz.zoom_data.mean(1).nsmallest(5).index.to_list()\n",
    "cond = xz.data.df.index.isin(top5)"
   ]
  },
  {
   "cell_type": "code",
   "execution_count": null,
   "metadata": {},
   "outputs": [],
   "source": [
    "top5"
   ]
  },
  {
   "cell_type": "code",
   "execution_count": null,
   "metadata": {},
   "outputs": [],
   "source": [
    "plt.style.use('cviz')\n",
    "\n",
    "xz = XYzoom(df, ('min', 0), ('min', 0))\n",
    "\n",
    "top5 = xz.zoom_data.mean(1).nsmallest(5).index.to_list()\n",
    "cond = xz.data.df.index.isin(top5)\n",
    "\n",
    "fig, (ax1, ax2) = plt.subplots(1, 2, figsize=(4,2))\n",
    "\n",
    "ax2.scatter(xz.x, xz.y, **xz.scatter_kw)\n",
    "xz.add_xy_line(ax2)\n",
    "xz.add_rect(ax=ax2)\n",
    "ax1.scatter(xz.x, xz.y, s=np.where(cond, 20, 5), c=np.where(cond, 'r', '.5'), alpha=0.5, linewidths=0)\n",
    "xz.connect(ax2, ax1, 'left', lw=0.5, ls=':')\n",
    "xz.label_xy(ax=ax1, outer=False, fontsize='x-small')\n",
    "xz.label_dots(top5, ax=ax1, adjust=True, adjust_kwargs={'arrowprops':{'arrowstyle':'-', 'lw':0.2}}, fontsize=4)"
   ]
  },
  {
   "cell_type": "markdown",
   "metadata": {},
   "source": [
    "# Boxplots"
   ]
  },
  {
   "cell_type": "markdown",
   "metadata": {},
   "source": [
    "## Box plus strip plot"
   ]
  },
  {
   "cell_type": "code",
   "execution_count": null,
   "metadata": {},
   "outputs": [],
   "source": [
    "s1 = np.repeat(['WT', 'Balanced', 'Minor', 'Major'], (30, 80, 50, 30))\n",
    "x = [y for x in [np.random.normal(loc=i, size=s) for i, s in zip(range(4) , (30, 80, 50, 30)) ] for y in x]\n",
    "\n",
    "data = pd.DataFrame({\"x\" : x, \"s1\" : s1})\n",
    "data"
   ]
  },
  {
   "cell_type": "code",
   "execution_count": null,
   "metadata": {},
   "outputs": [],
   "source": [
    "from cbviz.cbviz.bptools import StripBox"
   ]
  },
  {
   "cell_type": "code",
   "execution_count": null,
   "metadata": {},
   "outputs": [],
   "source": [
    "sb = StripBox(data, p_method_global='Anova', s1_order=['WT', 'Balanced', 'Minor', 'Major'])"
   ]
  },
  {
   "cell_type": "code",
   "execution_count": null,
   "metadata": {},
   "outputs": [],
   "source": [
    "plt.style.use('cviz')\n",
    "\n",
    "fig, ax = plt.subplots(figsize=(2.5,2.5))\n",
    "\n",
    "sb.boxplt()\n",
    "sb.add_strips(s=20, alpha=0.50, linewidths=0)\n",
    "sb.add_global_p(fontsize='xx-small')"
   ]
  },
  {
   "cell_type": "code",
   "execution_count": null,
   "metadata": {},
   "outputs": [],
   "source": [
    "sb.calc_pairwise_p(adj_method='fdr_bh')"
   ]
  },
  {
   "cell_type": "code",
   "execution_count": null,
   "metadata": {},
   "outputs": [],
   "source": [
    "plt.style.use('cviz')\n",
    "\n",
    "fig, ax = plt.subplots(figsize=(3, 2.5))\n",
    "\n",
    "sb.boxplt()\n",
    "sb.add_strips(s=20, alpha=0.50, linewidths=0)\n",
    "sb.add_pair_p(groupA='WT', groupB='Minor', yoffset=0.5, cut_p=True)"
   ]
  },
  {
   "cell_type": "code",
   "execution_count": null,
   "metadata": {},
   "outputs": [],
   "source": [
    "from scipy.stats import f_oneway, ttest_ind"
   ]
  },
  {
   "cell_type": "code",
   "execution_count": null,
   "metadata": {},
   "outputs": [],
   "source": [
    "x, y = [np.random.normal(i, size=100) for i in range(2)]"
   ]
  },
  {
   "cell_type": "code",
   "execution_count": null,
   "metadata": {},
   "outputs": [],
   "source": [
    "data['s1'] = data['s1'].astype('category')"
   ]
  },
  {
   "cell_type": "code",
   "execution_count": null,
   "metadata": {},
   "outputs": [],
   "source": [
    "from pandas.api.types import is_categorical_dtype\n",
    "def cat_cleaner(series):\n",
    "    if is_categorical_dtype(series):\n",
    "        return series.cat.remove_unused_categories()\n",
    "    else:\n",
    "        return series"
   ]
  },
  {
   "cell_type": "code",
   "execution_count": null,
   "metadata": {},
   "outputs": [],
   "source": [
    "data[data['s1'].isin(['WT', 'Balanced'])]['s1']#.apply(cat_cleaner)"
   ]
  },
  {
   "cell_type": "code",
   "execution_count": null,
   "metadata": {},
   "outputs": [],
   "source": [
    "data[data['s1'].isin(['WT', 'Balanced'])].apply(cat_cleaner)['s1']"
   ]
  },
  {
   "cell_type": "code",
   "execution_count": null,
   "metadata": {},
   "outputs": [],
   "source": []
  },
  {
   "cell_type": "markdown",
   "metadata": {},
   "source": [
    "# Dotplot"
   ]
  },
  {
   "cell_type": "code",
   "execution_count": 6,
   "metadata": {},
   "outputs": [
    {
     "data": {
      "text/plain": [
       "Index(['x', 'y', 'fdr', 'med_tstat'], dtype='object')"
      ]
     },
     "execution_count": 6,
     "metadata": {},
     "output_type": "execute_result"
    }
   ],
   "source": [
    "df = pd.read_csv('./Dotplot_input.csv')\n",
    "df.columns"
   ]
  },
  {
   "cell_type": "code",
   "execution_count": null,
   "metadata": {},
   "outputs": [],
   "source": [
    "hm = pd.read_table('/home/carlo/Dokumente/Data/HALLMARK_related/Hallmark_Sets_PerCategory.tsv')\n",
    "hm = hm[hm['Name'].isin(df['y'])]\n",
    "df['y'] = df['y'].astype('category').cat.reorder_categories(hm['Name'].to_list())"
   ]
  },
  {
   "cell_type": "code",
   "execution_count": 7,
   "metadata": {},
   "outputs": [],
   "source": [
    "fdr = df.pivot(index='y', columns='x', values='fdr').fillna(1)"
   ]
  },
  {
   "cell_type": "code",
   "execution_count": 13,
   "metadata": {},
   "outputs": [
    {
     "data": {
      "text/html": [
       "<div>\n",
       "<style scoped>\n",
       "    .dataframe tbody tr th:only-of-type {\n",
       "        vertical-align: middle;\n",
       "    }\n",
       "\n",
       "    .dataframe tbody tr th {\n",
       "        vertical-align: top;\n",
       "    }\n",
       "\n",
       "    .dataframe thead th {\n",
       "        text-align: right;\n",
       "    }\n",
       "</style>\n",
       "<table border=\"1\" class=\"dataframe\">\n",
       "  <thead>\n",
       "    <tr style=\"text-align: right;\">\n",
       "      <th>x</th>\n",
       "      <th>G1</th>\n",
       "      <th>G2</th>\n",
       "      <th>G3</th>\n",
       "      <th>G4</th>\n",
       "      <th>G5</th>\n",
       "      <th>G6</th>\n",
       "    </tr>\n",
       "    <tr>\n",
       "      <th>y</th>\n",
       "      <th></th>\n",
       "      <th></th>\n",
       "      <th></th>\n",
       "      <th></th>\n",
       "      <th></th>\n",
       "      <th></th>\n",
       "    </tr>\n",
       "  </thead>\n",
       "  <tbody>\n",
       "    <tr>\n",
       "      <th>ADIPOGENESIS</th>\n",
       "      <td>3.767007e-04</td>\n",
       "      <td>1.940215e-02</td>\n",
       "      <td>1.124407e-03</td>\n",
       "      <td>1.000000e+00</td>\n",
       "      <td>1.320872e-04</td>\n",
       "      <td>1.000000</td>\n",
       "    </tr>\n",
       "    <tr>\n",
       "      <th>ANDROGEN_RESPONSE</th>\n",
       "      <td>1.000000e+00</td>\n",
       "      <td>1.000000e+00</td>\n",
       "      <td>6.162847e-07</td>\n",
       "      <td>7.194684e-03</td>\n",
       "      <td>3.189602e-07</td>\n",
       "      <td>1.000000</td>\n",
       "    </tr>\n",
       "    <tr>\n",
       "      <th>ANGIOGENESIS</th>\n",
       "      <td>1.919173e-02</td>\n",
       "      <td>3.733542e-02</td>\n",
       "      <td>4.377584e-02</td>\n",
       "      <td>1.000000e+00</td>\n",
       "      <td>1.157737e-03</td>\n",
       "      <td>0.013327</td>\n",
       "    </tr>\n",
       "    <tr>\n",
       "      <th>APICAL_JUNCTION</th>\n",
       "      <td>1.538726e-04</td>\n",
       "      <td>4.630886e-08</td>\n",
       "      <td>6.965650e-10</td>\n",
       "      <td>2.064868e-06</td>\n",
       "      <td>9.833112e-06</td>\n",
       "      <td>0.006818</td>\n",
       "    </tr>\n",
       "    <tr>\n",
       "      <th>APICAL_SURFACE</th>\n",
       "      <td>1.000000e+00</td>\n",
       "      <td>1.000000e+00</td>\n",
       "      <td>3.122347e-05</td>\n",
       "      <td>2.643221e-02</td>\n",
       "      <td>1.920122e-03</td>\n",
       "      <td>1.000000</td>\n",
       "    </tr>\n",
       "    <tr>\n",
       "      <th>APOPTOSIS</th>\n",
       "      <td>3.238057e-04</td>\n",
       "      <td>2.585901e-03</td>\n",
       "      <td>6.048752e-06</td>\n",
       "      <td>1.838375e-04</td>\n",
       "      <td>8.583180e-05</td>\n",
       "      <td>1.000000</td>\n",
       "    </tr>\n",
       "    <tr>\n",
       "      <th>CHOLESTEROL_HOMEOSTASIS</th>\n",
       "      <td>1.000000e+00</td>\n",
       "      <td>1.000000e+00</td>\n",
       "      <td>8.666621e-04</td>\n",
       "      <td>2.643221e-02</td>\n",
       "      <td>1.527341e-02</td>\n",
       "      <td>0.024813</td>\n",
       "    </tr>\n",
       "    <tr>\n",
       "      <th>COAGULATION</th>\n",
       "      <td>1.000000e+00</td>\n",
       "      <td>2.689477e-02</td>\n",
       "      <td>1.751366e-08</td>\n",
       "      <td>3.912711e-02</td>\n",
       "      <td>3.137800e-05</td>\n",
       "      <td>0.013327</td>\n",
       "    </tr>\n",
       "    <tr>\n",
       "      <th>COMPLEMENT</th>\n",
       "      <td>1.000000e+00</td>\n",
       "      <td>6.335349e-03</td>\n",
       "      <td>6.371552e-06</td>\n",
       "      <td>1.000000e+00</td>\n",
       "      <td>1.900031e-04</td>\n",
       "      <td>1.000000</td>\n",
       "    </tr>\n",
       "    <tr>\n",
       "      <th>E2F_TARGETS</th>\n",
       "      <td>1.462642e-16</td>\n",
       "      <td>6.544159e-05</td>\n",
       "      <td>5.661871e-06</td>\n",
       "      <td>2.523119e-41</td>\n",
       "      <td>3.672083e-18</td>\n",
       "      <td>0.000007</td>\n",
       "    </tr>\n",
       "    <tr>\n",
       "      <th>EPITHELIAL_MESENCHYMAL_TRANSITION</th>\n",
       "      <td>5.340720e-07</td>\n",
       "      <td>7.506143e-07</td>\n",
       "      <td>2.940036e-15</td>\n",
       "      <td>1.177059e-06</td>\n",
       "      <td>2.605347e-14</td>\n",
       "      <td>0.000264</td>\n",
       "    </tr>\n",
       "    <tr>\n",
       "      <th>ESTROGEN_RESPONSE_EARLY</th>\n",
       "      <td>1.862039e-03</td>\n",
       "      <td>7.506143e-07</td>\n",
       "      <td>1.874143e-15</td>\n",
       "      <td>1.058775e-02</td>\n",
       "      <td>2.062573e-05</td>\n",
       "      <td>0.000504</td>\n",
       "    </tr>\n",
       "    <tr>\n",
       "      <th>ESTROGEN_RESPONSE_LATE</th>\n",
       "      <td>2.507128e-03</td>\n",
       "      <td>5.797084e-05</td>\n",
       "      <td>2.859157e-15</td>\n",
       "      <td>4.806669e-07</td>\n",
       "      <td>8.430357e-07</td>\n",
       "      <td>0.000845</td>\n",
       "    </tr>\n",
       "    <tr>\n",
       "      <th>FATTY_ACID_METABOLISM</th>\n",
       "      <td>1.745228e-02</td>\n",
       "      <td>6.335349e-03</td>\n",
       "      <td>7.473783e-03</td>\n",
       "      <td>7.194684e-03</td>\n",
       "      <td>1.834346e-03</td>\n",
       "      <td>1.000000</td>\n",
       "    </tr>\n",
       "    <tr>\n",
       "      <th>G2M_CHECKPOINT</th>\n",
       "      <td>1.742656e-15</td>\n",
       "      <td>7.506143e-07</td>\n",
       "      <td>3.145563e-08</td>\n",
       "      <td>9.163384e-40</td>\n",
       "      <td>1.605783e-20</td>\n",
       "      <td>0.000327</td>\n",
       "    </tr>\n",
       "    <tr>\n",
       "      <th>GLYCOLYSIS</th>\n",
       "      <td>1.032137e-04</td>\n",
       "      <td>1.699307e-05</td>\n",
       "      <td>1.950794e-10</td>\n",
       "      <td>4.218198e-09</td>\n",
       "      <td>2.580046e-10</td>\n",
       "      <td>0.000057</td>\n",
       "    </tr>\n",
       "    <tr>\n",
       "      <th>HYPOXIA</th>\n",
       "      <td>6.413758e-03</td>\n",
       "      <td>9.180260e-04</td>\n",
       "      <td>1.251424e-08</td>\n",
       "      <td>7.727363e-06</td>\n",
       "      <td>3.189602e-07</td>\n",
       "      <td>0.010011</td>\n",
       "    </tr>\n",
       "    <tr>\n",
       "      <th>IL2_STAT5_SIGNALING</th>\n",
       "      <td>4.727153e-02</td>\n",
       "      <td>4.777956e-02</td>\n",
       "      <td>5.852261e-05</td>\n",
       "      <td>1.583871e-02</td>\n",
       "      <td>7.419797e-03</td>\n",
       "      <td>1.000000</td>\n",
       "    </tr>\n",
       "    <tr>\n",
       "      <th>INFLAMMATORY_RESPONSE</th>\n",
       "      <td>1.000000e+00</td>\n",
       "      <td>1.021787e-03</td>\n",
       "      <td>5.933693e-08</td>\n",
       "      <td>1.177059e-06</td>\n",
       "      <td>1.206504e-09</td>\n",
       "      <td>1.000000</td>\n",
       "    </tr>\n",
       "    <tr>\n",
       "      <th>INTERFERON_ALPHA_RESPONSE</th>\n",
       "      <td>1.000000e+00</td>\n",
       "      <td>1.000000e+00</td>\n",
       "      <td>1.000000e+00</td>\n",
       "      <td>3.590803e-14</td>\n",
       "      <td>6.238302e-10</td>\n",
       "      <td>1.000000</td>\n",
       "    </tr>\n",
       "    <tr>\n",
       "      <th>INTERFERON_GAMMA_RESPONSE</th>\n",
       "      <td>1.000000e+00</td>\n",
       "      <td>1.000000e+00</td>\n",
       "      <td>1.000000e+00</td>\n",
       "      <td>5.357853e-10</td>\n",
       "      <td>3.189602e-07</td>\n",
       "      <td>1.000000</td>\n",
       "    </tr>\n",
       "    <tr>\n",
       "      <th>KRAS_SIGNALING_DN</th>\n",
       "      <td>5.759626e-03</td>\n",
       "      <td>1.000000e+00</td>\n",
       "      <td>1.861275e-04</td>\n",
       "      <td>1.000000e+00</td>\n",
       "      <td>2.247711e-04</td>\n",
       "      <td>0.001841</td>\n",
       "    </tr>\n",
       "    <tr>\n",
       "      <th>KRAS_SIGNALING_UP</th>\n",
       "      <td>1.000000e+00</td>\n",
       "      <td>1.021787e-03</td>\n",
       "      <td>2.940036e-15</td>\n",
       "      <td>1.277360e-03</td>\n",
       "      <td>1.138141e-07</td>\n",
       "      <td>0.047543</td>\n",
       "    </tr>\n",
       "    <tr>\n",
       "      <th>MITOTIC_SPINDLE</th>\n",
       "      <td>3.137090e-04</td>\n",
       "      <td>1.202408e-06</td>\n",
       "      <td>2.964529e-07</td>\n",
       "      <td>1.378887e-12</td>\n",
       "      <td>1.163028e-09</td>\n",
       "      <td>0.019233</td>\n",
       "    </tr>\n",
       "    <tr>\n",
       "      <th>MTORC1_SIGNALING</th>\n",
       "      <td>2.765025e-11</td>\n",
       "      <td>3.080611e-05</td>\n",
       "      <td>1.102593e-08</td>\n",
       "      <td>1.915974e-11</td>\n",
       "      <td>1.175190e-09</td>\n",
       "      <td>0.001562</td>\n",
       "    </tr>\n",
       "    <tr>\n",
       "      <th>MYC_TARGETS_V1</th>\n",
       "      <td>4.792734e-09</td>\n",
       "      <td>6.335349e-03</td>\n",
       "      <td>1.235226e-04</td>\n",
       "      <td>1.898667e-13</td>\n",
       "      <td>1.086858e-06</td>\n",
       "      <td>0.000715</td>\n",
       "    </tr>\n",
       "    <tr>\n",
       "      <th>MYC_TARGETS_V2</th>\n",
       "      <td>2.180914e-02</td>\n",
       "      <td>1.000000e+00</td>\n",
       "      <td>1.000000e+00</td>\n",
       "      <td>7.870788e-03</td>\n",
       "      <td>2.864946e-02</td>\n",
       "      <td>1.000000</td>\n",
       "    </tr>\n",
       "    <tr>\n",
       "      <th>P53_PATHWAY</th>\n",
       "      <td>1.000000e+00</td>\n",
       "      <td>5.901273e-04</td>\n",
       "      <td>1.165296e-04</td>\n",
       "      <td>5.945250e-03</td>\n",
       "      <td>3.514717e-04</td>\n",
       "      <td>0.019233</td>\n",
       "    </tr>\n",
       "    <tr>\n",
       "      <th>SPERMATOGENESIS</th>\n",
       "      <td>1.000000e+00</td>\n",
       "      <td>1.000000e+00</td>\n",
       "      <td>1.000000e+00</td>\n",
       "      <td>4.339501e-03</td>\n",
       "      <td>1.722764e-02</td>\n",
       "      <td>0.013327</td>\n",
       "    </tr>\n",
       "    <tr>\n",
       "      <th>TGF_BETA_SIGNALING</th>\n",
       "      <td>1.000000e+00</td>\n",
       "      <td>5.882505e-04</td>\n",
       "      <td>1.797663e-02</td>\n",
       "      <td>2.643221e-02</td>\n",
       "      <td>1.000000e+00</td>\n",
       "      <td>1.000000</td>\n",
       "    </tr>\n",
       "    <tr>\n",
       "      <th>TNFA_SIGNALING_VIA_NFKB</th>\n",
       "      <td>1.000000e+00</td>\n",
       "      <td>7.804640e-08</td>\n",
       "      <td>3.770096e-08</td>\n",
       "      <td>7.767872e-04</td>\n",
       "      <td>1.400464e-06</td>\n",
       "      <td>1.000000</td>\n",
       "    </tr>\n",
       "    <tr>\n",
       "      <th>UV_RESPONSE_DN</th>\n",
       "      <td>3.099970e-03</td>\n",
       "      <td>5.882505e-04</td>\n",
       "      <td>1.296755e-10</td>\n",
       "      <td>2.754024e-03</td>\n",
       "      <td>8.583180e-05</td>\n",
       "      <td>0.019233</td>\n",
       "    </tr>\n",
       "    <tr>\n",
       "      <th>UV_RESPONSE_UP</th>\n",
       "      <td>3.099970e-03</td>\n",
       "      <td>2.327328e-02</td>\n",
       "      <td>4.769050e-03</td>\n",
       "      <td>2.643221e-02</td>\n",
       "      <td>1.000000e+00</td>\n",
       "      <td>1.000000</td>\n",
       "    </tr>\n",
       "    <tr>\n",
       "      <th>XENOBIOTIC_METABOLISM</th>\n",
       "      <td>1.000000e+00</td>\n",
       "      <td>9.839003e-04</td>\n",
       "      <td>3.525024e-05</td>\n",
       "      <td>1.000000e+00</td>\n",
       "      <td>1.605672e-05</td>\n",
       "      <td>0.034391</td>\n",
       "    </tr>\n",
       "  </tbody>\n",
       "</table>\n",
       "</div>"
      ],
      "text/plain": [
       "x                                            G1            G2            G3  \\\n",
       "y                                                                             \n",
       "ADIPOGENESIS                       3.767007e-04  1.940215e-02  1.124407e-03   \n",
       "ANDROGEN_RESPONSE                  1.000000e+00  1.000000e+00  6.162847e-07   \n",
       "ANGIOGENESIS                       1.919173e-02  3.733542e-02  4.377584e-02   \n",
       "APICAL_JUNCTION                    1.538726e-04  4.630886e-08  6.965650e-10   \n",
       "APICAL_SURFACE                     1.000000e+00  1.000000e+00  3.122347e-05   \n",
       "APOPTOSIS                          3.238057e-04  2.585901e-03  6.048752e-06   \n",
       "CHOLESTEROL_HOMEOSTASIS            1.000000e+00  1.000000e+00  8.666621e-04   \n",
       "COAGULATION                        1.000000e+00  2.689477e-02  1.751366e-08   \n",
       "COMPLEMENT                         1.000000e+00  6.335349e-03  6.371552e-06   \n",
       "E2F_TARGETS                        1.462642e-16  6.544159e-05  5.661871e-06   \n",
       "EPITHELIAL_MESENCHYMAL_TRANSITION  5.340720e-07  7.506143e-07  2.940036e-15   \n",
       "ESTROGEN_RESPONSE_EARLY            1.862039e-03  7.506143e-07  1.874143e-15   \n",
       "ESTROGEN_RESPONSE_LATE             2.507128e-03  5.797084e-05  2.859157e-15   \n",
       "FATTY_ACID_METABOLISM              1.745228e-02  6.335349e-03  7.473783e-03   \n",
       "G2M_CHECKPOINT                     1.742656e-15  7.506143e-07  3.145563e-08   \n",
       "GLYCOLYSIS                         1.032137e-04  1.699307e-05  1.950794e-10   \n",
       "HYPOXIA                            6.413758e-03  9.180260e-04  1.251424e-08   \n",
       "IL2_STAT5_SIGNALING                4.727153e-02  4.777956e-02  5.852261e-05   \n",
       "INFLAMMATORY_RESPONSE              1.000000e+00  1.021787e-03  5.933693e-08   \n",
       "INTERFERON_ALPHA_RESPONSE          1.000000e+00  1.000000e+00  1.000000e+00   \n",
       "INTERFERON_GAMMA_RESPONSE          1.000000e+00  1.000000e+00  1.000000e+00   \n",
       "KRAS_SIGNALING_DN                  5.759626e-03  1.000000e+00  1.861275e-04   \n",
       "KRAS_SIGNALING_UP                  1.000000e+00  1.021787e-03  2.940036e-15   \n",
       "MITOTIC_SPINDLE                    3.137090e-04  1.202408e-06  2.964529e-07   \n",
       "MTORC1_SIGNALING                   2.765025e-11  3.080611e-05  1.102593e-08   \n",
       "MYC_TARGETS_V1                     4.792734e-09  6.335349e-03  1.235226e-04   \n",
       "MYC_TARGETS_V2                     2.180914e-02  1.000000e+00  1.000000e+00   \n",
       "P53_PATHWAY                        1.000000e+00  5.901273e-04  1.165296e-04   \n",
       "SPERMATOGENESIS                    1.000000e+00  1.000000e+00  1.000000e+00   \n",
       "TGF_BETA_SIGNALING                 1.000000e+00  5.882505e-04  1.797663e-02   \n",
       "TNFA_SIGNALING_VIA_NFKB            1.000000e+00  7.804640e-08  3.770096e-08   \n",
       "UV_RESPONSE_DN                     3.099970e-03  5.882505e-04  1.296755e-10   \n",
       "UV_RESPONSE_UP                     3.099970e-03  2.327328e-02  4.769050e-03   \n",
       "XENOBIOTIC_METABOLISM              1.000000e+00  9.839003e-04  3.525024e-05   \n",
       "\n",
       "x                                            G4            G5        G6  \n",
       "y                                                                        \n",
       "ADIPOGENESIS                       1.000000e+00  1.320872e-04  1.000000  \n",
       "ANDROGEN_RESPONSE                  7.194684e-03  3.189602e-07  1.000000  \n",
       "ANGIOGENESIS                       1.000000e+00  1.157737e-03  0.013327  \n",
       "APICAL_JUNCTION                    2.064868e-06  9.833112e-06  0.006818  \n",
       "APICAL_SURFACE                     2.643221e-02  1.920122e-03  1.000000  \n",
       "APOPTOSIS                          1.838375e-04  8.583180e-05  1.000000  \n",
       "CHOLESTEROL_HOMEOSTASIS            2.643221e-02  1.527341e-02  0.024813  \n",
       "COAGULATION                        3.912711e-02  3.137800e-05  0.013327  \n",
       "COMPLEMENT                         1.000000e+00  1.900031e-04  1.000000  \n",
       "E2F_TARGETS                        2.523119e-41  3.672083e-18  0.000007  \n",
       "EPITHELIAL_MESENCHYMAL_TRANSITION  1.177059e-06  2.605347e-14  0.000264  \n",
       "ESTROGEN_RESPONSE_EARLY            1.058775e-02  2.062573e-05  0.000504  \n",
       "ESTROGEN_RESPONSE_LATE             4.806669e-07  8.430357e-07  0.000845  \n",
       "FATTY_ACID_METABOLISM              7.194684e-03  1.834346e-03  1.000000  \n",
       "G2M_CHECKPOINT                     9.163384e-40  1.605783e-20  0.000327  \n",
       "GLYCOLYSIS                         4.218198e-09  2.580046e-10  0.000057  \n",
       "HYPOXIA                            7.727363e-06  3.189602e-07  0.010011  \n",
       "IL2_STAT5_SIGNALING                1.583871e-02  7.419797e-03  1.000000  \n",
       "INFLAMMATORY_RESPONSE              1.177059e-06  1.206504e-09  1.000000  \n",
       "INTERFERON_ALPHA_RESPONSE          3.590803e-14  6.238302e-10  1.000000  \n",
       "INTERFERON_GAMMA_RESPONSE          5.357853e-10  3.189602e-07  1.000000  \n",
       "KRAS_SIGNALING_DN                  1.000000e+00  2.247711e-04  0.001841  \n",
       "KRAS_SIGNALING_UP                  1.277360e-03  1.138141e-07  0.047543  \n",
       "MITOTIC_SPINDLE                    1.378887e-12  1.163028e-09  0.019233  \n",
       "MTORC1_SIGNALING                   1.915974e-11  1.175190e-09  0.001562  \n",
       "MYC_TARGETS_V1                     1.898667e-13  1.086858e-06  0.000715  \n",
       "MYC_TARGETS_V2                     7.870788e-03  2.864946e-02  1.000000  \n",
       "P53_PATHWAY                        5.945250e-03  3.514717e-04  0.019233  \n",
       "SPERMATOGENESIS                    4.339501e-03  1.722764e-02  0.013327  \n",
       "TGF_BETA_SIGNALING                 2.643221e-02  1.000000e+00  1.000000  \n",
       "TNFA_SIGNALING_VIA_NFKB            7.767872e-04  1.400464e-06  1.000000  \n",
       "UV_RESPONSE_DN                     2.754024e-03  8.583180e-05  0.019233  \n",
       "UV_RESPONSE_UP                     2.643221e-02  1.000000e+00  1.000000  \n",
       "XENOBIOTIC_METABOLISM              1.000000e+00  1.605672e-05  0.034391  "
      ]
     },
     "execution_count": 13,
     "metadata": {},
     "output_type": "execute_result"
    }
   ],
   "source": [
    "fdr"
   ]
  },
  {
   "cell_type": "code",
   "execution_count": 14,
   "metadata": {},
   "outputs": [
    {
     "data": {
      "text/plain": [
       "array([3.76700708e-04, 1.94021482e-02, 1.12440689e-03, 1.00000000e+00,\n",
       "       1.32087222e-04, 1.00000000e+00, 1.00000000e+00, 1.00000000e+00,\n",
       "       6.16284680e-07, 7.19468414e-03, 3.18960246e-07, 1.00000000e+00,\n",
       "       1.91917342e-02, 3.73354197e-02, 4.37758391e-02, 1.00000000e+00,\n",
       "       1.15773665e-03, 1.33269778e-02, 1.53872617e-04, 4.63088563e-08,\n",
       "       6.96564988e-10, 2.06486772e-06, 9.83311191e-06, 6.81812811e-03,\n",
       "       1.00000000e+00, 1.00000000e+00, 3.12234729e-05, 2.64322130e-02,\n",
       "       1.92012245e-03, 1.00000000e+00, 3.23805711e-04, 2.58590073e-03,\n",
       "       6.04875210e-06, 1.83837500e-04, 8.58318044e-05, 1.00000000e+00,\n",
       "       1.00000000e+00, 1.00000000e+00, 8.66662085e-04, 2.64322130e-02,\n",
       "       1.52734100e-02, 2.48134953e-02, 1.00000000e+00, 2.68947693e-02,\n",
       "       1.75136617e-08, 3.91271132e-02, 3.13780019e-05, 1.33269778e-02,\n",
       "       1.00000000e+00, 6.33534923e-03, 6.37155207e-06, 1.00000000e+00,\n",
       "       1.90003092e-04, 1.00000000e+00, 1.46264189e-16, 6.54415858e-05,\n",
       "       5.66187072e-06, 2.52311939e-41, 3.67208277e-18, 6.63717048e-06,\n",
       "       5.34071969e-07, 7.50614254e-07, 2.94003646e-15, 1.17705944e-06,\n",
       "       2.60534674e-14, 2.64377837e-04, 1.86203949e-03, 7.50614254e-07,\n",
       "       1.87414338e-15, 1.05877534e-02, 2.06257343e-05, 5.04485511e-04,\n",
       "       2.50712759e-03, 5.79708437e-05, 2.85915653e-15, 4.80666910e-07,\n",
       "       8.43035677e-07, 8.44629350e-04, 1.74522785e-02, 6.33534923e-03,\n",
       "       7.47378263e-03, 7.19468414e-03, 1.83434596e-03, 1.00000000e+00,\n",
       "       1.74265633e-15, 7.50614254e-07, 3.14556315e-08, 9.16338440e-40,\n",
       "       1.60578348e-20, 3.27238692e-04, 1.03213688e-04, 1.69930670e-05,\n",
       "       1.95079441e-10, 4.21819802e-09, 2.58004636e-10, 5.73357121e-05,\n",
       "       6.41375800e-03, 9.18026048e-04, 1.25142444e-08, 7.72736320e-06,\n",
       "       3.18960246e-07, 1.00107158e-02, 4.72715275e-02, 4.77795588e-02,\n",
       "       5.85226126e-05, 1.58387118e-02, 7.41979741e-03, 1.00000000e+00,\n",
       "       1.00000000e+00, 1.02178672e-03, 5.93369333e-08, 1.17705944e-06,\n",
       "       1.20650389e-09, 1.00000000e+00, 1.00000000e+00, 1.00000000e+00,\n",
       "       1.00000000e+00, 3.59080313e-14, 6.23830161e-10, 1.00000000e+00,\n",
       "       1.00000000e+00, 1.00000000e+00, 1.00000000e+00, 5.35785322e-10,\n",
       "       3.18960246e-07, 1.00000000e+00, 5.75962586e-03, 1.00000000e+00,\n",
       "       1.86127455e-04, 1.00000000e+00, 2.24771125e-04, 1.84134008e-03,\n",
       "       1.00000000e+00, 1.02178672e-03, 2.94003646e-15, 1.27735965e-03,\n",
       "       1.13814086e-07, 4.75427165e-02, 3.13708997e-04, 1.20240842e-06,\n",
       "       2.96452862e-07, 1.37888720e-12, 1.16302846e-09, 1.92327847e-02,\n",
       "       2.76502492e-11, 3.08061070e-05, 1.10259331e-08, 1.91597416e-11,\n",
       "       1.17519028e-09, 1.56189639e-03, 4.79273433e-09, 6.33534923e-03,\n",
       "       1.23522604e-04, 1.89866715e-13, 1.08685837e-06, 7.14728223e-04,\n",
       "       2.18091354e-02, 1.00000000e+00, 1.00000000e+00, 7.87078760e-03,\n",
       "       2.86494616e-02, 1.00000000e+00, 1.00000000e+00, 5.90127276e-04,\n",
       "       1.16529581e-04, 5.94525034e-03, 3.51471705e-04, 1.92327847e-02,\n",
       "       1.00000000e+00, 1.00000000e+00, 1.00000000e+00, 4.33950086e-03,\n",
       "       1.72276441e-02, 1.33269778e-02, 1.00000000e+00, 5.88250512e-04,\n",
       "       1.79766306e-02, 2.64322130e-02, 1.00000000e+00, 1.00000000e+00,\n",
       "       1.00000000e+00, 7.80464023e-08, 3.77009650e-08, 7.76787173e-04,\n",
       "       1.40046357e-06, 1.00000000e+00, 3.09996986e-03, 5.88250512e-04,\n",
       "       1.29675548e-10, 2.75402415e-03, 8.58318044e-05, 1.92327847e-02,\n",
       "       3.09996986e-03, 2.32732803e-02, 4.76905034e-03, 2.64322130e-02,\n",
       "       1.00000000e+00, 1.00000000e+00, 1.00000000e+00, 9.83900334e-04,\n",
       "       3.52502433e-05, 1.00000000e+00, 1.60567235e-05, 3.43907303e-02])"
      ]
     },
     "execution_count": 14,
     "metadata": {},
     "output_type": "execute_result"
    }
   ],
   "source": [
    "fdr.values.ravel()"
   ]
  },
  {
   "cell_type": "code",
   "execution_count": 17,
   "metadata": {},
   "outputs": [],
   "source": [
    "xx, yy = np.meshgrid(range(6), range(34))"
   ]
  },
  {
   "cell_type": "code",
   "execution_count": 8,
   "metadata": {},
   "outputs": [],
   "source": [
    "progr = df.pivot(index='y', columns='x', values='med_tstat')\n",
    "cls = progr.values.ravel()"
   ]
  },
  {
   "cell_type": "code",
   "execution_count": 22,
   "metadata": {},
   "outputs": [],
   "source": [
    "xx, yy = [arr.ravel() for arr in np.meshgrid(range(6), range(34))]"
   ]
  },
  {
   "cell_type": "code",
   "execution_count": 36,
   "metadata": {},
   "outputs": [
    {
     "data": {
      "text/plain": [
       "2.523119394074169e-41"
      ]
     },
     "execution_count": 36,
     "metadata": {},
     "output_type": "execute_result"
    }
   ],
   "source": [
    "fdr.min(1).min()"
   ]
  },
  {
   "cell_type": "code",
   "execution_count": 129,
   "metadata": {},
   "outputs": [],
   "source": [
    "sz = pd.cut(-np.log10(fdr.values.ravel()), bins=[-np.log10(i) for i in [1, 0.05, 1e-5, 1e-10, 1e-40, 1e-100]], include_lowest=True, labels=[0, 20, 40, 60, 80])"
   ]
  },
  {
   "cell_type": "code",
   "execution_count": 54,
   "metadata": {},
   "outputs": [],
   "source": [
    "from matplotlib.lines import Line2D"
   ]
  },
  {
   "cell_type": "code",
   "execution_count": 130,
   "metadata": {},
   "outputs": [
    {
     "data": {
      "text/plain": [
       "[20, 20, 20, 0, 20, ..., 20, 20, 0, 20, 20]\n",
       "Length: 204\n",
       "Categories (5, int64): [0 < 20 < 40 < 60 < 80]"
      ]
     },
     "execution_count": 130,
     "metadata": {},
     "output_type": "execute_result"
    }
   ],
   "source": [
    "sz"
   ]
  },
  {
   "cell_type": "code",
   "execution_count": 132,
   "metadata": {},
   "outputs": [],
   "source": [
    "handles = [Line2D([0], [0], marker='o', color='w', markerfacecolor='k', markersize=i, label=l) for i, l in zip((4, 8, 10, 12), ('<= 0.05', '<= 1e-5', '<= 1e-10', '<= 1e-40'))]"
   ]
  },
  {
   "cell_type": "code",
   "execution_count": 125,
   "metadata": {},
   "outputs": [],
   "source": [
    "from matplotlib.colors import CenteredNorm"
   ]
  },
  {
   "cell_type": "code",
   "execution_count": 135,
   "metadata": {},
   "outputs": [
    {
     "data": {
      "text/plain": [
       "<matplotlib.colorbar.Colorbar at 0x7f0a71e72460>"
      ]
     },
     "execution_count": 135,
     "metadata": {},
     "output_type": "execute_result"
    },
    {
     "data": {
      "image/png": "[encoded data removed]",
      "text/plain": [
       "<Figure size 144x432 with 2 Axes>"
      ]
     },
     "metadata": {
      "needs_background": "light"
     },
     "output_type": "display_data"
    }
   ],
   "source": [
    "fig, ax = plt.subplots(figsize=(2,6))\n",
    "# sz = -np.log10(fdr.values.ravel())*10\n",
    "sp = ax.scatter(xx, yy, s=sz, c=cls, cmap=plt.cm.coolwarm, norm=CenteredNorm(vcenter=0))\n",
    "ax.set_xlim(-0.5, 5.5)\n",
    "ax.set_ylim(-0.5, 34)\n",
    "ax.set_yticks(np.arange(34), fdr.index.to_list());\n",
    "ax.set_xticks(np.arange(6), fdr.columns.to_list());\n",
    "ax.legend(handles = handles, bbox_to_anchor=(1, 0.8, 0.1, 0.2), fontsize='small', handletextpad=0)\n",
    "cax = fig.add_axes([0.95, 0.65, 0.35, 0.03])\n",
    "fig.colorbar(sp, cax=cax, orientation='horizontal')"
   ]
  },
  {
   "cell_type": "code",
   "execution_count": null,
   "metadata": {},
   "outputs": [],
   "source": []
  }
 ],
 "metadata": {
  "interpreter": {
   "hash": "e8d075b866a6e8bb417e6eedf4c3fd1246316055f9b48a9c795ca2a066087e73"
  },
  "kernelspec": {
   "display_name": "Python 3.9.7 64-bit ('devpack': conda)",
   "language": "python",
   "name": "python3"
  },
  "language_info": {
   "codemirror_mode": {
    "name": "ipython",
    "version": 3
   },
   "file_extension": ".py",
   "mimetype": "text/x-python",
   "name": "python",
   "nbconvert_exporter": "python",
   "pygments_lexer": "ipython3",
   "version": "3.9.7"
  },
  "orig_nbformat": 4
 },
 "nbformat": 4,
 "nbformat_minor": 2
}
