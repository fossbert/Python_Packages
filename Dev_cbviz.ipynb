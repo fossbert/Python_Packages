{
 "cells": [
  {
   "cell_type": "code",
   "execution_count": 1,
   "metadata": {},
   "outputs": [],
   "source": [
    "%load_ext autoreload \n",
    "%autoreload 2"
   ]
  },
  {
   "cell_type": "code",
   "execution_count": 2,
   "metadata": {},
   "outputs": [],
   "source": [
    "import numpy as np \n",
    "import pandas as pd \n",
    "import matplotlib.pyplot as plt "
   ]
  },
  {
   "cell_type": "markdown",
   "metadata": {},
   "source": [
    "# Data classes"
   ]
  },
  {
   "cell_type": "code",
   "execution_count": null,
   "metadata": {},
   "outputs": [],
   "source": [
    "from cbviz.cbviz.utils import DataNum"
   ]
  },
  {
   "cell_type": "code",
   "execution_count": null,
   "metadata": {},
   "outputs": [],
   "source": [
    "all = pd.read_csv('./Metabolite-logFC-Signatures.csv', index_col=0)\n",
    "df = all.iloc[:, [0,2]].copy()\n",
    "\n",
    "dn = DataNum(df, ncols=2)"
   ]
  },
  {
   "cell_type": "code",
   "execution_count": null,
   "metadata": {},
   "outputs": [],
   "source": [
    "expected = np.repeat('floating', 1)\n",
    "observed = df.apply(infer_dtype).values\n",
    "type(expected)"
   ]
  },
  {
   "cell_type": "code",
   "execution_count": 3,
   "metadata": {},
   "outputs": [],
   "source": [
    "s1 = np.random.permutation(np.repeat(['WT', 'Balanced', 'Minor', 'Major'], (30, 80, 50, 30)))\n",
    "s2 = np.repeat(['Basal-like', \"Classical\"], (57, 133))\n",
    "x = [y for x in [np.random.normal(loc=i, size=s) for i, s in zip((2, -2) , (57, 133)) ] for y in x]\n",
    "\n",
    "df2 = pd.DataFrame({\"x\" : x, \"s1\" : s1, \"s2\" : s2})\n",
    "df2['s1'] = df2['s1'].astype('category')"
   ]
  },
  {
   "cell_type": "code",
   "execution_count": 4,
   "metadata": {},
   "outputs": [],
   "source": [
    "from cbviz.cbviz.utils import DataMix"
   ]
  },
  {
   "cell_type": "code",
   "execution_count": 10,
   "metadata": {},
   "outputs": [
    {
     "data": {
      "text/plain": [
       "DataNum(Obs total: 190, Features: 3, Total NaN: 0, Obs in smallest subgroup: 7)"
      ]
     },
     "execution_count": 10,
     "metadata": {},
     "output_type": "execute_result"
    }
   ],
   "source": [
    "DataMix(df2, ncat=2)"
   ]
  },
  {
   "cell_type": "markdown",
   "metadata": {},
   "source": [
    "# KDE related "
   ]
  },
  {
   "cell_type": "markdown",
   "metadata": {},
   "source": [
    "## Split violin "
   ]
  },
  {
   "cell_type": "code",
   "execution_count": 22,
   "metadata": {},
   "outputs": [],
   "source": [
    "s1 = np.random.permutation(np.repeat(['WT', 'Balanced', 'Minor', 'Major'], (30, 80, 50, 30)))\n",
    "s2 = np.repeat(['Basal-like', \"Classical\"], (57, 133))\n",
    "x = [y for x in [np.random.normal(loc=i, size=s) for i, s in zip((2, -2) , (57, 133)) ] for y in x]\n",
    "\n",
    "data = pd.DataFrame({\"x\" : x, \"s1\" : s1, \"s2\" : s2})"
   ]
  },
  {
   "cell_type": "code",
   "execution_count": 23,
   "metadata": {},
   "outputs": [],
   "source": [
    "from cbviz.cbviz.kdetools import SplitViolin"
   ]
  },
  {
   "cell_type": "code",
   "execution_count": 24,
   "metadata": {},
   "outputs": [],
   "source": [
    "sp = SplitViolin(data, s1_order=['WT', 'Balanced', 'Minor', 'Major'], s2_order=['Classical', 'Basal-like'])"
   ]
  },
  {
   "cell_type": "code",
   "execution_count": 61,
   "metadata": {},
   "outputs": [
    {
     "data": {
      "text/plain": [
       "Text(0.5, 0, 'x')"
      ]
     },
     "execution_count": 61,
     "metadata": {},
     "output_type": "execute_result"
    },
    {
     "data": {
      "image/png": "[encoded data removed]",
      "text/plain": [
       "<Figure size 450x375 with 1 Axes>"
      ]
     },
     "metadata": {
      "needs_background": "light"
     },
     "output_type": "display_data"
    }
   ],
   "source": [
    "plt.style.use('cviz')\n",
    "fig, ax = plt.subplots(figsize=(3,2.5))\n",
    "\n",
    "for kde in sp.get_violins(colors=('cornflowerblue', 'salmon')):\n",
    "\n",
    "    ax.fill_betweenx(kde.density, kde.grid, facecolor=kde.color, alpha=0.5)\n",
    "    ax.plot(kde.mode.ycoords, kde.mode.xcoords, lw=0.5, c='k')\n",
    "\n",
    "ax.set_yticks(*sp.get_s1_ticks())\n",
    "\n",
    "leg = ax.legend(handles=sp.get_s2_legend(colors=('cornflowerblue', 'salmon')), \n",
    "                loc='upper left', handlelength=0.4,\n",
    "                bbox_to_anchor=(0, 1.0, 0, 0.15), ncol=2, fontsize='x-small')\n",
    "leg.get_frame().set_linewidth(0.2)\n",
    "\n",
    "[ax.axhline(i, lw=0.5, ls=\":\", c='0.5') for i in (sp.get_s1_ticks()[0])]\n",
    "ax.set_xlabel(sp.ylabel)\n",
    "# fig.savefig('./test/Test-SplitViolin.pdf')"
   ]
  },
  {
   "cell_type": "markdown",
   "metadata": {},
   "source": [
    "## Ridge plot"
   ]
  },
  {
   "cell_type": "code",
   "execution_count": 11,
   "metadata": {},
   "outputs": [
    {
     "data": {
      "text/html": [
       "<div>\n",
       "<style scoped>\n",
       "    .dataframe tbody tr th:only-of-type {\n",
       "        vertical-align: middle;\n",
       "    }\n",
       "\n",
       "    .dataframe tbody tr th {\n",
       "        vertical-align: top;\n",
       "    }\n",
       "\n",
       "    .dataframe thead th {\n",
       "        text-align: right;\n",
       "    }\n",
       "</style>\n",
       "<table border=\"1\" class=\"dataframe\">\n",
       "  <thead>\n",
       "    <tr style=\"text-align: right;\">\n",
       "      <th></th>\n",
       "      <th>x</th>\n",
       "      <th>s1</th>\n",
       "    </tr>\n",
       "  </thead>\n",
       "  <tbody>\n",
       "    <tr>\n",
       "      <th>0</th>\n",
       "      <td>-0.299836</td>\n",
       "      <td>WT</td>\n",
       "    </tr>\n",
       "    <tr>\n",
       "      <th>1</th>\n",
       "      <td>-1.401972</td>\n",
       "      <td>WT</td>\n",
       "    </tr>\n",
       "    <tr>\n",
       "      <th>2</th>\n",
       "      <td>-1.043872</td>\n",
       "      <td>WT</td>\n",
       "    </tr>\n",
       "    <tr>\n",
       "      <th>3</th>\n",
       "      <td>-0.401420</td>\n",
       "      <td>WT</td>\n",
       "    </tr>\n",
       "    <tr>\n",
       "      <th>4</th>\n",
       "      <td>-0.025139</td>\n",
       "      <td>WT</td>\n",
       "    </tr>\n",
       "    <tr>\n",
       "      <th>...</th>\n",
       "      <td>...</td>\n",
       "      <td>...</td>\n",
       "    </tr>\n",
       "    <tr>\n",
       "      <th>185</th>\n",
       "      <td>3.384978</td>\n",
       "      <td>Major</td>\n",
       "    </tr>\n",
       "    <tr>\n",
       "      <th>186</th>\n",
       "      <td>3.926872</td>\n",
       "      <td>Major</td>\n",
       "    </tr>\n",
       "    <tr>\n",
       "      <th>187</th>\n",
       "      <td>4.566183</td>\n",
       "      <td>Major</td>\n",
       "    </tr>\n",
       "    <tr>\n",
       "      <th>188</th>\n",
       "      <td>2.433754</td>\n",
       "      <td>Major</td>\n",
       "    </tr>\n",
       "    <tr>\n",
       "      <th>189</th>\n",
       "      <td>3.393388</td>\n",
       "      <td>Major</td>\n",
       "    </tr>\n",
       "  </tbody>\n",
       "</table>\n",
       "<p>190 rows × 2 columns</p>\n",
       "</div>"
      ],
      "text/plain": [
       "            x     s1\n",
       "0   -0.299836     WT\n",
       "1   -1.401972     WT\n",
       "2   -1.043872     WT\n",
       "3   -0.401420     WT\n",
       "4   -0.025139     WT\n",
       "..        ...    ...\n",
       "185  3.384978  Major\n",
       "186  3.926872  Major\n",
       "187  4.566183  Major\n",
       "188  2.433754  Major\n",
       "189  3.393388  Major\n",
       "\n",
       "[190 rows x 2 columns]"
      ]
     },
     "execution_count": 11,
     "metadata": {},
     "output_type": "execute_result"
    }
   ],
   "source": [
    "s1 = np.repeat(['WT', 'Balanced', 'Minor', 'Major'], (30, 80, 50, 30))\n",
    "x = [y for x in [np.random.normal(loc=i, size=s) for i, s in zip(range(4) , (30, 80, 50, 30)) ] for y in x]\n",
    "\n",
    "data = pd.DataFrame({\"x\" : x, \"s1\" : s1})\n",
    "data"
   ]
  },
  {
   "cell_type": "code",
   "execution_count": 12,
   "metadata": {},
   "outputs": [],
   "source": [
    "from cbviz.cbviz.kdetools import Ridge"
   ]
  },
  {
   "cell_type": "code",
   "execution_count": 18,
   "metadata": {},
   "outputs": [],
   "source": [
    "rp = Ridge(data, s1_order=['WT','Balanced', 'Minor', 'Major'], scale_factor=1.2)"
   ]
  },
  {
   "cell_type": "code",
   "execution_count": 19,
   "metadata": {},
   "outputs": [
    {
     "data": {
      "text/plain": [
       "[<matplotlib.lines.Line2D at 0x7f951d0cecd0>,\n",
       " <matplotlib.lines.Line2D at 0x7f951d0cea60>,\n",
       " <matplotlib.lines.Line2D at 0x7f951d135730>,\n",
       " <matplotlib.lines.Line2D at 0x7f951d0d52e0>]"
      ]
     },
     "execution_count": 19,
     "metadata": {},
     "output_type": "execute_result"
    },
    {
     "data": {
      "image/png": "[encoded data removed]",
      "text/plain": [
       "<Figure size 450x375 with 1 Axes>"
      ]
     },
     "metadata": {
      "needs_background": "light"
     },
     "output_type": "display_data"
    }
   ],
   "source": [
    "plt.style.use('cviz')\n",
    "fig, ax = plt.subplots(figsize=(3,2.5))\n",
    "\n",
    "for kde in rp.get_kdes():\n",
    "\n",
    "    ax.fill_betweenx(kde.density, kde.grid, facecolor=kde.color, alpha=0.3)\n",
    "    ax.plot(kde.mode.ycoords, kde.mode.xcoords, lw=0.1, c='k')\n",
    "\n",
    "ax.set_yticks(*rp.get_s1_ticks())\n",
    "ax.set_xlabel(rp.ylabel)\n",
    "[ax.axhline(i, ls=':', lw=0.25, c='0.15') for i in rp.get_s1_ticks()[0]]"
   ]
  },
  {
   "cell_type": "markdown",
   "metadata": {},
   "source": [
    "# Scatterplots"
   ]
  },
  {
   "cell_type": "markdown",
   "metadata": {},
   "source": [
    "## XYview"
   ]
  },
  {
   "cell_type": "code",
   "execution_count": 20,
   "metadata": {},
   "outputs": [],
   "source": [
    "metabolites = ['L-Cystine', 'Cysteine', 'NADH']"
   ]
  },
  {
   "cell_type": "code",
   "execution_count": null,
   "metadata": {},
   "outputs": [],
   "source": [
    "all = pd.read_csv('./Metabolite-logFC-Signatures.csv', index_col=0)\n",
    "df = all.iloc[:, [0,2]].copy()"
   ]
  },
  {
   "cell_type": "code",
   "execution_count": null,
   "metadata": {},
   "outputs": [],
   "source": [
    "from cbviz.cbviz.xytools import XYview\n",
    "from adjustText import adjust_text"
   ]
  },
  {
   "cell_type": "code",
   "execution_count": null,
   "metadata": {},
   "outputs": [],
   "source": [
    "cond = df.index.isin(metabolites)\n",
    "xv = XYview(df, highlight=metabolites, s=np.where(cond, 40, 10), c=np.where(cond, 'r', '.5'), alpha=1)"
   ]
  },
  {
   "cell_type": "code",
   "execution_count": null,
   "metadata": {},
   "outputs": [],
   "source": [
    "!pip install adjustText"
   ]
  },
  {
   "cell_type": "code",
   "execution_count": null,
   "metadata": {},
   "outputs": [],
   "source": [
    "plt.style.use('cviz')\n",
    "\n",
    "fig, ax = plt.subplots(figsize=(3,3))\n",
    "\n",
    "ax.scatter(xv.x, xv.y, **xv.scatter_kw)\n",
    "xv.add_correlation(fontsize='small')\n",
    "xv.add_reg_line(color='cornflowerblue', lw=1)\n",
    "xv.label_dots(adjust=True, fontsize='small')\n",
    "xv.label_xy()\n",
    "fig.savefig('./test/Test-XYview.pdf')"
   ]
  },
  {
   "cell_type": "markdown",
   "metadata": {},
   "source": [
    "## XYpairs"
   ]
  },
  {
   "cell_type": "code",
   "execution_count": null,
   "metadata": {},
   "outputs": [],
   "source": [
    "from cbviz.cbviz.xytools import XYpairs"
   ]
  },
  {
   "cell_type": "code",
   "execution_count": null,
   "metadata": {},
   "outputs": [],
   "source": [
    "metabolites = ['L-Cystine', 'Cysteine', 'NADH']"
   ]
  },
  {
   "cell_type": "code",
   "execution_count": null,
   "metadata": {},
   "outputs": [],
   "source": [
    "all = pd.read_csv('./Metabolite-logFC-Signatures.csv', index_col=0)"
   ]
  },
  {
   "cell_type": "code",
   "execution_count": null,
   "metadata": {},
   "outputs": [],
   "source": [
    "np.ptp(all.values.ravel()) * 0.02"
   ]
  },
  {
   "cell_type": "code",
   "execution_count": null,
   "metadata": {},
   "outputs": [],
   "source": [
    "all = all.iloc[:, [1,0,3,2]]"
   ]
  },
  {
   "cell_type": "code",
   "execution_count": null,
   "metadata": {},
   "outputs": [],
   "source": [
    "cond = all.index.isin(metabolites)\n",
    "xp = XYpairs(all, lower_tri=False)"
   ]
  },
  {
   "cell_type": "code",
   "execution_count": null,
   "metadata": {},
   "outputs": [],
   "source": [
    "plt.style.use('cviz')\n",
    "\n",
    "fig = plt.figure(figsize=(5, 5))\n",
    "\n",
    "gs = xp.add_gridspec(hspace=0.3, wspace=0.4)\n",
    "\n",
    "pairs = xp.get_pairs(highlight=metabolites, s=np.where(cond, 40, 10), c=np.where(cond, 'r', '0.5'), alpha=np.where(cond, 1, 0.5))\n",
    "for pair in pairs:\n",
    "    ax = fig.add_subplot(gs[pair.position])\n",
    "    ax.tick_params(labelsize='xx-small', pad=0)\n",
    "    xv = pair.XYview\n",
    "    ax.scatter(xv.x, xv.y, **xv.scatter_kw)\n",
    "    xv.add_reg_line()\n",
    "    xv.label_dots(adjust=True, fontsize='x-small')\n",
    "    if pair.combo == ['FG_effect_sgNT', 'sgARNTL2_effect_FG']:\n",
    "        xv.add_correlation(loc=1)\n",
    "    else:\n",
    "        xv.add_correlation(loc=4)\n",
    "    xv.label_xy(fontsize='x-small', outer=True)"
   ]
  },
  {
   "cell_type": "markdown",
   "metadata": {},
   "source": [
    "## XYzoom"
   ]
  },
  {
   "cell_type": "code",
   "execution_count": null,
   "metadata": {},
   "outputs": [],
   "source": [
    "metabolites = ['L-Cystine', 'Cysteine', 'NADH']\n",
    "all = pd.read_csv('./Metabolite-logFC-Signatures.csv', index_col=0)\n",
    "df = all.iloc[:, [0,2]].copy()"
   ]
  },
  {
   "cell_type": "code",
   "execution_count": null,
   "metadata": {},
   "outputs": [],
   "source": [
    "from cbviz.cbviz.xytools import XYzoom"
   ]
  },
  {
   "cell_type": "code",
   "execution_count": null,
   "metadata": {},
   "outputs": [],
   "source": [
    "xz = XYzoom(df, ('min', 0), ('min', 0))"
   ]
  },
  {
   "cell_type": "code",
   "execution_count": null,
   "metadata": {},
   "outputs": [],
   "source": [
    "top5 = xz.zoom_data.mean(1).nsmallest(5).index.to_list()\n",
    "cond = xz.data.df.index.isin(top5)"
   ]
  },
  {
   "cell_type": "code",
   "execution_count": null,
   "metadata": {},
   "outputs": [],
   "source": [
    "top5"
   ]
  },
  {
   "cell_type": "code",
   "execution_count": null,
   "metadata": {},
   "outputs": [],
   "source": [
    "plt.style.use('cviz')\n",
    "\n",
    "xz = XYzoom(df, ('min', 0), ('min', 0))\n",
    "\n",
    "top5 = xz.zoom_data.mean(1).nsmallest(5).index.to_list()\n",
    "cond = xz.data.df.index.isin(top5)\n",
    "\n",
    "fig, (ax1, ax2) = plt.subplots(1, 2, figsize=(4,2))\n",
    "\n",
    "ax2.scatter(xz.x, xz.y, **xz.scatter_kw)\n",
    "xz.add_xy_line(ax2)\n",
    "xz.add_rect(ax=ax2)\n",
    "ax1.scatter(xz.x, xz.y, s=np.where(cond, 20, 5), c=np.where(cond, 'r', '.5'), alpha=0.5, linewidths=0)\n",
    "xz.connect(ax2, ax1, 'left', lw=0.5, ls=':')\n",
    "xz.label_xy(ax=ax1, outer=False, fontsize='x-small')\n",
    "xz.label_dots(top5, ax=ax1, adjust=True, adjust_kwargs={'arrowprops':{'arrowstyle':'-', 'lw':0.2}}, fontsize=4)"
   ]
  },
  {
   "cell_type": "code",
   "execution_count": null,
   "metadata": {},
   "outputs": [],
   "source": []
  },
  {
   "cell_type": "markdown",
   "metadata": {},
   "source": [
    "# Boxplots"
   ]
  },
  {
   "cell_type": "markdown",
   "metadata": {},
   "source": [
    "## Box plus strip plot"
   ]
  },
  {
   "cell_type": "code",
   "execution_count": 183,
   "metadata": {},
   "outputs": [
    {
     "data": {
      "text/html": [
       "<div>\n",
       "<style scoped>\n",
       "    .dataframe tbody tr th:only-of-type {\n",
       "        vertical-align: middle;\n",
       "    }\n",
       "\n",
       "    .dataframe tbody tr th {\n",
       "        vertical-align: top;\n",
       "    }\n",
       "\n",
       "    .dataframe thead th {\n",
       "        text-align: right;\n",
       "    }\n",
       "</style>\n",
       "<table border=\"1\" class=\"dataframe\">\n",
       "  <thead>\n",
       "    <tr style=\"text-align: right;\">\n",
       "      <th></th>\n",
       "      <th>x</th>\n",
       "      <th>s1</th>\n",
       "    </tr>\n",
       "  </thead>\n",
       "  <tbody>\n",
       "    <tr>\n",
       "      <th>0</th>\n",
       "      <td>-0.430481</td>\n",
       "      <td>WT</td>\n",
       "    </tr>\n",
       "    <tr>\n",
       "      <th>1</th>\n",
       "      <td>-1.295893</td>\n",
       "      <td>WT</td>\n",
       "    </tr>\n",
       "    <tr>\n",
       "      <th>2</th>\n",
       "      <td>0.279903</td>\n",
       "      <td>WT</td>\n",
       "    </tr>\n",
       "    <tr>\n",
       "      <th>3</th>\n",
       "      <td>0.187297</td>\n",
       "      <td>WT</td>\n",
       "    </tr>\n",
       "    <tr>\n",
       "      <th>4</th>\n",
       "      <td>-0.129592</td>\n",
       "      <td>WT</td>\n",
       "    </tr>\n",
       "    <tr>\n",
       "      <th>...</th>\n",
       "      <td>...</td>\n",
       "      <td>...</td>\n",
       "    </tr>\n",
       "    <tr>\n",
       "      <th>185</th>\n",
       "      <td>2.154683</td>\n",
       "      <td>Major</td>\n",
       "    </tr>\n",
       "    <tr>\n",
       "      <th>186</th>\n",
       "      <td>2.321164</td>\n",
       "      <td>Major</td>\n",
       "    </tr>\n",
       "    <tr>\n",
       "      <th>187</th>\n",
       "      <td>2.107250</td>\n",
       "      <td>Major</td>\n",
       "    </tr>\n",
       "    <tr>\n",
       "      <th>188</th>\n",
       "      <td>4.145594</td>\n",
       "      <td>Major</td>\n",
       "    </tr>\n",
       "    <tr>\n",
       "      <th>189</th>\n",
       "      <td>3.352207</td>\n",
       "      <td>Major</td>\n",
       "    </tr>\n",
       "  </tbody>\n",
       "</table>\n",
       "<p>190 rows × 2 columns</p>\n",
       "</div>"
      ],
      "text/plain": [
       "            x     s1\n",
       "0   -0.430481     WT\n",
       "1   -1.295893     WT\n",
       "2    0.279903     WT\n",
       "3    0.187297     WT\n",
       "4   -0.129592     WT\n",
       "..        ...    ...\n",
       "185  2.154683  Major\n",
       "186  2.321164  Major\n",
       "187  2.107250  Major\n",
       "188  4.145594  Major\n",
       "189  3.352207  Major\n",
       "\n",
       "[190 rows x 2 columns]"
      ]
     },
     "execution_count": 183,
     "metadata": {},
     "output_type": "execute_result"
    }
   ],
   "source": [
    "s1 = np.repeat(['WT', 'Balanced', 'Minor', 'Major'], (30, 80, 50, 30))\n",
    "x = [y for x in [np.random.normal(loc=i, size=s) for i, s in zip(range(4) , (30, 80, 50, 30)) ] for y in x]\n",
    "\n",
    "data = pd.DataFrame({\"x\" : x, \"s1\" : s1})\n",
    "data"
   ]
  },
  {
   "cell_type": "code",
   "execution_count": 63,
   "metadata": {},
   "outputs": [],
   "source": [
    "from cbviz.cbviz.bptools import StripBox"
   ]
  },
  {
   "cell_type": "code",
   "execution_count": null,
   "metadata": {},
   "outputs": [],
   "source": []
  },
  {
   "cell_type": "code",
   "execution_count": 220,
   "metadata": {},
   "outputs": [],
   "source": [
    "sb = StripBox(data, p_method_global='Anova', s1_order=['WT', 'Balanced', 'Minor', 'Major'])"
   ]
  },
  {
   "cell_type": "code",
   "execution_count": 219,
   "metadata": {},
   "outputs": [
    {
     "data": {
      "text/plain": [
       "<AxesSubplot:>"
      ]
     },
     "execution_count": 219,
     "metadata": {},
     "output_type": "execute_result"
    },
    {
     "data": {
      "image/png": "[encoded data removed]",
      "text/plain": [
       "<Figure size 375x375 with 1 Axes>"
      ]
     },
     "metadata": {
      "needs_background": "light"
     },
     "output_type": "display_data"
    }
   ],
   "source": [
    "\n",
    "plt.style.use('cviz')\n",
    "\n",
    "fig, ax = plt.subplots(figsize=(2.5,2.5))\n",
    "\n",
    "sb.box()\n",
    "sb.add_strips(s=20, alpha=0.50, linewidths=0)\n",
    "sb.add_global_p(fontsize='xx-small')"
   ]
  },
  {
   "cell_type": "code",
   "execution_count": 209,
   "metadata": {},
   "outputs": [],
   "source": [
    "from itertools import combinations"
   ]
  },
  {
   "cell_type": "code",
   "execution_count": 277,
   "metadata": {},
   "outputs": [],
   "source": [
    "sb.calc_pairwise_p(adj_method='bonferroni')"
   ]
  },
  {
   "cell_type": "code",
   "execution_count": 278,
   "metadata": {},
   "outputs": [
    {
     "data": {
      "text/html": [
       "<div>\n",
       "<style scoped>\n",
       "    .dataframe tbody tr th:only-of-type {\n",
       "        vertical-align: middle;\n",
       "    }\n",
       "\n",
       "    .dataframe tbody tr th {\n",
       "        vertical-align: top;\n",
       "    }\n",
       "\n",
       "    .dataframe thead th {\n",
       "        text-align: right;\n",
       "    }\n",
       "</style>\n",
       "<table border=\"1\" class=\"dataframe\">\n",
       "  <thead>\n",
       "    <tr style=\"text-align: right;\">\n",
       "      <th></th>\n",
       "      <th></th>\n",
       "      <th>xpos</th>\n",
       "      <th>ypos</th>\n",
       "      <th>pval</th>\n",
       "      <th>padj</th>\n",
       "    </tr>\n",
       "    <tr>\n",
       "      <th>GroupA</th>\n",
       "      <th>GroupB</th>\n",
       "      <th></th>\n",
       "      <th></th>\n",
       "      <th></th>\n",
       "      <th></th>\n",
       "    </tr>\n",
       "  </thead>\n",
       "  <tbody>\n",
       "    <tr>\n",
       "      <th rowspan=\"3\" valign=\"top\">WT</th>\n",
       "      <th>Balanced</th>\n",
       "      <td>(1, 2)</td>\n",
       "      <td>(1.8587174351670448, 2.823581011213924)</td>\n",
       "      <td>1.358953e-04</td>\n",
       "      <td>8.153715e-04</td>\n",
       "    </tr>\n",
       "    <tr>\n",
       "      <th>Minor</th>\n",
       "      <td>(1, 3)</td>\n",
       "      <td>(1.8587174351670448, 4.990980560927332)</td>\n",
       "      <td>5.091150e-10</td>\n",
       "      <td>3.054690e-09</td>\n",
       "    </tr>\n",
       "    <tr>\n",
       "      <th>Major</th>\n",
       "      <td>(1, 4)</td>\n",
       "      <td>(1.8587174351670448, 5.124796506798353)</td>\n",
       "      <td>8.152745e-11</td>\n",
       "      <td>4.891647e-10</td>\n",
       "    </tr>\n",
       "    <tr>\n",
       "      <th rowspan=\"2\" valign=\"top\">Balanced</th>\n",
       "      <th>Minor</th>\n",
       "      <td>(2, 3)</td>\n",
       "      <td>(2.823581011213924, 4.990980560927332)</td>\n",
       "      <td>3.677179e-09</td>\n",
       "      <td>2.206307e-08</td>\n",
       "    </tr>\n",
       "    <tr>\n",
       "      <th>Major</th>\n",
       "      <td>(2, 4)</td>\n",
       "      <td>(2.823581011213924, 5.124796506798353)</td>\n",
       "      <td>3.723096e-13</td>\n",
       "      <td>2.233858e-12</td>\n",
       "    </tr>\n",
       "    <tr>\n",
       "      <th>Minor</th>\n",
       "      <th>Major</th>\n",
       "      <td>(3, 4)</td>\n",
       "      <td>(4.990980560927332, 5.124796506798353)</td>\n",
       "      <td>1.225002e-04</td>\n",
       "      <td>7.350014e-04</td>\n",
       "    </tr>\n",
       "  </tbody>\n",
       "</table>\n",
       "</div>"
      ],
      "text/plain": [
       "                     xpos                                     ypos  \\\n",
       "GroupA   GroupB                                                      \n",
       "WT       Balanced  (1, 2)  (1.8587174351670448, 2.823581011213924)   \n",
       "         Minor     (1, 3)  (1.8587174351670448, 4.990980560927332)   \n",
       "         Major     (1, 4)  (1.8587174351670448, 5.124796506798353)   \n",
       "Balanced Minor     (2, 3)   (2.823581011213924, 4.990980560927332)   \n",
       "         Major     (2, 4)   (2.823581011213924, 5.124796506798353)   \n",
       "Minor    Major     (3, 4)   (4.990980560927332, 5.124796506798353)   \n",
       "\n",
       "                           pval          padj  \n",
       "GroupA   GroupB                                \n",
       "WT       Balanced  1.358953e-04  8.153715e-04  \n",
       "         Minor     5.091150e-10  3.054690e-09  \n",
       "         Major     8.152745e-11  4.891647e-10  \n",
       "Balanced Minor     3.677179e-09  2.206307e-08  \n",
       "         Major     3.723096e-13  2.233858e-12  \n",
       "Minor    Major     1.225002e-04  7.350014e-04  "
      ]
     },
     "execution_count": 278,
     "metadata": {},
     "output_type": "execute_result"
    }
   ],
   "source": [
    "sb.pairwise_stats"
   ]
  },
  {
   "cell_type": "code",
   "execution_count": 284,
   "metadata": {},
   "outputs": [
    {
     "data": {
      "image/png": "[encoded data removed]",
      "text/plain": [
       "<Figure size 375x375 with 1 Axes>"
      ]
     },
     "metadata": {
      "needs_background": "light"
     },
     "output_type": "display_data"
    }
   ],
   "source": [
    "plt.style.use('cviz')\n",
    "\n",
    "fig, ax = plt.subplots(figsize=(2.5,2.5))\n",
    "\n",
    "sb.box()\n",
    "sb.add_strips(s=20, alpha=0.50, linewidths=0)\n",
    "sb.add_pair_p(groupA='WT', groupB='Balanced', cut_p=True)"
   ]
  }
 ],
 "metadata": {
  "interpreter": {
   "hash": "e8d075b866a6e8bb417e6eedf4c3fd1246316055f9b48a9c795ca2a066087e73"
  },
  "kernelspec": {
   "display_name": "Python 3.9.7 64-bit ('devpack': conda)",
   "language": "python",
   "name": "python3"
  },
  "language_info": {
   "codemirror_mode": {
    "name": "ipython",
    "version": 3
   },
   "file_extension": ".py",
   "mimetype": "text/x-python",
   "name": "python",
   "nbconvert_exporter": "python",
   "pygments_lexer": "ipython3",
   "version": "3.9.7"
  },
  "orig_nbformat": 4
 },
 "nbformat": 4,
 "nbformat_minor": 2
}
