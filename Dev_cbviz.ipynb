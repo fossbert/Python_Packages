{
 "cells": [
  {
   "cell_type": "code",
   "execution_count": 1,
   "metadata": {},
   "outputs": [],
   "source": [
    "%load_ext autoreload \n",
    "%autoreload 2"
   ]
  },
  {
   "cell_type": "code",
   "execution_count": 2,
   "metadata": {},
   "outputs": [],
   "source": [
    "import numpy as np \n",
    "import pandas as pd \n",
    "import matplotlib.pyplot as plt "
   ]
  },
  {
   "cell_type": "markdown",
   "metadata": {},
   "source": [
    "# KDE related "
   ]
  },
  {
   "cell_type": "markdown",
   "metadata": {},
   "source": [
    "First off: split violins. We start with generating the data. "
   ]
  },
  {
   "cell_type": "code",
   "execution_count": 3,
   "metadata": {},
   "outputs": [],
   "source": [
    "s1 = np.random.permutation(np.repeat(['WT', 'Balanced', 'Minor', 'Major'], (30, 80, 50, 30)))\n",
    "s2 = np.repeat(['Basal-like', \"Classical\"], (57, 133))\n",
    "x = [y for x in [np.random.normal(loc=i, size=s) for i, s in zip((2, -2) , (57, 133)) ] for y in x]\n",
    "\n",
    "data = pd.DataFrame({\"x\" : x, \"s1\" : s1, \"s2\" : s2})"
   ]
  },
  {
   "cell_type": "code",
   "execution_count": 4,
   "metadata": {},
   "outputs": [
    {
     "data": {
      "text/plain": [
       "4"
      ]
     },
     "execution_count": 4,
     "metadata": {},
     "output_type": "execute_result"
    }
   ],
   "source": [
    "len(data['s1'].astype('category').cat.categories)"
   ]
  },
  {
   "cell_type": "code",
   "execution_count": 5,
   "metadata": {},
   "outputs": [],
   "source": [
    "from cbviz.cbviz.KDE import SplitViolin"
   ]
  },
  {
   "cell_type": "code",
   "execution_count": 23,
   "metadata": {},
   "outputs": [
    {
     "data": {
      "text/plain": [
       "0"
      ]
     },
     "execution_count": 23,
     "metadata": {},
     "output_type": "execute_result"
    }
   ],
   "source": [
    "len([])"
   ]
  },
  {
   "cell_type": "code",
   "execution_count": 16,
   "metadata": {},
   "outputs": [],
   "source": [
    "sp = SplitViolin(data, s1_order=['WT', 'Balanced', 'Minor', 'Major'], s2_order=['Classical', 'Basal-like'])"
   ]
  },
  {
   "cell_type": "code",
   "execution_count": 19,
   "metadata": {},
   "outputs": [
    {
     "data": {
      "image/png": "[encoded data removed]",
      "text/plain": [
       "<Figure size 216x180 with 1 Axes>"
      ]
     },
     "metadata": {
      "needs_background": "light"
     },
     "output_type": "display_data"
    }
   ],
   "source": [
    "plt.style.use('cviz')\n",
    "fig, ax = plt.subplots(figsize=(3,2.5))\n",
    "\n",
    "for kde in sp.get_violins(colors=('cornflowerblue', 'salmon')):\n",
    "\n",
    "    ax.fill_between(kde.density, kde.grid, facecolor=kde.color, alpha=0.5)\n",
    "    ax.plot(kde.mode.xcoords, kde.mode.ycoords, lw=0.5, c='k')\n",
    "\n",
    "ax.set_xticks(sp.xtick_positions, sp.s1_categories)\n",
    "\n",
    "fig.savefig('./test/Test-SplitViolin.pdf')"
   ]
  },
  {
   "cell_type": "markdown",
   "metadata": {},
   "source": [
    "# XYview"
   ]
  },
  {
   "cell_type": "markdown",
   "metadata": {},
   "source": [
    "The base class implementing scatter plot, pearson correlation, a regression line and a line representing slope 1"
   ]
  },
  {
   "cell_type": "code",
   "execution_count": 20,
   "metadata": {},
   "outputs": [],
   "source": [
    "metabolites = ['L-Cystine', 'Cysteine', 'NADH']"
   ]
  },
  {
   "cell_type": "code",
   "execution_count": 21,
   "metadata": {},
   "outputs": [
    {
     "data": {
      "text/html": [
       "<div>\n",
       "<style scoped>\n",
       "    .dataframe tbody tr th:only-of-type {\n",
       "        vertical-align: middle;\n",
       "    }\n",
       "\n",
       "    .dataframe tbody tr th {\n",
       "        vertical-align: top;\n",
       "    }\n",
       "\n",
       "    .dataframe thead th {\n",
       "        text-align: right;\n",
       "    }\n",
       "</style>\n",
       "<table border=\"1\" class=\"dataframe\">\n",
       "  <thead>\n",
       "    <tr style=\"text-align: right;\">\n",
       "      <th></th>\n",
       "      <th>ARNTL2KO_FG</th>\n",
       "      <th>FG_effect</th>\n",
       "    </tr>\n",
       "    <tr>\n",
       "      <th>metabolite</th>\n",
       "      <th></th>\n",
       "      <th></th>\n",
       "    </tr>\n",
       "  </thead>\n",
       "  <tbody>\n",
       "    <tr>\n",
       "      <th>2-2-Dimethyl Succinic acid</th>\n",
       "      <td>0.148329</td>\n",
       "      <td>0.803089</td>\n",
       "    </tr>\n",
       "    <tr>\n",
       "      <th>2-3-Dihydroxybenzoic acid</th>\n",
       "      <td>0.470715</td>\n",
       "      <td>0.575968</td>\n",
       "    </tr>\n",
       "    <tr>\n",
       "      <th>2-3-Dihydroxyisovalerate</th>\n",
       "      <td>0.393554</td>\n",
       "      <td>-0.012348</td>\n",
       "    </tr>\n",
       "    <tr>\n",
       "      <th>2-3-Pyridinedicarboxylic acid</th>\n",
       "      <td>-0.701599</td>\n",
       "      <td>-0.141486</td>\n",
       "    </tr>\n",
       "    <tr>\n",
       "      <th>2-4-Quinolinediol</th>\n",
       "      <td>-0.172184</td>\n",
       "      <td>-0.243374</td>\n",
       "    </tr>\n",
       "    <tr>\n",
       "      <th>...</th>\n",
       "      <td>...</td>\n",
       "      <td>...</td>\n",
       "    </tr>\n",
       "    <tr>\n",
       "      <th>o-Phospho-L-Serine</th>\n",
       "      <td>6.490183</td>\n",
       "      <td>-0.781902</td>\n",
       "    </tr>\n",
       "    <tr>\n",
       "      <th>trans-4-Hydroxy-L-proline</th>\n",
       "      <td>0.170155</td>\n",
       "      <td>-0.536262</td>\n",
       "    </tr>\n",
       "    <tr>\n",
       "      <th>trans-Aconitic acid</th>\n",
       "      <td>-0.228860</td>\n",
       "      <td>-0.048490</td>\n",
       "    </tr>\n",
       "    <tr>\n",
       "      <th>trans-trans Muconic acid</th>\n",
       "      <td>-0.780235</td>\n",
       "      <td>0.690774</td>\n",
       "    </tr>\n",
       "    <tr>\n",
       "      <th>±-Mevalonolactone</th>\n",
       "      <td>-0.282168</td>\n",
       "      <td>0.428370</td>\n",
       "    </tr>\n",
       "  </tbody>\n",
       "</table>\n",
       "<p>229 rows × 2 columns</p>\n",
       "</div>"
      ],
      "text/plain": [
       "                               ARNTL2KO_FG  FG_effect\n",
       "metabolite                                           \n",
       "2-2-Dimethyl Succinic acid        0.148329   0.803089\n",
       "2-3-Dihydroxybenzoic acid         0.470715   0.575968\n",
       "2-3-Dihydroxyisovalerate          0.393554  -0.012348\n",
       "2-3-Pyridinedicarboxylic acid    -0.701599  -0.141486\n",
       "2-4-Quinolinediol                -0.172184  -0.243374\n",
       "...                                    ...        ...\n",
       "o-Phospho-L-Serine                6.490183  -0.781902\n",
       "trans-4-Hydroxy-L-proline         0.170155  -0.536262\n",
       "trans-Aconitic acid              -0.228860  -0.048490\n",
       "trans-trans Muconic acid         -0.780235   0.690774\n",
       "±-Mevalonolactone                -0.282168   0.428370\n",
       "\n",
       "[229 rows x 2 columns]"
      ]
     },
     "execution_count": 21,
     "metadata": {},
     "output_type": "execute_result"
    }
   ],
   "source": [
    "all = pd.read_csv('./Metabolite-logFC-Signatures.csv', index_col=0)\n",
    "df = all.iloc[:, [0,2]].copy()\n",
    "df"
   ]
  },
  {
   "cell_type": "code",
   "execution_count": 22,
   "metadata": {},
   "outputs": [],
   "source": [
    "from cbviz.cbviz.XYtools import XYview\n",
    "from adjustText import adjust_text"
   ]
  },
  {
   "cell_type": "code",
   "execution_count": 69,
   "metadata": {},
   "outputs": [],
   "source": [
    "cond = df.index.isin(metabolites)\n",
    "xv = XYview(df, highlight=metabolites, pearson_label_kw={'fontsize':'small'}, s=np.where(cond, 40, 10), c=df.mean(1).values, cmap=plt.cm.RdBu_r)"
   ]
  },
  {
   "cell_type": "code",
   "execution_count": 71,
   "metadata": {},
   "outputs": [
    {
     "ename": "TypeError",
     "evalue": "'list' object is not callable",
     "output_type": "error",
     "traceback": [
      "\u001b[0;31m---------------------------------------------------------------------------\u001b[0m",
      "\u001b[0;31mTypeError\u001b[0m                                 Traceback (most recent call last)",
      "\u001b[0;32m/tmp/ipykernel_3937/3485775137.py\u001b[0m in \u001b[0;36m<module>\u001b[0;34m\u001b[0m\n\u001b[1;32m      5\u001b[0m \u001b[0max\u001b[0m\u001b[0;34m.\u001b[0m\u001b[0madd_artist\u001b[0m\u001b[0;34m(\u001b[0m\u001b[0mxv\u001b[0m\u001b[0;34m.\u001b[0m\u001b[0mget_reg_line\u001b[0m\u001b[0;34m(\u001b[0m\u001b[0;34m)\u001b[0m\u001b[0;34m)\u001b[0m\u001b[0;34m\u001b[0m\u001b[0;34m\u001b[0m\u001b[0m\n\u001b[1;32m      6\u001b[0m \u001b[0max\u001b[0m\u001b[0;34m.\u001b[0m\u001b[0mlegend\u001b[0m\u001b[0;34m(\u001b[0m\u001b[0;34m*\u001b[0m\u001b[0mxv\u001b[0m\u001b[0;34m.\u001b[0m\u001b[0mget_pearson_label\u001b[0m\u001b[0;34m(\u001b[0m\u001b[0;34m)\u001b[0m\u001b[0;34m,\u001b[0m \u001b[0;34m**\u001b[0m\u001b[0mxv\u001b[0m\u001b[0;34m.\u001b[0m\u001b[0mpearson_label_props\u001b[0m\u001b[0;34m)\u001b[0m\u001b[0;34m\u001b[0m\u001b[0;34m\u001b[0m\u001b[0m\n\u001b[0;32m----> 7\u001b[0;31m \u001b[0mtxts\u001b[0m \u001b[0;34m=\u001b[0m \u001b[0;34m[\u001b[0m\u001b[0max\u001b[0m\u001b[0;34m.\u001b[0m\u001b[0mtext\u001b[0m\u001b[0;34m(\u001b[0m\u001b[0;34m*\u001b[0m\u001b[0mtxt\u001b[0m\u001b[0;34m,\u001b[0m \u001b[0mfontsize\u001b[0m\u001b[0;34m=\u001b[0m\u001b[0;34m'x-small'\u001b[0m\u001b[0;34m)\u001b[0m \u001b[0;32mfor\u001b[0m \u001b[0mtxt\u001b[0m \u001b[0;32min\u001b[0m \u001b[0mxv\u001b[0m\u001b[0;34m.\u001b[0m\u001b[0mhighlight\u001b[0m\u001b[0;34m(\u001b[0m\u001b[0;34m)\u001b[0m\u001b[0;34m]\u001b[0m\u001b[0;34m\u001b[0m\u001b[0;34m\u001b[0m\u001b[0m\n\u001b[0m\u001b[1;32m      8\u001b[0m \u001b[0;31m# adjust_text(txts)\u001b[0m\u001b[0;34m\u001b[0m\u001b[0;34m\u001b[0m\u001b[0m\n\u001b[1;32m      9\u001b[0m \u001b[0;34m\u001b[0m\u001b[0m\n",
      "\u001b[0;31mTypeError\u001b[0m: 'list' object is not callable"
     ]
    },
    {
     "data": {
      "image/png": "[encoded data removed]",
      "text/plain": [
       "<Figure size 216x216 with 1 Axes>"
      ]
     },
     "metadata": {
      "needs_background": "light"
     },
     "output_type": "display_data"
    }
   ],
   "source": [
    "plt.style.use('cviz')\n",
    "fig, ax = plt.subplots(figsize=(3,3))\n",
    "\n",
    "ax.scatter(xv.x, xv.y, **xv.scatter_kw)\n",
    "ax.add_artist(xv.get_reg_line())\n",
    "ax.legend(*xv.get_pearson_label(), **xv.pearson_label_props)\n",
    "txts = [ax.text(*txt, fontsize='x-small') for txt in xv.label_dots()]\n",
    "# adjust_text(txts)\n",
    "\n",
    "fig.savefig('./test/Test-XYview.pdf')"
   ]
  },
  {
   "cell_type": "code",
   "execution_count": 136,
   "metadata": {},
   "outputs": [
    {
     "data": {
      "image/png": "[encoded data removed]",
      "text/plain": [
       "<Figure size 432x144 with 3 Axes>"
      ]
     },
     "metadata": {
      "needs_background": "light"
     },
     "output_type": "display_data"
    }
   ],
   "source": [
    "from itertools import combinations\n",
    "\n",
    "fig, axs = plt.subplots(ncols=3, figsize=(6, 2), gridspec_kw={'wspace':0.3})\n",
    "\n",
    "cond = all.index.isin(metabolites)\n",
    "\n",
    "for combo, ax in zip(combinations(all.columns.to_list(), 2), axs.flat):\n",
    "\n",
    "    xv = XYview(all[list(combo)], highlight=metabolites, s=np.where(cond, 40, 5), c=np.where(cond, 'r', '0.5'), alpha=np.where(cond, 1.0, 0.5))\n",
    "\n",
    "    ax.scatter(xv.x, xv.y, **xv.scatter_kw)\n",
    "    ax.add_artist(xv.reg_line)\n",
    "    ax.legend(*xv.pearson_label, **xv.pearson_label_props)\n",
    "    txts = [ax.text(*txt, fontsize='x-small') for  txt in xv.highlight]\n",
    "    ax.set_xlabel(xv.xlabel, labelpad=0.5)\n",
    "    ax.set_ylabel(xv.ylabel, labelpad=0.5)\n",
    "\n",
    "fig.savefig('./test/Test-XYview-Multi.pdf')"
   ]
  }
 ],
 "metadata": {
  "interpreter": {
   "hash": "e8d075b866a6e8bb417e6eedf4c3fd1246316055f9b48a9c795ca2a066087e73"
  },
  "kernelspec": {
   "display_name": "Python 3.9.7 64-bit ('devpack': conda)",
   "language": "python",
   "name": "python3"
  },
  "language_info": {
   "codemirror_mode": {
    "name": "ipython",
    "version": 3
   },
   "file_extension": ".py",
   "mimetype": "text/x-python",
   "name": "python",
   "nbconvert_exporter": "python",
   "pygments_lexer": "ipython3",
   "version": "3.9.7"
  },
  "orig_nbformat": 4
 },
 "nbformat": 4,
 "nbformat_minor": 2
}
