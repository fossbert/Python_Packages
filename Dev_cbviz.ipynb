{
 "cells": [
  {
   "cell_type": "code",
   "execution_count": 2,
   "metadata": {},
   "outputs": [],
   "source": [
    "%load_ext autoreload \n",
    "%autoreload 2"
   ]
  },
  {
   "cell_type": "code",
   "execution_count": 3,
   "metadata": {},
   "outputs": [],
   "source": [
    "import numpy as np \n",
    "import pandas as pd \n",
    "import matplotlib.pyplot as plt "
   ]
  },
  {
   "cell_type": "markdown",
   "metadata": {},
   "source": [
    "# Data classes"
   ]
  },
  {
   "cell_type": "code",
   "execution_count": null,
   "metadata": {},
   "outputs": [],
   "source": [
    "from cbviz.cbviz.utils import DataNum"
   ]
  },
  {
   "cell_type": "code",
   "execution_count": null,
   "metadata": {},
   "outputs": [],
   "source": [
    "all = pd.read_csv('./Metabolite-logFC-Signatures.csv', index_col=0)\n",
    "df = all.iloc[:, [0,2]].copy()\n",
    "\n",
    "dn = DataNum(df, ncols=2)"
   ]
  },
  {
   "cell_type": "code",
   "execution_count": null,
   "metadata": {},
   "outputs": [],
   "source": [
    "expected = np.repeat('floating', 1)\n",
    "observed = df.apply(infer_dtype).values\n",
    "type(expected)"
   ]
  },
  {
   "cell_type": "code",
   "execution_count": null,
   "metadata": {},
   "outputs": [],
   "source": [
    "s1 = np.random.permutation(np.repeat(['WT', 'Balanced', 'Minor', 'Major'], (30, 80, 50, 30)))\n",
    "s2 = np.repeat(['Basal-like', \"Classical\"], (57, 133))\n",
    "x = [y for x in [np.random.normal(loc=i, size=s) for i, s in zip((2, -2) , (57, 133)) ] for y in x]\n",
    "\n",
    "df2 = pd.DataFrame({\"x\" : x, \"s1\" : s1, \"s2\" : s2})\n",
    "df2['s1'] = df2['s1'].astype('category')"
   ]
  },
  {
   "cell_type": "code",
   "execution_count": null,
   "metadata": {},
   "outputs": [],
   "source": [
    "from cbviz.cbviz.utils import DataMix"
   ]
  },
  {
   "cell_type": "code",
   "execution_count": null,
   "metadata": {},
   "outputs": [],
   "source": [
    "DataMix(df2, ncat=2)"
   ]
  },
  {
   "cell_type": "markdown",
   "metadata": {},
   "source": [
    "# KDE related "
   ]
  },
  {
   "cell_type": "markdown",
   "metadata": {},
   "source": [
    "## Split violin "
   ]
  },
  {
   "cell_type": "code",
   "execution_count": null,
   "metadata": {},
   "outputs": [],
   "source": [
    "s1 = np.random.permutation(np.repeat(['WT', 'Balanced', 'Minor', 'Major'], (30, 80, 50, 30)))\n",
    "s2 = np.repeat(['Basal-like', \"Classical\"], (57, 133))\n",
    "x = [y for x in [np.random.normal(loc=i, size=s) for i, s in zip((2, -2) , (57, 133)) ] for y in x]\n",
    "\n",
    "data = pd.DataFrame({\"x\" : x, \"s1\" : s1, \"s2\" : s2})"
   ]
  },
  {
   "cell_type": "code",
   "execution_count": null,
   "metadata": {},
   "outputs": [],
   "source": [
    "from cbviz.cbviz.kdetools import SplitViolin"
   ]
  },
  {
   "cell_type": "code",
   "execution_count": null,
   "metadata": {},
   "outputs": [],
   "source": [
    "sp = SplitViolin(data, s1_order=['WT', 'Balanced', 'Minor', 'Major'], s2_order=['Classical', 'Basal-like'])"
   ]
  },
  {
   "cell_type": "code",
   "execution_count": null,
   "metadata": {},
   "outputs": [],
   "source": [
    "plt.style.use('cviz')\n",
    "fig, ax = plt.subplots(figsize=(3,2.5))\n",
    "\n",
    "for kde in sp.get_violins(colors=('cornflowerblue', 'salmon')):\n",
    "\n",
    "    ax.fill_betweenx(kde.density, kde.grid, facecolor=kde.color, alpha=0.5)\n",
    "    ax.plot(kde.mode.ycoords, kde.mode.xcoords, lw=0.5, c='k')\n",
    "\n",
    "ax.set_yticks(*sp.get_s1_ticks())\n",
    "\n",
    "leg = ax.legend(handles=sp.get_s2_legend(colors=('cornflowerblue', 'salmon')), \n",
    "                loc='upper left', handlelength=0.4,\n",
    "                bbox_to_anchor=(0, 1.0, 0, 0.15), ncol=2, fontsize='x-small')\n",
    "leg.get_frame().set_linewidth(0.2)\n",
    "\n",
    "[ax.axhline(i, lw=0.5, ls=\":\", c='0.5') for i in (sp.get_s1_ticks()[0])]\n",
    "ax.set_xlabel(sp.ylabel)\n",
    "# fig.savefig('./test/Test-SplitViolin.pdf')"
   ]
  },
  {
   "cell_type": "markdown",
   "metadata": {},
   "source": [
    "## Ridge plot"
   ]
  },
  {
   "cell_type": "code",
   "execution_count": null,
   "metadata": {},
   "outputs": [],
   "source": [
    "s1 = np.repeat(['WT', 'Balanced', 'Minor', 'Major'], (30, 80, 50, 30))\n",
    "x = [y for x in [np.random.normal(loc=i, size=s) for i, s in zip(range(4) , (30, 80, 50, 30)) ] for y in x]\n",
    "\n",
    "data = pd.DataFrame({\"x\" : x, \"s1\" : s1})\n",
    "data"
   ]
  },
  {
   "cell_type": "code",
   "execution_count": null,
   "metadata": {},
   "outputs": [],
   "source": [
    "from cbviz.cbviz.kdetools import Ridge"
   ]
  },
  {
   "cell_type": "code",
   "execution_count": null,
   "metadata": {},
   "outputs": [],
   "source": [
    "rp = Ridge(data, s1_order=['WT','Balanced', 'Minor', 'Major'], scale_factor=1.2)"
   ]
  },
  {
   "cell_type": "code",
   "execution_count": null,
   "metadata": {},
   "outputs": [],
   "source": [
    "plt.style.use('cviz')\n",
    "fig, ax = plt.subplots(figsize=(3,2.5))\n",
    "\n",
    "for kde in rp.get_kdes():\n",
    "\n",
    "    ax.fill_betweenx(kde.density, kde.grid, facecolor=kde.color, alpha=0.3)\n",
    "    ax.plot(kde.mode.ycoords, kde.mode.xcoords, lw=0.1, c='k')\n",
    "\n",
    "ax.set_yticks(*rp.get_s1_ticks())\n",
    "ax.set_xlabel(rp.ylabel)\n",
    "[ax.axhline(i, ls=':', lw=0.25, c='0.15') for i in rp.get_s1_ticks()[0]]"
   ]
  },
  {
   "cell_type": "markdown",
   "metadata": {},
   "source": [
    "# Scatterplots"
   ]
  },
  {
   "cell_type": "markdown",
   "metadata": {},
   "source": [
    "## XYview"
   ]
  },
  {
   "cell_type": "code",
   "execution_count": null,
   "metadata": {},
   "outputs": [],
   "source": [
    "metabolites = ['L-Cystine', 'Cysteine', 'NADH']"
   ]
  },
  {
   "cell_type": "code",
   "execution_count": null,
   "metadata": {},
   "outputs": [],
   "source": [
    "all = pd.read_csv('./Metabolite-logFC-Signatures.csv', index_col=0)\n",
    "df = all.iloc[:, [0,2]].copy()"
   ]
  },
  {
   "cell_type": "code",
   "execution_count": null,
   "metadata": {},
   "outputs": [],
   "source": [
    "from cbviz.cbviz.xytools import XYview\n",
    "from adjustText import adjust_text"
   ]
  },
  {
   "cell_type": "code",
   "execution_count": null,
   "metadata": {},
   "outputs": [],
   "source": [
    "cond = df.index.isin(metabolites)\n",
    "xv = XYview(df, highlight=metabolites, s=np.where(cond, 40, 10), c=np.where(cond, 'r', '.5'), alpha=1)"
   ]
  },
  {
   "cell_type": "code",
   "execution_count": null,
   "metadata": {},
   "outputs": [],
   "source": [
    "!pip install adjustText"
   ]
  },
  {
   "cell_type": "code",
   "execution_count": null,
   "metadata": {},
   "outputs": [],
   "source": [
    "plt.style.use('cviz')\n",
    "\n",
    "fig, ax = plt.subplots(figsize=(3,3))\n",
    "\n",
    "ax.scatter(xv.x, xv.y, **xv.scatter_kw)\n",
    "xv.add_correlation(fontsize='small')\n",
    "xv.add_reg_line(color='cornflowerblue', lw=1)\n",
    "xv.label_dots(adjust=True, fontsize='small')\n",
    "xv.label_xy()\n",
    "fig.savefig('./test/Test-XYview.pdf')"
   ]
  },
  {
   "cell_type": "markdown",
   "metadata": {},
   "source": [
    "## XYpairs"
   ]
  },
  {
   "cell_type": "code",
   "execution_count": null,
   "metadata": {},
   "outputs": [],
   "source": [
    "from cbviz.cbviz.xytools import XYpairs"
   ]
  },
  {
   "cell_type": "code",
   "execution_count": null,
   "metadata": {},
   "outputs": [],
   "source": [
    "metabolites = ['L-Cystine', 'Cysteine', 'NADH']"
   ]
  },
  {
   "cell_type": "code",
   "execution_count": null,
   "metadata": {},
   "outputs": [],
   "source": [
    "all = pd.read_csv('./Metabolite-logFC-Signatures.csv', index_col=0)"
   ]
  },
  {
   "cell_type": "code",
   "execution_count": null,
   "metadata": {},
   "outputs": [],
   "source": [
    "np.ptp(all.values.ravel()) * 0.02"
   ]
  },
  {
   "cell_type": "code",
   "execution_count": null,
   "metadata": {},
   "outputs": [],
   "source": [
    "all = all.iloc[:, [1,0,3,2]]"
   ]
  },
  {
   "cell_type": "code",
   "execution_count": null,
   "metadata": {},
   "outputs": [],
   "source": [
    "cond = all.index.isin(metabolites)\n",
    "xp = XYpairs(all, lower_tri=False)"
   ]
  },
  {
   "cell_type": "code",
   "execution_count": null,
   "metadata": {},
   "outputs": [],
   "source": [
    "plt.style.use('cviz')\n",
    "\n",
    "fig = plt.figure(figsize=(5, 5))\n",
    "\n",
    "gs = xp.add_gridspec(hspace=0.3, wspace=0.4)\n",
    "\n",
    "pairs = xp.get_pairs(highlight=metabolites, s=np.where(cond, 40, 10), c=np.where(cond, 'r', '0.5'), alpha=np.where(cond, 1, 0.5))\n",
    "for pair in pairs:\n",
    "    ax = fig.add_subplot(gs[pair.position])\n",
    "    ax.tick_params(labelsize='xx-small', pad=0)\n",
    "    xv = pair.XYview\n",
    "    ax.scatter(xv.x, xv.y, **xv.scatter_kw)\n",
    "    xv.add_reg_line()\n",
    "    xv.label_dots(adjust=True, fontsize='x-small')\n",
    "    if pair.combo == ['FG_effect_sgNT', 'sgARNTL2_effect_FG']:\n",
    "        xv.add_correlation(loc=1)\n",
    "    else:\n",
    "        xv.add_correlation(loc=4)\n",
    "    xv.label_xy(fontsize='x-small', outer=True)"
   ]
  },
  {
   "cell_type": "markdown",
   "metadata": {},
   "source": [
    "## XYzoom"
   ]
  },
  {
   "cell_type": "code",
   "execution_count": null,
   "metadata": {},
   "outputs": [],
   "source": [
    "metabolites = ['L-Cystine', 'Cysteine', 'NADH']\n",
    "all = pd.read_csv('./Metabolite-logFC-Signatures.csv', index_col=0)\n",
    "df = all.iloc[:, [0,2]].copy()"
   ]
  },
  {
   "cell_type": "code",
   "execution_count": null,
   "metadata": {},
   "outputs": [],
   "source": [
    "from cbviz.cbviz.xytools import XYzoom"
   ]
  },
  {
   "cell_type": "code",
   "execution_count": null,
   "metadata": {},
   "outputs": [],
   "source": [
    "xz = XYzoom(df, ('min', 0), ('min', 0))"
   ]
  },
  {
   "cell_type": "code",
   "execution_count": null,
   "metadata": {},
   "outputs": [],
   "source": [
    "top5 = xz.zoom_data.mean(1).nsmallest(5).index.to_list()\n",
    "cond = xz.data.df.index.isin(top5)"
   ]
  },
  {
   "cell_type": "code",
   "execution_count": null,
   "metadata": {},
   "outputs": [],
   "source": [
    "top5"
   ]
  },
  {
   "cell_type": "code",
   "execution_count": null,
   "metadata": {},
   "outputs": [],
   "source": [
    "plt.style.use('cviz')\n",
    "\n",
    "xz = XYzoom(df, ('min', 0), ('min', 0))\n",
    "\n",
    "top5 = xz.zoom_data.mean(1).nsmallest(5).index.to_list()\n",
    "cond = xz.data.df.index.isin(top5)\n",
    "\n",
    "fig, (ax1, ax2) = plt.subplots(1, 2, figsize=(4,2))\n",
    "\n",
    "ax2.scatter(xz.x, xz.y, **xz.scatter_kw)\n",
    "xz.add_xy_line(ax2)\n",
    "xz.add_rect(ax=ax2)\n",
    "ax1.scatter(xz.x, xz.y, s=np.where(cond, 20, 5), c=np.where(cond, 'r', '.5'), alpha=0.5, linewidths=0)\n",
    "xz.connect(ax2, ax1, 'left', lw=0.5, ls=':')\n",
    "xz.label_xy(ax=ax1, outer=False, fontsize='x-small')\n",
    "xz.label_dots(top5, ax=ax1, adjust=True, adjust_kwargs={'arrowprops':{'arrowstyle':'-', 'lw':0.2}}, fontsize=4)"
   ]
  },
  {
   "cell_type": "markdown",
   "metadata": {},
   "source": [
    "# Boxplots"
   ]
  },
  {
   "cell_type": "markdown",
   "metadata": {},
   "source": [
    "## Box plus strip plot"
   ]
  },
  {
   "cell_type": "code",
   "execution_count": 4,
   "metadata": {},
   "outputs": [
    {
     "data": {
      "text/html": [
       "<div>\n",
       "<style scoped>\n",
       "    .dataframe tbody tr th:only-of-type {\n",
       "        vertical-align: middle;\n",
       "    }\n",
       "\n",
       "    .dataframe tbody tr th {\n",
       "        vertical-align: top;\n",
       "    }\n",
       "\n",
       "    .dataframe thead th {\n",
       "        text-align: right;\n",
       "    }\n",
       "</style>\n",
       "<table border=\"1\" class=\"dataframe\">\n",
       "  <thead>\n",
       "    <tr style=\"text-align: right;\">\n",
       "      <th></th>\n",
       "      <th>x</th>\n",
       "      <th>s1</th>\n",
       "    </tr>\n",
       "  </thead>\n",
       "  <tbody>\n",
       "    <tr>\n",
       "      <th>0</th>\n",
       "      <td>0.586514</td>\n",
       "      <td>WT</td>\n",
       "    </tr>\n",
       "    <tr>\n",
       "      <th>1</th>\n",
       "      <td>-0.254171</td>\n",
       "      <td>WT</td>\n",
       "    </tr>\n",
       "    <tr>\n",
       "      <th>2</th>\n",
       "      <td>-0.590382</td>\n",
       "      <td>WT</td>\n",
       "    </tr>\n",
       "    <tr>\n",
       "      <th>3</th>\n",
       "      <td>-1.359882</td>\n",
       "      <td>WT</td>\n",
       "    </tr>\n",
       "    <tr>\n",
       "      <th>4</th>\n",
       "      <td>0.157553</td>\n",
       "      <td>WT</td>\n",
       "    </tr>\n",
       "    <tr>\n",
       "      <th>...</th>\n",
       "      <td>...</td>\n",
       "      <td>...</td>\n",
       "    </tr>\n",
       "    <tr>\n",
       "      <th>185</th>\n",
       "      <td>3.803295</td>\n",
       "      <td>Major</td>\n",
       "    </tr>\n",
       "    <tr>\n",
       "      <th>186</th>\n",
       "      <td>2.656286</td>\n",
       "      <td>Major</td>\n",
       "    </tr>\n",
       "    <tr>\n",
       "      <th>187</th>\n",
       "      <td>6.574079</td>\n",
       "      <td>Major</td>\n",
       "    </tr>\n",
       "    <tr>\n",
       "      <th>188</th>\n",
       "      <td>3.316785</td>\n",
       "      <td>Major</td>\n",
       "    </tr>\n",
       "    <tr>\n",
       "      <th>189</th>\n",
       "      <td>2.244610</td>\n",
       "      <td>Major</td>\n",
       "    </tr>\n",
       "  </tbody>\n",
       "</table>\n",
       "<p>190 rows × 2 columns</p>\n",
       "</div>"
      ],
      "text/plain": [
       "            x     s1\n",
       "0    0.586514     WT\n",
       "1   -0.254171     WT\n",
       "2   -0.590382     WT\n",
       "3   -1.359882     WT\n",
       "4    0.157553     WT\n",
       "..        ...    ...\n",
       "185  3.803295  Major\n",
       "186  2.656286  Major\n",
       "187  6.574079  Major\n",
       "188  3.316785  Major\n",
       "189  2.244610  Major\n",
       "\n",
       "[190 rows x 2 columns]"
      ]
     },
     "execution_count": 4,
     "metadata": {},
     "output_type": "execute_result"
    }
   ],
   "source": [
    "s1 = np.repeat(['WT', 'Balanced', 'Minor', 'Major'], (30, 80, 50, 30))\n",
    "x = [y for x in [np.random.normal(loc=i, size=s) for i, s in zip(range(4) , (30, 80, 50, 30)) ] for y in x]\n",
    "\n",
    "data = pd.DataFrame({\"x\" : x, \"s1\" : s1})\n",
    "data"
   ]
  },
  {
   "cell_type": "code",
   "execution_count": 5,
   "metadata": {},
   "outputs": [],
   "source": [
    "from cbviz.cbviz.bptools import StripBox"
   ]
  },
  {
   "cell_type": "code",
   "execution_count": 7,
   "metadata": {},
   "outputs": [],
   "source": [
    "sb = StripBox(data, p_method_global='Anova', s1_order=['WT', 'Balanced', 'Minor', 'Major'])"
   ]
  },
  {
   "cell_type": "code",
   "execution_count": null,
   "metadata": {},
   "outputs": [],
   "source": [
    "plt.style.use('cviz')\n",
    "\n",
    "fig, ax = plt.subplots(figsize=(2.5,2.5))\n",
    "\n",
    "sb.boxplt()\n",
    "sb.add_strips(s=20, alpha=0.50, linewidths=0)\n",
    "sb.add_global_p(fontsize='xx-small')"
   ]
  },
  {
   "cell_type": "code",
   "execution_count": null,
   "metadata": {},
   "outputs": [],
   "source": [
    "sb.calc_pairwise_p(adj_method='fdr_bh')"
   ]
  },
  {
   "cell_type": "code",
   "execution_count": null,
   "metadata": {},
   "outputs": [],
   "source": [
    "plt.style.use('cviz')\n",
    "\n",
    "fig, ax = plt.subplots(figsize=(3, 2.5))\n",
    "\n",
    "sb.boxplt()\n",
    "sb.add_strips(s=20, alpha=0.50, linewidths=0)\n",
    "sb.add_pair_p(groupA='WT', groupB='Minor', yoffset=0.5, cut_p=True)"
   ]
  },
  {
   "cell_type": "code",
   "execution_count": null,
   "metadata": {},
   "outputs": [],
   "source": [
    "from scipy.stats import f_oneway, ttest_ind"
   ]
  },
  {
   "cell_type": "code",
   "execution_count": null,
   "metadata": {},
   "outputs": [],
   "source": [
    "x, y = [np.random.normal(i, size=100) for i in range(2)]"
   ]
  },
  {
   "cell_type": "code",
   "execution_count": null,
   "metadata": {},
   "outputs": [],
   "source": [
    "f_oneway(x, y)"
   ]
  },
  {
   "cell_type": "code",
   "execution_count": 11,
   "metadata": {},
   "outputs": [],
   "source": [
    "data['s1'] = data['s1'].astype('category')"
   ]
  },
  {
   "cell_type": "code",
   "execution_count": 16,
   "metadata": {},
   "outputs": [],
   "source": [
    "from pandas.api.types import is_categorical_dtype\n",
    "def cat_cleaner(series):\n",
    "    if is_categorical_dtype(series):\n",
    "        return series.cat.remove_unused_categories()\n",
    "    else:\n",
    "        return series"
   ]
  },
  {
   "cell_type": "code",
   "execution_count": 18,
   "metadata": {},
   "outputs": [
    {
     "data": {
      "text/plain": [
       "0            WT\n",
       "1            WT\n",
       "2            WT\n",
       "3            WT\n",
       "4            WT\n",
       "         ...   \n",
       "105    Balanced\n",
       "106    Balanced\n",
       "107    Balanced\n",
       "108    Balanced\n",
       "109    Balanced\n",
       "Name: s1, Length: 110, dtype: category\n",
       "Categories (4, object): ['Balanced', 'Major', 'Minor', 'WT']"
      ]
     },
     "execution_count": 18,
     "metadata": {},
     "output_type": "execute_result"
    }
   ],
   "source": [
    "data[data['s1'].isin(['WT', 'Balanced'])]['s1']#.apply(cat_cleaner)"
   ]
  },
  {
   "cell_type": "code",
   "execution_count": null,
   "metadata": {},
   "outputs": [],
   "source": [
    "data[data['s1'].isin(['WT', 'Balanced'])].apply(cat_cleaner)['s1']"
   ]
  },
  {
   "cell_type": "code",
   "execution_count": null,
   "metadata": {},
   "outputs": [],
   "source": []
  },
  {
   "cell_type": "markdown",
   "metadata": {},
   "source": [
    "# Dotplot"
   ]
  },
  {
   "cell_type": "code",
   "execution_count": 29,
   "metadata": {},
   "outputs": [
    {
     "data": {
      "text/plain": [
       "Index(['x', 'y', 'fdr', 'med_tstat'], dtype='object')"
      ]
     },
     "execution_count": 29,
     "metadata": {},
     "output_type": "execute_result"
    }
   ],
   "source": [
    "df = pd.read_csv('./Dotplot_input.csv')\n",
    "df.columns"
   ]
  },
  {
   "cell_type": "code",
   "execution_count": 61,
   "metadata": {},
   "outputs": [],
   "source": [
    "hm = pd.read_table('/home/carlo/Documents/Data/HALLMARK_related/Hallmark_Sets_PerCategory.tsv')\n",
    "hm = hm[hm['Name'].isin(df['y'])]"
   ]
  },
  {
   "cell_type": "code",
   "execution_count": 62,
   "metadata": {},
   "outputs": [
    {
     "data": {
      "text/html": [
       "<div>\n",
       "<style scoped>\n",
       "    .dataframe tbody tr th:only-of-type {\n",
       "        vertical-align: middle;\n",
       "    }\n",
       "\n",
       "    .dataframe tbody tr th {\n",
       "        vertical-align: top;\n",
       "    }\n",
       "\n",
       "    .dataframe thead th {\n",
       "        text-align: right;\n",
       "    }\n",
       "</style>\n",
       "<table border=\"1\" class=\"dataframe\">\n",
       "  <thead>\n",
       "    <tr style=\"text-align: right;\">\n",
       "      <th></th>\n",
       "      <th>x</th>\n",
       "      <th>y</th>\n",
       "      <th>fdr</th>\n",
       "      <th>med_tstat</th>\n",
       "    </tr>\n",
       "  </thead>\n",
       "  <tbody>\n",
       "    <tr>\n",
       "      <th>0</th>\n",
       "      <td>G3</td>\n",
       "      <td>APICAL_JUNCTION</td>\n",
       "      <td>6.965650e-10</td>\n",
       "      <td>1.746768</td>\n",
       "    </tr>\n",
       "    <tr>\n",
       "      <th>1</th>\n",
       "      <td>G2</td>\n",
       "      <td>APICAL_JUNCTION</td>\n",
       "      <td>4.630886e-08</td>\n",
       "      <td>2.054626</td>\n",
       "    </tr>\n",
       "    <tr>\n",
       "      <th>2</th>\n",
       "      <td>G4</td>\n",
       "      <td>APICAL_JUNCTION</td>\n",
       "      <td>2.064868e-06</td>\n",
       "      <td>1.768375</td>\n",
       "    </tr>\n",
       "    <tr>\n",
       "      <th>3</th>\n",
       "      <td>G5</td>\n",
       "      <td>APICAL_JUNCTION</td>\n",
       "      <td>9.833112e-06</td>\n",
       "      <td>2.438977</td>\n",
       "    </tr>\n",
       "    <tr>\n",
       "      <th>4</th>\n",
       "      <td>G1</td>\n",
       "      <td>APICAL_JUNCTION</td>\n",
       "      <td>1.538726e-04</td>\n",
       "      <td>1.689385</td>\n",
       "    </tr>\n",
       "    <tr>\n",
       "      <th>...</th>\n",
       "      <td>...</td>\n",
       "      <td>...</td>\n",
       "      <td>...</td>\n",
       "      <td>...</td>\n",
       "    </tr>\n",
       "    <tr>\n",
       "      <th>152</th>\n",
       "      <td>G4</td>\n",
       "      <td>TGF_BETA_SIGNALING</td>\n",
       "      <td>2.643221e-02</td>\n",
       "      <td>0.382454</td>\n",
       "    </tr>\n",
       "    <tr>\n",
       "      <th>153</th>\n",
       "      <td>G3</td>\n",
       "      <td>TNFA_SIGNALING_VIA_NFKB</td>\n",
       "      <td>3.770096e-08</td>\n",
       "      <td>0.707726</td>\n",
       "    </tr>\n",
       "    <tr>\n",
       "      <th>154</th>\n",
       "      <td>G2</td>\n",
       "      <td>TNFA_SIGNALING_VIA_NFKB</td>\n",
       "      <td>7.804640e-08</td>\n",
       "      <td>0.869113</td>\n",
       "    </tr>\n",
       "    <tr>\n",
       "      <th>155</th>\n",
       "      <td>G4</td>\n",
       "      <td>TNFA_SIGNALING_VIA_NFKB</td>\n",
       "      <td>7.767872e-04</td>\n",
       "      <td>1.269029</td>\n",
       "    </tr>\n",
       "    <tr>\n",
       "      <th>156</th>\n",
       "      <td>G5</td>\n",
       "      <td>TNFA_SIGNALING_VIA_NFKB</td>\n",
       "      <td>1.400464e-06</td>\n",
       "      <td>1.679703</td>\n",
       "    </tr>\n",
       "  </tbody>\n",
       "</table>\n",
       "<p>157 rows × 4 columns</p>\n",
       "</div>"
      ],
      "text/plain": [
       "      x                        y           fdr  med_tstat\n",
       "0    G3          APICAL_JUNCTION  6.965650e-10   1.746768\n",
       "1    G2          APICAL_JUNCTION  4.630886e-08   2.054626\n",
       "2    G4          APICAL_JUNCTION  2.064868e-06   1.768375\n",
       "3    G5          APICAL_JUNCTION  9.833112e-06   2.438977\n",
       "4    G1          APICAL_JUNCTION  1.538726e-04   1.689385\n",
       "..   ..                      ...           ...        ...\n",
       "152  G4       TGF_BETA_SIGNALING  2.643221e-02   0.382454\n",
       "153  G3  TNFA_SIGNALING_VIA_NFKB  3.770096e-08   0.707726\n",
       "154  G2  TNFA_SIGNALING_VIA_NFKB  7.804640e-08   0.869113\n",
       "155  G4  TNFA_SIGNALING_VIA_NFKB  7.767872e-04   1.269029\n",
       "156  G5  TNFA_SIGNALING_VIA_NFKB  1.400464e-06   1.679703\n",
       "\n",
       "[157 rows x 4 columns]"
      ]
     },
     "execution_count": 62,
     "metadata": {},
     "output_type": "execute_result"
    }
   ],
   "source": [
    "df['y'] = df['y'].astype('category').cat.reorder_categories(hm['Name'].to_list())"
   ]
  },
  {
   "cell_type": "code",
   "execution_count": 63,
   "metadata": {},
   "outputs": [],
   "source": [
    "fdr = df.pivot(index='y', columns='x', values='fdr').fillna(1)\n",
    "sz = -np.log10(fdr.values.ravel())*3"
   ]
  },
  {
   "cell_type": "code",
   "execution_count": 64,
   "metadata": {},
   "outputs": [],
   "source": [
    "progr = df.pivot(index='y', columns='x', values='med_tstat')\n",
    "cls = progr.values.ravel()"
   ]
  },
  {
   "cell_type": "code",
   "execution_count": 65,
   "metadata": {},
   "outputs": [],
   "source": [
    "y,x = [arr.ravel() if i==0 else arr.ravel() for i, arr in enumerate(np.meshgrid(range(34), range(6)))]"
   ]
  },
  {
   "cell_type": "code",
   "execution_count": 75,
   "metadata": {},
   "outputs": [
    {
     "data": {
      "image/png": "[encoded data removed]",
      "text/plain": [
       "<Figure size 144x432 with 1 Axes>"
      ]
     },
     "metadata": {
      "needs_background": "light"
     },
     "output_type": "display_data"
    }
   ],
   "source": [
    "fig, ax = plt.subplots(figsize=(2,6))\n",
    "\n",
    "ax.scatter(x, y, s=sz, c=cls, cmap=plt.cm.coolwarm)\n",
    "ax.set_xlim(-0.5, 5.5)\n",
    "ax.set_ylim(-0.5, 34)\n",
    "ax.set_yticks(np.arange(34), fdr.index.to_list());\n",
    "ax.set_xticks(np.arange(6), fdr.columns.to_list());"
   ]
  },
  {
   "cell_type": "code",
   "execution_count": null,
   "metadata": {},
   "outputs": [],
   "source": []
  }
 ],
 "metadata": {
  "interpreter": {
   "hash": "e8d075b866a6e8bb417e6eedf4c3fd1246316055f9b48a9c795ca2a066087e73"
  },
  "kernelspec": {
   "display_name": "Python 3.9.7 64-bit ('devpack': conda)",
   "language": "python",
   "name": "python3"
  },
  "language_info": {
   "codemirror_mode": {
    "name": "ipython",
    "version": 3
   },
   "file_extension": ".py",
   "mimetype": "text/x-python",
   "name": "python",
   "nbconvert_exporter": "python",
   "pygments_lexer": "ipython3",
   "version": "3.9.7"
  },
  "orig_nbformat": 4
 },
 "nbformat": 4,
 "nbformat_minor": 2
}
