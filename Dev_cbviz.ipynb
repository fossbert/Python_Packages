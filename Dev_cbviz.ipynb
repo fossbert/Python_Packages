{
 "cells": [
  {
   "cell_type": "code",
   "execution_count": 1,
   "metadata": {},
   "outputs": [],
   "source": [
    "%load_ext autoreload \n",
    "%autoreload 2\n",
    "import numpy as np \n",
    "import pandas as pd \n",
    "import matplotlib.pyplot as plt "
   ]
  },
  {
   "attachments": {},
   "cell_type": "markdown",
   "metadata": {},
   "source": [
    "# Data classes"
   ]
  },
  {
   "cell_type": "code",
   "execution_count": null,
   "metadata": {},
   "outputs": [],
   "source": [
    "from cbviz.utils import DataNum"
   ]
  },
  {
   "cell_type": "code",
   "execution_count": null,
   "metadata": {},
   "outputs": [],
   "source": [
    "full = pd.read_csv('./Metabolite-logFC-Signatures.csv', index_col=0)\n",
    "df = full.iloc[:, [0,2]].copy()\n",
    "\n",
    "dn = DataNum(full)"
   ]
  },
  {
   "cell_type": "code",
   "execution_count": null,
   "metadata": {},
   "outputs": [],
   "source": [
    "expected = np.repeat('floating', 1)\n",
    "observed = df.apply(infer_dtype).values\n",
    "type(expected)"
   ]
  },
  {
   "cell_type": "code",
   "execution_count": null,
   "metadata": {},
   "outputs": [],
   "source": [
    "s1 = np.random.permutation(np.repeat(['WT', 'Balanced', 'Minor', 'Major'], (30, 80, 50, 30)))\n",
    "s2 = np.repeat(['Basal-like', \"Classical\"], (57, 133))\n",
    "x = [y for x in [np.random.normal(loc=i, size=s) for i, s in zip((2, -2) , (57, 133)) ] for y in x]\n",
    "\n",
    "df2 = pd.DataFrame({\"x\" : x, \"s1\" : s1, \"s2\" : s2})\n",
    "df2['s1'] = df2['s1'].astype('category')"
   ]
  },
  {
   "cell_type": "code",
   "execution_count": null,
   "metadata": {},
   "outputs": [],
   "source": [
    "from cbviz.utils import DataMix"
   ]
  },
  {
   "cell_type": "code",
   "execution_count": null,
   "metadata": {},
   "outputs": [],
   "source": [
    "DataMix(df2, ncat=2)"
   ]
  },
  {
   "cell_type": "code",
   "execution_count": null,
   "metadata": {},
   "outputs": [],
   "source": [
    "df = pd.DataFrame({'Age':np.random.randint(low=40, high=90, size=50), 'group':np.repeat(('ctrl', 'polyp'), (25, 25))})"
   ]
  },
  {
   "cell_type": "code",
   "execution_count": null,
   "metadata": {},
   "outputs": [],
   "source": [
    "df = pd.DataFrame({'Age':np.random.randint(low=40, high=90, size=50), 'group':np.repeat((0, 1), (25, 25))})"
   ]
  },
  {
   "cell_type": "code",
   "execution_count": null,
   "metadata": {},
   "outputs": [],
   "source": [
    "df.apply(pd.api.types.infer_dtype)"
   ]
  },
  {
   "cell_type": "code",
   "execution_count": null,
   "metadata": {},
   "outputs": [],
   "source": [
    "list(product(['floating', 'string', 'categorical'], repeat=3))"
   ]
  },
  {
   "cell_type": "markdown",
   "metadata": {},
   "source": [
    "## DataSurv"
   ]
  },
  {
   "cell_type": "code",
   "execution_count": 3,
   "metadata": {},
   "outputs": [],
   "source": [
    "X = pd.read_csv(\"./veteran.csv\").iloc[:,[0,1,7]]\n",
    "X['celltype'] = X['celltype'].map( {1:\"squamous\", 2:\"smallcell\", 3:\"adeno\", 4:\"large\"})"
   ]
  },
  {
   "cell_type": "code",
   "execution_count": 5,
   "metadata": {},
   "outputs": [],
   "source": [
    "# Two factor case\n",
    "X = pd.read_csv(\"./veteran.csv\").iloc[:,[0,1,6,7]]\n",
    "X['trt'] = X['trt'].map({1:\"control\", 2:\"test_chemo\"})\n",
    "X['celltype'] = X['celltype'].map( {1:\"squamous\", 2:\"smallcell\", 3:\"adeno\", 4:\"large\"})"
   ]
  },
  {
   "cell_type": "code",
   "execution_count": 4,
   "metadata": {},
   "outputs": [],
   "source": [
    "from cbviz.utils import DataSurv\n",
    "from cbviz.survival import KME"
   ]
  },
  {
   "cell_type": "code",
   "execution_count": 5,
   "metadata": {},
   "outputs": [
    {
     "data": {
      "text/plain": [
       "DataSurv(Obs total: 137, NaN removed: 0,\n",
       "Time column: time, event column: status,\n",
       "Annotating feature(s): 1. celltype)"
      ]
     },
     "execution_count": 5,
     "metadata": {},
     "output_type": "execute_result"
    }
   ],
   "source": [
    "DataSurv(X)"
   ]
  },
  {
   "cell_type": "code",
   "execution_count": 6,
   "metadata": {},
   "outputs": [],
   "source": [
    "kme = KME(X, s1_order=[\"squamous\", \"adeno\", \"large\", \"smallcell\"])"
   ]
  },
  {
   "cell_type": "code",
   "execution_count": 7,
   "metadata": {},
   "outputs": [],
   "source": [
    "kme.calc_pairwise_logranks()"
   ]
  },
  {
   "cell_type": "code",
   "execution_count": 8,
   "metadata": {},
   "outputs": [
    {
     "data": {
      "text/html": [
       "<div>\n",
       "<style scoped>\n",
       "    .dataframe tbody tr th:only-of-type {\n",
       "        vertical-align: middle;\n",
       "    }\n",
       "\n",
       "    .dataframe tbody tr th {\n",
       "        vertical-align: top;\n",
       "    }\n",
       "\n",
       "    .dataframe thead th {\n",
       "        text-align: right;\n",
       "    }\n",
       "</style>\n",
       "<table border=\"1\" class=\"dataframe\">\n",
       "  <thead>\n",
       "    <tr style=\"text-align: right;\">\n",
       "      <th></th>\n",
       "      <th>A</th>\n",
       "      <th>B</th>\n",
       "      <th>chi2</th>\n",
       "      <th>pval</th>\n",
       "      <th>fdr_bh</th>\n",
       "    </tr>\n",
       "  </thead>\n",
       "  <tbody>\n",
       "    <tr>\n",
       "      <th>0</th>\n",
       "      <td>squamous</td>\n",
       "      <td>adeno</td>\n",
       "      <td>12.045484</td>\n",
       "      <td>0.000519</td>\n",
       "      <td>0.001338</td>\n",
       "    </tr>\n",
       "    <tr>\n",
       "      <th>1</th>\n",
       "      <td>squamous</td>\n",
       "      <td>large</td>\n",
       "      <td>0.822594</td>\n",
       "      <td>0.364423</td>\n",
       "      <td>0.437307</td>\n",
       "    </tr>\n",
       "    <tr>\n",
       "      <th>2</th>\n",
       "      <td>squamous</td>\n",
       "      <td>smallcell</td>\n",
       "      <td>11.573674</td>\n",
       "      <td>0.000669</td>\n",
       "      <td>0.001338</td>\n",
       "    </tr>\n",
       "    <tr>\n",
       "      <th>3</th>\n",
       "      <td>adeno</td>\n",
       "      <td>large</td>\n",
       "      <td>17.669322</td>\n",
       "      <td>0.000026</td>\n",
       "      <td>0.000158</td>\n",
       "    </tr>\n",
       "    <tr>\n",
       "      <th>4</th>\n",
       "      <td>adeno</td>\n",
       "      <td>smallcell</td>\n",
       "      <td>0.096843</td>\n",
       "      <td>0.755651</td>\n",
       "      <td>0.755651</td>\n",
       "    </tr>\n",
       "    <tr>\n",
       "      <th>5</th>\n",
       "      <td>large</td>\n",
       "      <td>smallcell</td>\n",
       "      <td>9.370904</td>\n",
       "      <td>0.002205</td>\n",
       "      <td>0.003307</td>\n",
       "    </tr>\n",
       "  </tbody>\n",
       "</table>\n",
       "</div>"
      ],
      "text/plain": [
       "          A          B       chi2      pval    fdr_bh\n",
       "0  squamous      adeno  12.045484  0.000519  0.001338\n",
       "1  squamous      large   0.822594  0.364423  0.437307\n",
       "2  squamous  smallcell  11.573674  0.000669  0.001338\n",
       "3     adeno      large  17.669322  0.000026  0.000158\n",
       "4     adeno  smallcell   0.096843  0.755651  0.755651\n",
       "5     large  smallcell   9.370904  0.002205  0.003307"
      ]
     },
     "execution_count": 8,
     "metadata": {},
     "output_type": "execute_result"
    }
   ],
   "source": [
    "kme.pairwise_logranks"
   ]
  },
  {
   "cell_type": "code",
   "execution_count": 20,
   "metadata": {},
   "outputs": [
    {
     "name": "stdout",
     "output_type": "stream",
     "text": [
      "xoff before: 2\n",
      "0.8438438440001563\n",
      "xoff after: 3.6876876880003127\n"
     ]
    },
    {
     "data": {
      "image/png": "[encoded data removed]",
      "text/plain": [
       "<Figure size 640x480 with 1 Axes>"
      ]
     },
     "metadata": {},
     "output_type": "display_data"
    }
   ],
   "source": [
    "fig, ax = plt.subplots()\n",
    "\n",
    "kme.kmplot(q=0.25, label_offset=(2, 0.1), ax=ax, lw=3)\n",
    "# ax.legend(handles=kme.handles, handlelength=1, columnspacing=0.5)"
   ]
  },
  {
   "cell_type": "code",
   "execution_count": 153,
   "metadata": {},
   "outputs": [],
   "source": [
    "def fwd(vals):\n",
    "    return np.sqrt(vals)\n",
    "def rev(vals):\n",
    "    return np.power(vals, 2)"
   ]
  },
  {
   "cell_type": "code",
   "execution_count": 60,
   "metadata": {},
   "outputs": [
    {
     "name": "stdout",
     "output_type": "stream",
     "text": [
      "999.0\n",
      "[112.]\n",
      "[0.88788789]\n",
      "999.0\n",
      "[48.]\n",
      "[0.95195195]\n",
      "999.0\n",
      "[143.]\n",
      "[0.85685686]\n",
      "999.0\n",
      "[31.]\n",
      "[0.96896897]\n"
     ]
    },
    {
     "data": {
      "text/plain": [
       "<matplotlib.legend.Legend at 0x7fa66c7526d0>"
      ]
     },
     "execution_count": 60,
     "metadata": {},
     "output_type": "execute_result"
    },
    {
     "data": {
      "image/png": "[encoded data removed]",
      "text/plain": [
       "<Figure size 400x400 with 1 Axes>"
      ]
     },
     "metadata": {},
     "output_type": "display_data"
    }
   ],
   "source": [
    "fig, ax = plt.subplots(figsize=(4,4))\n",
    "\n",
    "kme.kmplot(stratify=True, add_label=True, draw_ci=True, label_offset=(4, 0.2), ax=ax, lw=2)\n",
    "kme.add_global_p(ax=ax, loc=7, fontsize='medium')\n",
    "leg1 = ax.legend(handles=kme.handles, handlelength=1, columnspacing=0.5)\n",
    "ax.add_artist(leg1)\n",
    "# ax.set_xscale(\"function\", functions=(fwd, rev))"
   ]
  },
  {
   "cell_type": "code",
   "execution_count": 71,
   "metadata": {},
   "outputs": [
    {
     "data": {
      "text/html": [
       "<div>\n",
       "<style scoped>\n",
       "    .dataframe tbody tr th:only-of-type {\n",
       "        vertical-align: middle;\n",
       "    }\n",
       "\n",
       "    .dataframe tbody tr th {\n",
       "        vertical-align: top;\n",
       "    }\n",
       "\n",
       "    .dataframe thead th {\n",
       "        text-align: right;\n",
       "    }\n",
       "</style>\n",
       "<table border=\"1\" class=\"dataframe\">\n",
       "  <thead>\n",
       "    <tr style=\"text-align: right;\">\n",
       "      <th></th>\n",
       "      <th>A</th>\n",
       "      <th>B</th>\n",
       "      <th>chi2</th>\n",
       "      <th>pval</th>\n",
       "      <th>fdr_bh</th>\n",
       "    </tr>\n",
       "  </thead>\n",
       "  <tbody>\n",
       "    <tr>\n",
       "      <th>0</th>\n",
       "      <td>squamous</td>\n",
       "      <td>adeno</td>\n",
       "      <td>12.045484</td>\n",
       "      <td>0.000519</td>\n",
       "      <td>0.001338</td>\n",
       "    </tr>\n",
       "    <tr>\n",
       "      <th>1</th>\n",
       "      <td>squamous</td>\n",
       "      <td>large</td>\n",
       "      <td>0.822594</td>\n",
       "      <td>0.364423</td>\n",
       "      <td>0.437307</td>\n",
       "    </tr>\n",
       "    <tr>\n",
       "      <th>2</th>\n",
       "      <td>squamous</td>\n",
       "      <td>smallcell</td>\n",
       "      <td>11.573674</td>\n",
       "      <td>0.000669</td>\n",
       "      <td>0.001338</td>\n",
       "    </tr>\n",
       "    <tr>\n",
       "      <th>3</th>\n",
       "      <td>adeno</td>\n",
       "      <td>large</td>\n",
       "      <td>17.669322</td>\n",
       "      <td>0.000026</td>\n",
       "      <td>0.000158</td>\n",
       "    </tr>\n",
       "    <tr>\n",
       "      <th>4</th>\n",
       "      <td>adeno</td>\n",
       "      <td>smallcell</td>\n",
       "      <td>0.096843</td>\n",
       "      <td>0.755651</td>\n",
       "      <td>0.755651</td>\n",
       "    </tr>\n",
       "    <tr>\n",
       "      <th>5</th>\n",
       "      <td>large</td>\n",
       "      <td>smallcell</td>\n",
       "      <td>9.370904</td>\n",
       "      <td>0.002205</td>\n",
       "      <td>0.003307</td>\n",
       "    </tr>\n",
       "  </tbody>\n",
       "</table>\n",
       "</div>"
      ],
      "text/plain": [
       "          A          B       chi2      pval    fdr_bh\n",
       "0  squamous      adeno  12.045484  0.000519  0.001338\n",
       "1  squamous      large   0.822594  0.364423  0.437307\n",
       "2  squamous  smallcell  11.573674  0.000669  0.001338\n",
       "3     adeno      large  17.669322  0.000026  0.000158\n",
       "4     adeno  smallcell   0.096843  0.755651  0.755651\n",
       "5     large  smallcell   9.370904  0.002205  0.003307"
      ]
     },
     "execution_count": 71,
     "metadata": {},
     "output_type": "execute_result"
    }
   ],
   "source": [
    "kme.pairwise_logranks"
   ]
  },
  {
   "cell_type": "code",
   "execution_count": 78,
   "metadata": {},
   "outputs": [],
   "source": [
    "tx = kme.pairwise_logranks.pivot_table(index='A', columns='B', values='pval')\n",
    "tx = tx.take(np.argsort(tx.isnull().sum(axis=1)))\n",
    "tx_vals = tx.values.ravel()\n",
    "x, y = [arr.ravel() for arr in np.meshgrid(np.arange(tx.shape[1]), np.arange(tx.shape[1]))]"
   ]
  },
  {
   "cell_type": "code",
   "execution_count": 90,
   "metadata": {},
   "outputs": [],
   "source": [
    "from matplotlib.colors import BoundaryNorm, ListedColormap, rgb2hex"
   ]
  },
  {
   "cell_type": "code",
   "execution_count": 91,
   "metadata": {},
   "outputs": [],
   "source": [
    "bnorm = BoundaryNorm(boundaries=[0, 1e-10, 1e-5, 1e-2, 1e-1, 1], ncolors=5)\n",
    "cmap = ListedColormap([rgb2hex(c) for c in plt.cm.Reds(np.linspace(1, 0.2, 5))])"
   ]
  },
  {
   "cell_type": "code",
   "execution_count": null,
   "metadata": {},
   "outputs": [
    {
     "data": {
      "image/png": "[encoded data removed]",
      "text/plain": [
       "<Figure size 250x250 with 1 Axes>"
      ]
     },
     "metadata": {},
     "output_type": "display_data"
    }
   ],
   "source": [
    "fig, ax = plt.subplots(figsize=(2.5,2.5))\n",
    "\n",
    "kme.heatmap_pairwise_logranks(ax=ax, fontsize=\"medium\")"
   ]
  },
  {
   "attachments": {},
   "cell_type": "markdown",
   "metadata": {},
   "source": [
    "# KDE related "
   ]
  },
  {
   "attachments": {},
   "cell_type": "markdown",
   "metadata": {},
   "source": [
    "## KDE"
   ]
  },
  {
   "cell_type": "code",
   "execution_count": null,
   "metadata": {},
   "outputs": [],
   "source": [
    "import numpy as np\n",
    "import pandas as pd"
   ]
  },
  {
   "cell_type": "code",
   "execution_count": null,
   "metadata": {},
   "outputs": [],
   "source": [
    "from cbviz.kde import KDE, _get_curve"
   ]
  },
  {
   "cell_type": "code",
   "execution_count": null,
   "metadata": {},
   "outputs": [],
   "source": [
    "data = pd.Series(np.random.normal(size=200), index=['val' + str(i) for i in range(200)])"
   ]
  },
  {
   "cell_type": "code",
   "execution_count": null,
   "metadata": {},
   "outputs": [],
   "source": [
    "KDE(data)"
   ]
  },
  {
   "cell_type": "code",
   "execution_count": null,
   "metadata": {},
   "outputs": [],
   "source": [
    "KDE(data)#, grid_kwargs={'gridsize':500, 'cut':1})"
   ]
  },
  {
   "cell_type": "code",
   "execution_count": null,
   "metadata": {},
   "outputs": [],
   "source": [
    "!which python"
   ]
  },
  {
   "cell_type": "code",
   "execution_count": null,
   "metadata": {},
   "outputs": [],
   "source": [
    "import matplotlib as mpl"
   ]
  },
  {
   "cell_type": "code",
   "execution_count": null,
   "metadata": {},
   "outputs": [],
   "source": [
    "mpl.rcParams['ytick.major.size']"
   ]
  },
  {
   "cell_type": "code",
   "execution_count": null,
   "metadata": {},
   "outputs": [],
   "source": [
    "plt.style.use('cviz')"
   ]
  },
  {
   "cell_type": "code",
   "execution_count": null,
   "metadata": {},
   "outputs": [],
   "source": [
    "plt.fill_between(kde.x, kde.y, edgecolor='k', facecolor='0.5', alpha=0.25)\n",
    "x, y = kde.find('val1')\n",
    "plt.plot([x]*2, [0, y], lw=0.5)\n",
    "plt.savefig('Test.pdf')"
   ]
  },
  {
   "attachments": {},
   "cell_type": "markdown",
   "metadata": {},
   "source": [
    "## Split violin "
   ]
  },
  {
   "cell_type": "code",
   "execution_count": null,
   "metadata": {},
   "outputs": [],
   "source": [
    "s1 = np.random.permutation(np.repeat(['WT', 'Balanced', 'Minor', 'Major'], (30, 80, 50, 30)))\n",
    "s2 = np.repeat(['Basal-like', \"Classical\"], (57, 133))\n",
    "x = [y for x in [np.random.normal(loc=i, size=s) for i, s in zip((2, -2) , (57, 133)) ] for y in x]\n",
    "\n",
    "data = pd.DataFrame({\"x\" : x, \"s1\" : s1, \"s2\" : s2})"
   ]
  },
  {
   "cell_type": "code",
   "execution_count": null,
   "metadata": {},
   "outputs": [],
   "source": [
    "from cbviz.cbviz.kdetools import SplitViolin"
   ]
  },
  {
   "cell_type": "code",
   "execution_count": null,
   "metadata": {},
   "outputs": [],
   "source": [
    "sp = SplitViolin(data, s1_order=['WT', 'Balanced', 'Minor', 'Major'], s2_order=['Classical', 'Basal-like'])"
   ]
  },
  {
   "cell_type": "code",
   "execution_count": null,
   "metadata": {},
   "outputs": [],
   "source": [
    "plt.style.use('cviz')\n",
    "fig, ax = plt.subplots(figsize=(3,2.5))\n",
    "\n",
    "for kde in sp.get_violins(colors=('cornflowerblue', 'salmon')):\n",
    "\n",
    "    ax.fill_betweenx(kde.density, kde.grid, facecolor=kde.color, alpha=0.5)\n",
    "    ax.plot(kde.mode.ycoords, kde.mode.xcoords, lw=0.5, c='k')\n",
    "\n",
    "ax.set_yticks(*sp.get_s1_ticks())\n",
    "\n",
    "leg = ax.legend(handles=sp.get_s2_legend(colors=('cornflowerblue', 'salmon')), \n",
    "                loc='upper left', handlelength=0.4,\n",
    "                bbox_to_anchor=(0, 1.0, 0, 0.15), ncol=2, fontsize='x-small')\n",
    "leg.get_frame().set_linewidth(0.2)\n",
    "\n",
    "[ax.axhline(i, lw=0.5, ls=\":\", c='0.5') for i in (sp.get_s1_ticks()[0])]\n",
    "ax.set_xlabel(sp.ylabel)\n",
    "# fig.savefig('./test/Test-SplitViolin.pdf')"
   ]
  },
  {
   "attachments": {},
   "cell_type": "markdown",
   "metadata": {},
   "source": [
    "## Ridge plot"
   ]
  },
  {
   "cell_type": "code",
   "execution_count": null,
   "metadata": {},
   "outputs": [],
   "source": [
    "s1 = np.repeat(['WT', 'Balanced', 'Minor', 'Major'], (30, 80, 50, 30))\n",
    "x = [y for x in [np.random.normal(loc=i, size=s) for i, s in zip(range(4) , (30, 80, 50, 30)) ] for y in x]\n",
    "\n",
    "data = pd.DataFrame({\"x\" : x, \"s1\" : s1})\n",
    "data"
   ]
  },
  {
   "cell_type": "code",
   "execution_count": null,
   "metadata": {},
   "outputs": [],
   "source": [
    "from cbviz.kde import Ridge"
   ]
  },
  {
   "cell_type": "code",
   "execution_count": null,
   "metadata": {},
   "outputs": [],
   "source": [
    "rp = Ridge(data, s1_order=['WT','Balanced', 'Minor', 'Major'], scale_factor=1.2)"
   ]
  },
  {
   "cell_type": "code",
   "execution_count": null,
   "metadata": {},
   "outputs": [],
   "source": [
    "plt.style.use('cviz')\n",
    "fig, ax = plt.subplots(figsize=(3,2.5))\n",
    "\n",
    "for kde in rp.get_kdes():\n",
    "\n",
    "    ax.fill_betweenx(kde.density, kde.grid, facecolor=kde.color, alpha=0.3)\n",
    "    ax.plot(kde.mode.ycoords, kde.mode.xcoords, lw=0.1, c='k')\n",
    "\n",
    "ax.set_yticks(*rp.get_s1_ticks())\n",
    "ax.set_xlabel(rp.ylabel)\n",
    "[ax.axhline(i, ls=':', lw=0.25, c='0.15') for i in rp.get_s1_ticks()[0]]"
   ]
  },
  {
   "attachments": {},
   "cell_type": "markdown",
   "metadata": {},
   "source": [
    "## Bivariate KDEs"
   ]
  },
  {
   "cell_type": "code",
   "execution_count": null,
   "metadata": {},
   "outputs": [],
   "source": [
    "from scipy.stats import gaussian_kde"
   ]
  },
  {
   "cell_type": "code",
   "execution_count": null,
   "metadata": {},
   "outputs": [],
   "source": [
    "m1 = np.random.normal(loc=3, size=100)\n",
    "m2 = m1 + np.random.normal(loc=0, size=100)"
   ]
  },
  {
   "cell_type": "code",
   "execution_count": null,
   "metadata": {},
   "outputs": [],
   "source": [
    "from cbviz.cbviz.kde import KDE2D"
   ]
  },
  {
   "cell_type": "code",
   "execution_count": null,
   "metadata": {},
   "outputs": [],
   "source": [
    "k2 = KDE2D(m1, m2)"
   ]
  },
  {
   "cell_type": "code",
   "execution_count": null,
   "metadata": {},
   "outputs": [],
   "source": [
    "fig, ax = plt.subplots()\n",
    "\n",
    "ax.contour(*k2.data, colors='C0', linewidths=0.5, zorder=-1)\n",
    "ax.scatter(m1, m2, alpha=0.6)"
   ]
  },
  {
   "cell_type": "code",
   "execution_count": null,
   "metadata": {},
   "outputs": [],
   "source": [
    "from cbviz.cbviz.xytools import XYview"
   ]
  },
  {
   "cell_type": "code",
   "execution_count": null,
   "metadata": {},
   "outputs": [],
   "source": [
    "test = pd.DataFrame({'x':m1, 'y':m2})\n",
    "test = test.take(test.mean(1).argsort())"
   ]
  },
  {
   "cell_type": "code",
   "execution_count": null,
   "metadata": {},
   "outputs": [],
   "source": [
    "s1 = np.repeat((1,2), repeats=50)"
   ]
  },
  {
   "cell_type": "code",
   "execution_count": null,
   "metadata": {},
   "outputs": [],
   "source": [
    "xv = XYview(test)"
   ]
  },
  {
   "cell_type": "code",
   "execution_count": null,
   "metadata": {},
   "outputs": [],
   "source": [
    "fig, ax = plt.subplots()\n",
    "\n",
    "ax.scatter(xv.x, xv.y, **xv.scatter_kw)\n",
    "xv.add_2d_densities(s1=s1, grid_kwargs={'cut':1}, linewidths=0.8)"
   ]
  },
  {
   "attachments": {},
   "cell_type": "markdown",
   "metadata": {},
   "source": [
    "# Scatterplots"
   ]
  },
  {
   "attachments": {},
   "cell_type": "markdown",
   "metadata": {},
   "source": [
    "## XYview"
   ]
  },
  {
   "cell_type": "code",
   "execution_count": null,
   "metadata": {},
   "outputs": [],
   "source": [
    "metabolites = ['L-Cystine', 'Cysteine', 'NADH']"
   ]
  },
  {
   "cell_type": "code",
   "execution_count": null,
   "metadata": {},
   "outputs": [],
   "source": [
    "all = pd.read_csv('./Metabolite-logFC-Signatures.csv', index_col=0)\n",
    "df = all.iloc[:, [0,2]].copy()"
   ]
  },
  {
   "cell_type": "code",
   "execution_count": null,
   "metadata": {},
   "outputs": [],
   "source": [
    "from cbviz.cbviz.xytools import XYview\n",
    "from adjustText import adjust_text"
   ]
  },
  {
   "cell_type": "code",
   "execution_count": null,
   "metadata": {},
   "outputs": [],
   "source": [
    "cond = df.index.isin(metabolites)\n",
    "s1 = np.where(cond, 40, 10)\n",
    "xv = XYview(df, s1=cond, s1_colors=['C0', 'C1'], highlight=metabolites, s=np.where(cond, 40, 10), alpha=1)"
   ]
  },
  {
   "cell_type": "code",
   "execution_count": null,
   "metadata": {},
   "outputs": [],
   "source": []
  },
  {
   "cell_type": "code",
   "execution_count": null,
   "metadata": {},
   "outputs": [],
   "source": [
    "plt.style.use('cviz')\n",
    "\n",
    "fig, ax = plt.subplots(figsize=(3,3))\n",
    "\n",
    "leg = plt.legend(handles=xv.handles, loc='lower right', markerscale=1.5, fontsize='x-small')\n",
    "leg.get_frame().set_linewidth(0.25)\n",
    "\n",
    "ax.scatter(**xv.scatter_call)\n",
    "xv.add_correlation(fontsize='small')\n",
    "xv.add_reg_line(color='cornflowerblue', lw=1)\n",
    "xv.label_dots(adjust=True, fontsize='small')\n",
    "xv.label_xy()\n",
    "ax.add_artist(leg)"
   ]
  },
  {
   "attachments": {},
   "cell_type": "markdown",
   "metadata": {},
   "source": [
    "## XYpairs"
   ]
  },
  {
   "cell_type": "code",
   "execution_count": null,
   "metadata": {},
   "outputs": [],
   "source": [
    "list(None)"
   ]
  },
  {
   "cell_type": "code",
   "execution_count": null,
   "metadata": {},
   "outputs": [],
   "source": [
    "from cbviz.cbviz.xytools import XYpairs"
   ]
  },
  {
   "cell_type": "code",
   "execution_count": null,
   "metadata": {},
   "outputs": [],
   "source": [
    "metabolites = ['L-Cystine', 'Cysteine', 'NADH']"
   ]
  },
  {
   "cell_type": "code",
   "execution_count": null,
   "metadata": {},
   "outputs": [],
   "source": [
    "all = pd.read_csv('./Metabolite-logFC-Signatures.csv', index_col=0)"
   ]
  },
  {
   "cell_type": "code",
   "execution_count": null,
   "metadata": {},
   "outputs": [],
   "source": [
    "np.ptp(all.values.ravel()) * 0.02"
   ]
  },
  {
   "cell_type": "code",
   "execution_count": null,
   "metadata": {},
   "outputs": [],
   "source": [
    "all = all.iloc[:, [1,0,3,2]]"
   ]
  },
  {
   "cell_type": "code",
   "execution_count": null,
   "metadata": {},
   "outputs": [],
   "source": [
    "cond = all.index.isin(metabolites)\n",
    "xp = XYpairs(all, lower_tri=False)"
   ]
  },
  {
   "cell_type": "code",
   "execution_count": null,
   "metadata": {},
   "outputs": [],
   "source": [
    "plt.style.use('cviz')\n",
    "\n",
    "fig = plt.figure(figsize=(5, 5))\n",
    "\n",
    "gs = xp.get_gridspec(hspace=0.3, wspace=0.4)\n",
    "\n",
    "pairs = xp.get_pairs(highlight=metabolites, s=np.where(cond, 40, 10), c=np.where(cond, 'r', '0.5'), alpha=np.where(cond, 1, 0.5))\n",
    "for pair in pairs:\n",
    "    ax = fig.add_subplot(gs[pair.position])\n",
    "    ax.tick_params(labelsize='xx-small', pad=0)\n",
    "    xv = pair.XYview\n",
    "    ax.scatter(xv.x, xv.y, **xv.scatter_kw)\n",
    "    xv.add_reg_line()\n",
    "    xv.label_dots(adjust=True, fontsize='x-small')\n",
    "    if pair.combo == ['FG_effect_sgNT', 'sgARNTL2_effect_FG']:\n",
    "        xv.add_correlation(loc=1)\n",
    "    else:\n",
    "        xv.add_correlation(loc=4)\n",
    "    xv.label_xy(fontsize='x-small', outer=True)"
   ]
  },
  {
   "attachments": {},
   "cell_type": "markdown",
   "metadata": {},
   "source": [
    "## XYzoom"
   ]
  },
  {
   "cell_type": "code",
   "execution_count": null,
   "metadata": {},
   "outputs": [],
   "source": [
    "metabolites = ['L-Cystine', 'Cysteine', 'NADH']\n",
    "all = pd.read_csv('./Metabolite-logFC-Signatures.csv', index_col=0)\n",
    "df = all.iloc[:, [0,2]].copy()"
   ]
  },
  {
   "cell_type": "code",
   "execution_count": null,
   "metadata": {},
   "outputs": [],
   "source": [
    "from cbviz.cbviz.xytools import XYzoom"
   ]
  },
  {
   "cell_type": "code",
   "execution_count": null,
   "metadata": {},
   "outputs": [],
   "source": [
    "xz = XYzoom(df, ('min', 0), ('min', 0))"
   ]
  },
  {
   "cell_type": "code",
   "execution_count": null,
   "metadata": {},
   "outputs": [],
   "source": [
    "top5 = xz.zoom_data.mean(1).nsmallest(5).index.to_list()\n",
    "cond = xz.data.df.index.isin(top5)"
   ]
  },
  {
   "cell_type": "code",
   "execution_count": null,
   "metadata": {},
   "outputs": [],
   "source": [
    "top5"
   ]
  },
  {
   "cell_type": "code",
   "execution_count": null,
   "metadata": {},
   "outputs": [],
   "source": [
    "plt.style.use('cviz')\n",
    "\n",
    "xz = XYzoom(df, ('min', 0), ('min', 0))\n",
    "\n",
    "top5 = xz.zoom_data.mean(1).nsmallest(5).index.to_list()\n",
    "cond = xz.data.df.index.isin(top5)\n",
    "\n",
    "fig, (ax1, ax2) = plt.subplots(1, 2, figsize=(4,2))\n",
    "\n",
    "ax2.scatter(xz.x, xz.y, **xz.scatter_kw)\n",
    "xz.add_xy_line(ax2)\n",
    "xz.add_rect(ax=ax2)\n",
    "ax1.scatter(xz.x, xz.y, s=np.where(cond, 20, 5), c=np.where(cond, 'r', '.5'), alpha=0.5, linewidths=0)\n",
    "xz.connect(ax2, ax1, 'left', lw=0.5, ls=':')\n",
    "xz.label_xy(ax=ax1, outer=False, fontsize='x-small')\n",
    "xz.label_dots(top5, ax=ax1, adjust=True, adjust_kwargs={'arrowprops':{'arrowstyle':'-', 'lw':0.2}}, fontsize=4)"
   ]
  },
  {
   "attachments": {},
   "cell_type": "markdown",
   "metadata": {},
   "source": [
    "# Boxplots"
   ]
  },
  {
   "attachments": {},
   "cell_type": "markdown",
   "metadata": {},
   "source": [
    "## Box plus strip plot"
   ]
  },
  {
   "cell_type": "code",
   "execution_count": null,
   "metadata": {},
   "outputs": [],
   "source": [
    "s1 = np.repeat(['WT', 'Balanced', 'Minor', 'Major'], (30, 80, 50, 30))\n",
    "# s1 = np.repeat(['WT', 'Balanced', 'WT', 'Balanced'], (30, 80, 50, 30))\n",
    "x = [y for x in [np.random.normal(loc=i, size=s) for i, s in zip(range(4) , (30, 80, 50, 30)) ] for y in x]\n",
    "\n",
    "data = pd.DataFrame({\"x\" : x, \"s1\" : s1})\n",
    "data"
   ]
  },
  {
   "cell_type": "code",
   "execution_count": null,
   "metadata": {},
   "outputs": [],
   "source": [
    "from cbviz.boxplot import StripBox"
   ]
  },
  {
   "cell_type": "code",
   "execution_count": null,
   "metadata": {},
   "outputs": [],
   "source": [
    "sb = StripBox(data, p_method_global='Anova', s1_order=['WT', 'Balanced', 'Minor', 'Major'])\n",
    "# sb = StripBox(data, p_method_global='Anova', s1_order=['WT', 'Balanced'])"
   ]
  },
  {
   "cell_type": "code",
   "execution_count": null,
   "metadata": {},
   "outputs": [],
   "source": [
    "plt.style.use('cviz')\n",
    "\n",
    "fig, ax = plt.subplots(figsize=(2.5,2.5))\n",
    "\n",
    "sb.boxplt()\n",
    "sb.add_strips(s=20, alpha=0.50, linewidths=0)\n",
    "sb.add_global_p(fontsize='xx-small')"
   ]
  },
  {
   "cell_type": "code",
   "execution_count": null,
   "metadata": {},
   "outputs": [],
   "source": [
    "sb.calc_pairwise_p(posthoc_method='tukey')"
   ]
  },
  {
   "cell_type": "code",
   "execution_count": null,
   "metadata": {},
   "outputs": [],
   "source": [
    "plt.style.use('cviz')\n",
    "\n",
    "fig, ax = plt.subplots(figsize=(3, 2.5))\n",
    "\n",
    "sb.boxplt()\n",
    "sb.add_strips(s=20, alpha=0.50, linewidths=0)\n",
    "sb.add_pair_p(groupA='WT', groupB='Minor', yoffset=0.5, cut_p=True)"
   ]
  },
  {
   "cell_type": "code",
   "execution_count": null,
   "metadata": {},
   "outputs": [],
   "source": [
    "from scipy.stats import f_oneway, ttest_ind"
   ]
  },
  {
   "cell_type": "code",
   "execution_count": null,
   "metadata": {},
   "outputs": [],
   "source": [
    "x, y = [np.random.normal(i, size=100) for i in range(2)]"
   ]
  },
  {
   "cell_type": "code",
   "execution_count": null,
   "metadata": {},
   "outputs": [],
   "source": [
    "data['s1'] = data['s1'].astype('category')"
   ]
  },
  {
   "cell_type": "code",
   "execution_count": null,
   "metadata": {},
   "outputs": [],
   "source": [
    "from pandas.api.types import is_categorical_dtype\n",
    "def cat_cleaner(series):\n",
    "    if is_categorical_dtype(series):\n",
    "        return series.cat.remove_unused_categories()\n",
    "    else:\n",
    "        return series"
   ]
  },
  {
   "cell_type": "code",
   "execution_count": null,
   "metadata": {},
   "outputs": [],
   "source": [
    "data[data['s1'].isin(['WT', 'Balanced'])]['s1']#.apply(cat_cleaner)"
   ]
  },
  {
   "cell_type": "code",
   "execution_count": null,
   "metadata": {},
   "outputs": [],
   "source": [
    "data[data['s1'].isin(['WT', 'Balanced'])].apply(cat_cleaner)['s1']"
   ]
  },
  {
   "attachments": {},
   "cell_type": "markdown",
   "metadata": {},
   "source": [
    "## SplitStripBox"
   ]
  },
  {
   "cell_type": "code",
   "execution_count": null,
   "metadata": {},
   "outputs": [],
   "source": [
    "s1 = np.random.permutation(np.repeat(['WT', 'Balanced', 'Minor', 'Major'], (30, 80, 50, 30)))\n",
    "s2 = np.repeat(['Basal-like', \"Classical\"], (57, 133))\n",
    "x = [y for x in [np.random.normal(loc=i, size=s) for i, s in zip((2, -2) , (57, 133)) ] for y in x]\n",
    "\n",
    "data = pd.DataFrame({\"x\" : x, \"s1\" : s1, \"s2\" : s2})"
   ]
  },
  {
   "cell_type": "code",
   "execution_count": null,
   "metadata": {},
   "outputs": [],
   "source": [
    "from cbviz.boxplot import SplitStripBox"
   ]
  },
  {
   "cell_type": "code",
   "execution_count": null,
   "metadata": {},
   "outputs": [],
   "source": [
    "sb = SplitStripBox(data)"
   ]
  },
  {
   "cell_type": "code",
   "execution_count": null,
   "metadata": {},
   "outputs": [],
   "source": [
    "plt.style.use('paper')\n",
    "\n",
    "fig, ax = plt.subplots()\n",
    "\n",
    "sb.boxplt();\n",
    "sb.add_strips()"
   ]
  },
  {
   "cell_type": "code",
   "execution_count": null,
   "metadata": {},
   "outputs": [],
   "source": [
    "sb = SplitStripBox(data)"
   ]
  },
  {
   "cell_type": "code",
   "execution_count": null,
   "metadata": {},
   "outputs": [],
   "source": [
    "from matplotlib import colors"
   ]
  },
  {
   "cell_type": "code",
   "execution_count": null,
   "metadata": {},
   "outputs": [],
   "source": [
    "from cbviz.boxplot import _get_bp_arrays"
   ]
  },
  {
   "attachments": {},
   "cell_type": "markdown",
   "metadata": {},
   "source": [
    "## PairedStripBox"
   ]
  },
  {
   "cell_type": "code",
   "execution_count": null,
   "metadata": {},
   "outputs": [],
   "source": [
    "Y = np.random.normal((2,2,2), scale=1, size=(100,3))\n",
    "X = np.random.normal((1,2,3), scale=0.08, size=(100, 3))"
   ]
  },
  {
   "cell_type": "code",
   "execution_count": null,
   "metadata": {},
   "outputs": [],
   "source": [
    "from cbviz.boxplot import PairedStripBox"
   ]
  },
  {
   "cell_type": "code",
   "execution_count": null,
   "metadata": {},
   "outputs": [],
   "source": [
    "pbp = PairedStripBox(pd.DataFrame(Y, columns=('Woot', 'The', 'Frick')), jitter=0.08)"
   ]
  },
  {
   "cell_type": "code",
   "execution_count": null,
   "metadata": {},
   "outputs": [],
   "source": [
    "pbp.stat_df"
   ]
  },
  {
   "cell_type": "code",
   "execution_count": null,
   "metadata": {},
   "outputs": [],
   "source": [
    "fig, ax = plt.subplots(figsize=(6,6), dpi=100)\n",
    "plt.style.use('paper')\n",
    "\n",
    "pbp.boxplt(ax=ax)\n",
    "pbp.add_strips(ax=ax, s=20)\n",
    "pbp.connect_strips(ax=ax)\n",
    "pbp.add_pair_p('Woot', 'The')"
   ]
  },
  {
   "cell_type": "code",
   "execution_count": null,
   "metadata": {},
   "outputs": [],
   "source": [
    "from itertools import combinations"
   ]
  },
  {
   "cell_type": "code",
   "execution_count": null,
   "metadata": {},
   "outputs": [],
   "source": [
    "from scipy.stats import wilcoxon"
   ]
  },
  {
   "cell_type": "code",
   "execution_count": null,
   "metadata": {},
   "outputs": [],
   "source": []
  },
  {
   "attachments": {},
   "cell_type": "markdown",
   "metadata": {},
   "source": [
    "# Dotplot"
   ]
  },
  {
   "cell_type": "code",
   "execution_count": null,
   "metadata": {},
   "outputs": [],
   "source": [
    "df = pd.read_csv('./Dotplot_input.csv')"
   ]
  },
  {
   "cell_type": "code",
   "execution_count": null,
   "metadata": {},
   "outputs": [],
   "source": [
    "df"
   ]
  },
  {
   "cell_type": "code",
   "execution_count": null,
   "metadata": {},
   "outputs": [],
   "source": [
    "from cbviz.dotplot import Dotplot"
   ]
  },
  {
   "cell_type": "code",
   "execution_count": null,
   "metadata": {},
   "outputs": [],
   "source": [
    "hm = pd.read_table('/home/carlo/Documents/Data/HALLMARK_related/Hallmark_Sets_PerCategory.tsv')\n",
    "hm = hm[hm['Name'].isin(df['y'])]\n",
    "df['y'] = df['y'].astype('category').cat.reorder_categories(hm['Name'].to_list())"
   ]
  },
  {
   "cell_type": "code",
   "execution_count": null,
   "metadata": {},
   "outputs": [],
   "source": [
    "hm.sort_values(['Process'], [])"
   ]
  },
  {
   "cell_type": "code",
   "execution_count": null,
   "metadata": {},
   "outputs": [],
   "source": [
    "df[['fdr', 'x', 'y', 'med_tstat']]"
   ]
  },
  {
   "cell_type": "code",
   "execution_count": null,
   "metadata": {},
   "outputs": [],
   "source": [
    "dp = Dotplot(df, 'x', 'y', 'fdr', 'med_tstat')"
   ]
  },
  {
   "cell_type": "code",
   "execution_count": null,
   "metadata": {},
   "outputs": [],
   "source": [
    "dp.cut_size(bins=[0, 1e-20, 1e-5, 0.05, 1], sizes_out=(0, 5, 20, 50), reverse=True)"
   ]
  },
  {
   "cell_type": "code",
   "execution_count": null,
   "metadata": {},
   "outputs": [],
   "source": [
    "dp.data"
   ]
  },
  {
   "cell_type": "code",
   "execution_count": null,
   "metadata": {},
   "outputs": [],
   "source": [
    "from matplotlib.colors import CenteredNorm"
   ]
  },
  {
   "cell_type": "code",
   "execution_count": null,
   "metadata": {},
   "outputs": [],
   "source": [
    "plt.style.use('cviz')\n",
    "fig, ax = plt.subplots(figsize=(1.5, 5))\n",
    "\n",
    "sp = ax.scatter(dp.x, dp.y, s=dp.size_cut, c=dp.color_raw, cmap=plt.cm.coolwarm, norm=CenteredNorm(0))\n",
    "dp.set_ticklabels(fontsize='x-small')\n",
    "ax.set_xlim(-0.5, 5.5)\n",
    "leg = ax.legend(handles=dp.get_size_handles(reverse=True,  marker_sizes=(4, 7, 9)), bbox_to_anchor=(1, 1, 0.2, 0), fontsize='x-small')\n",
    "leg.get_frame().set_linewidth(0.4)\n",
    "cax = fig.add_axes([1, 0.7, 0.4, 0.03])\n",
    "cax.set_xticks([-2.5, 0, 2.5], [-2.5, 0, 2.5], fontsize='x-small')\n",
    "cax.set_title('Progression stat', loc='left', fontsize='xx-small')\n",
    "fig.colorbar(sp, cax=cax, orientation='horizontal')\n",
    "fig.savefig('Figures/DotPlot-HALLMARKvsRPcluster.pdf')"
   ]
  },
  {
   "attachments": {},
   "cell_type": "markdown",
   "metadata": {},
   "source": [
    "# Corrplot"
   ]
  },
  {
   "cell_type": "code",
   "execution_count": null,
   "metadata": {},
   "outputs": [],
   "source": [
    "from cbviz.dotplot import Dotplot"
   ]
  },
  {
   "cell_type": "code",
   "execution_count": null,
   "metadata": {},
   "outputs": [],
   "source": [
    "df = pd.read_csv('./Corrplot_input.csv')"
   ]
  },
  {
   "cell_type": "code",
   "execution_count": null,
   "metadata": {},
   "outputs": [],
   "source": [
    "from cbviz.dotplot import Corrplot"
   ]
  },
  {
   "cell_type": "code",
   "execution_count": null,
   "metadata": {},
   "outputs": [],
   "source": [
    "cp = Corrplot(df, upper_left=False)"
   ]
  },
  {
   "cell_type": "code",
   "execution_count": null,
   "metadata": {},
   "outputs": [],
   "source": [
    "dp = cp.dp"
   ]
  },
  {
   "cell_type": "code",
   "execution_count": null,
   "metadata": {},
   "outputs": [],
   "source": [
    "dp.cut_size(bins=(0, 0.3, 0.6, 1), sizes_out=(40, 70, 100), transform=np.abs)"
   ]
  },
  {
   "cell_type": "code",
   "execution_count": null,
   "metadata": {},
   "outputs": [],
   "source": [
    "dp.df"
   ]
  },
  {
   "cell_type": "code",
   "execution_count": null,
   "metadata": {},
   "outputs": [],
   "source": [
    "plt.style.use('cviz')\n",
    "fig, ax = plt.subplots(figsize=(5,5))\n",
    "from matplotlib.colors import CenteredNorm\n",
    "\n",
    "sp = ax.scatter(dp.x, dp.y, s=dp.size_cut, c=dp.size_raw, cmap=plt.cm.coolwarm, norm=CenteredNorm(0, 1))\n",
    "ax.set_ylim(-0.5, dp.data.nrows)\n",
    "ax.set_xlim(-1, dp.data.ncols-0.5)\n",
    "ax.set_yticks(range(dp.data.nrows), dp.tick_names.yticks);\n",
    "ax.set_xticks(range(dp.data.ncols), dp.tick_names.xticks, rotation=60, rotation_mode='anchor', ha='left');\n",
    "ax.xaxis.tick_top()\n",
    "dp.annotate(sp, str_fmt=\"1.1f\")\n",
    "# cax = fig.add_axes([0.5, 0.3, 0.15, 0.02])\n",
    "# fig.colorbar(sp, cax=cax, orientation='horizontal')\n",
    "# cax.set_xticks((-1, 0, 1), (-1, 0, 1), fontsize='xx-small')\n",
    "# cax.set_title(\"Spearman's rho\", fontsize='x-small')\n",
    "# fig.savefig('./Polyps/Plots/Correlation-LabValues-Feb14-2022.pdf')"
   ]
  },
  {
   "attachments": {},
   "cell_type": "markdown",
   "metadata": {},
   "source": [
    "# Heatmap"
   ]
  },
  {
   "cell_type": "code",
   "execution_count": null,
   "metadata": {},
   "outputs": [],
   "source": [
    "import numpy as np \n",
    "import pandas as pd \n",
    "import matplotlib.pyplot as plt \n",
    "\n",
    "from scipy.cluster import hierarchy"
   ]
  },
  {
   "cell_type": "code",
   "execution_count": null,
   "metadata": {},
   "outputs": [],
   "source": [
    "d = pd.DataFrame(np.hstack([np.random.normal(loc=(0), scale=(1), size=(50, 20)), \n",
    "                            np.random.normal(loc=(3), scale=(1), size=(50, 40)),\n",
    "                            np.random.normal(loc=(6), scale=(1), size=(50, 10))]), columns=['Sample' + str(i) for i in range(70)])"
   ]
  },
  {
   "cell_type": "code",
   "execution_count": null,
   "metadata": {},
   "outputs": [],
   "source": [
    "Z = hierarchy.linkage(d.T, method='complete', metric='euclidean')\n",
    "dendro = hierarchy.dendrogram(Z, labels=d.columns, orientation='top', no_plot=True, color_threshold=0.7, above_threshold_color='0.5') "
   ]
  },
  {
   "cell_type": "code",
   "execution_count": null,
   "metadata": {},
   "outputs": [],
   "source": [
    "n_leaves = len(dendro['leaves'])\n",
    "max_dep_coord = max(map(max, dendro['dcoord']))"
   ]
  },
  {
   "cell_type": "code",
   "execution_count": null,
   "metadata": {},
   "outputs": [],
   "source": [
    "fig, (ax1, ax2) = plt.subplots(2, 1, gridspec_kw={'height_ratios':[1,5], 'hspace':0.02})\n",
    "\n",
    "[ax1.plot(xline, yline, c=\"C\" + str(lcolor), lw=0.8) for xline, yline, lcolor in zip(dendro['icoord'], dendro['dcoord'], hierarchy.cut_tree(Z, 3).ravel()[dendro['leaves']])];\n",
    "ax1.set_xlim(0, n_leaves * 10)\n",
    "ax1.set_ylim(0, max_dep_coord*1.02)\n",
    "ax1.axis('off')\n",
    "\n",
    "ax2.pcolormesh(d.iloc[:,dendro['leaves']])"
   ]
  },
  {
   "cell_type": "code",
   "execution_count": null,
   "metadata": {},
   "outputs": [],
   "source": [
    "group = hierarchy.cut_tree(Z, 3).ravel()[dendro['leaves']]\n",
    "pd.value_counts(group)"
   ]
  },
  {
   "cell_type": "code",
   "execution_count": null,
   "metadata": {},
   "outputs": [],
   "source": [
    "dendro_df = pd.DataFrame(zip(dendro['icoord'], dendro['dcoord'], group), columns=['xpos', 'ypos', 'group'])"
   ]
  },
  {
   "cell_type": "code",
   "execution_count": null,
   "metadata": {},
   "outputs": [],
   "source": [
    "dendro_df['xpos'].apply(np.ptp).groupby(dendro_df['group']).idxmax()"
   ]
  },
  {
   "cell_type": "code",
   "execution_count": null,
   "metadata": {},
   "outputs": [],
   "source": [
    "dendro_df.iloc[[27, 68, 8]]"
   ]
  },
  {
   "cell_type": "code",
   "execution_count": null,
   "metadata": {},
   "outputs": [],
   "source": [
    "from matplotlib.colors import CenteredNorm\n",
    "norm = CenteredNorm(2)"
   ]
  },
  {
   "cell_type": "code",
   "execution_count": null,
   "metadata": {},
   "outputs": [],
   "source": [
    "xmax, ymax = dendro_df.iloc[len(dendro_df)-1,:2]"
   ]
  },
  {
   "cell_type": "code",
   "execution_count": null,
   "metadata": {},
   "outputs": [],
   "source": [
    "ymax"
   ]
  },
  {
   "cell_type": "code",
   "execution_count": null,
   "metadata": {},
   "outputs": [],
   "source": [
    "dendro_df = dendro_df.iloc[:len(dendro_df)-1,:]"
   ]
  },
  {
   "cell_type": "code",
   "execution_count": null,
   "metadata": {},
   "outputs": [],
   "source": []
  },
  {
   "cell_type": "code",
   "execution_count": null,
   "metadata": {},
   "outputs": [],
   "source": [
    "from matplotlib.patches import ConnectionPatch"
   ]
  },
  {
   "cell_type": "code",
   "execution_count": null,
   "metadata": {},
   "outputs": [],
   "source": [
    "ymax"
   ]
  },
  {
   "cell_type": "code",
   "execution_count": null,
   "metadata": {},
   "outputs": [],
   "source": [
    "fig = plt.figure()\n",
    "\n",
    "gs = fig.add_gridspec(2, 2, height_ratios=[1, 5], hspace=0.1, width_ratios=[20, 40], wspace=0.1)\n",
    "\n",
    "\n",
    "dax1 = fig.add_subplot(gs[0, 0])\n",
    "ds1 = dendro_df.query(\"group==0\")\n",
    "xmin = min(map(min, ds1.xpos)) - 5\n",
    "for j, row in ds1.iterrows():\n",
    "    dax1.plot(row.xpos, row.ypos, c=\"C0\", lw=0.8)\n",
    "dax1.plot([95.78125, 95.78125], [12.009567550480682, 27.247460820793965], c=\"C0\", lw=0.8)    \n",
    "\n",
    "dax1.set_xlim(0, len(ds1) * 10)\n",
    "dax1.set_ylim(0, 30*1.02)\n",
    "dax1.axis('off')\n",
    "\n",
    "dax2 = fig.add_subplot(gs[0, 1])\n",
    "ds2 = dendro_df.query(\"group==1\")\n",
    "xmin = min(map(min, ds2.xpos)) - 5\n",
    "for j, row in ds2.iterrows():\n",
    "    dax2.plot(row.xpos, row.ypos, c=\"C1\", lw=0.8)\n",
    "dax2.plot([319.19921875, 319.19921875], [12.39584195228744, 27.247460820793965], c=\"C1\", lw=0.8)    \n",
    "dax2.set_xlim(200, len(dendro_df)+1 * 10)\n",
    "dax2.set_ylim(0, 30*1.02)\n",
    "dax2.axis('off')\n",
    "\n",
    "con = ConnectionPatch(xyA=(95.78125, 27.247460820793965), xyB=(319.19921875, 27.247460820793965), \n",
    "                      coordsA=\"data\", coordsB=\"data\", axesA=dax1, axesB=dax2, color=\"C0\", lw=0.8)\n",
    "\n",
    "fig.add_artist(con)\n",
    "\n",
    "for i, (g, ds) in enumerate(d.iloc[:,dendro['leaves']].groupby(group, axis=1)):\n",
    "\n",
    "    ax = fig.add_subplot(gs[1, i])\n",
    "    ax.pcolormesh(ds, norm=norm)\n",
    "\n"
   ]
  },
  {
   "cell_type": "markdown",
   "metadata": {},
   "source": [
    "# Survival"
   ]
  }
 ],
 "metadata": {
  "kernelspec": {
   "display_name": "work",
   "language": "python",
   "name": "python3"
  },
  "language_info": {
   "codemirror_mode": {
    "name": "ipython",
    "version": 3
   },
   "file_extension": ".py",
   "mimetype": "text/x-python",
   "name": "python",
   "nbconvert_exporter": "python",
   "pygments_lexer": "ipython3",
   "version": "3.9.16"
  },
  "orig_nbformat": 4
 },
 "nbformat": 4,
 "nbformat_minor": 2
}
