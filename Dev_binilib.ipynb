{
 "cells": [
  {
   "cell_type": "markdown",
   "source": [
    "# Import packages"
   ],
   "metadata": {}
  },
  {
   "cell_type": "code",
   "execution_count": 1,
   "source": [
    "%load_ext autoreload\n",
    "%autoreload 2"
   ],
   "outputs": [],
   "metadata": {}
  },
  {
   "cell_type": "code",
   "execution_count": null,
   "source": [
    "import sys\n",
    "sys.path"
   ],
   "outputs": [],
   "metadata": {}
  },
  {
   "cell_type": "code",
   "execution_count": 2,
   "source": [
    "import numpy as np\n",
    "import pandas as pd\n",
    "import matplotlib.pyplot as plt   \n",
    "import seaborn as sns"
   ],
   "outputs": [],
   "metadata": {}
  },
  {
   "cell_type": "markdown",
   "source": [
    "# HALLMARK Gene Sets import"
   ],
   "metadata": {}
  },
  {
   "cell_type": "code",
   "execution_count": null,
   "source": [
    "gene_sets = {}\n",
    "\n",
    "with open('../Data/HALLMARK_related/h.all.v7.4.symbols.gmt') as f:\n",
    "    for line in f:\n",
    "        tmp = line.rstrip('\\n').split('\\t')\n",
    "        pw = tmp.pop(0)\n",
    "        gene_sets[pw] = tmp[1:]"
   ],
   "outputs": [],
   "metadata": {}
  },
  {
   "cell_type": "markdown",
   "source": [
    "# GSEA1T: the workhorse"
   ],
   "metadata": {}
  },
  {
   "cell_type": "code",
   "execution_count": null,
   "source": [
    "from gsea import Gsea1T "
   ],
   "outputs": [],
   "metadata": {}
  },
  {
   "cell_type": "markdown",
   "source": [
    "## Example signature"
   ],
   "metadata": {}
  },
  {
   "cell_type": "code",
   "execution_count": null,
   "source": [
    "\n",
    "import pandas as pd \n",
    "gsig = pd.read_table('../Analyses/1_CUMC_LCM/ARNTL2/Hypoxia_ARNTL2_RNASeq/Results/KDHypoxia.rnk', \n",
    "                        header=None, index_col=0)\n",
    "ges = pd.Series(data=gsig.values.ravel(), index=gsig.index, name='hypoxia')"
   ],
   "outputs": [],
   "metadata": {}
  },
  {
   "cell_type": "code",
   "execution_count": null,
   "source": [
    "gsobj = Gsea1T(ges, gene_sets['HALLMARK_INTERFERON_ALPHA_RESPONSE'])\n",
    "# gsobj = Gsea1T(ges, gene_sets['HALLMARK_KRAS_SIGNALING_UP'])"
   ],
   "outputs": [],
   "metadata": {}
  },
  {
   "cell_type": "code",
   "execution_count": null,
   "source": [
    "fig = gsobj.plot(figsize=(3, 3), ges_type='Wald stat')\n",
    "fig.savefig('Test-Gsea1T.pdf')\n",
    "# pkw = {'color':'C3'}\n",
    "# fig = gsobj.plot_ledge(figsize=(3, 3), highlight=('LAMP3', 'GBP2'))\n",
    "# fig.savefig('Test-Gsea1T-Ledge.pdf')"
   ],
   "outputs": [],
   "metadata": {
    "scrolled": true
   }
  },
  {
   "cell_type": "code",
   "execution_count": null,
   "source": [
    "x, y, z = list(zip(*zip(np.arange(10), np.arange(10), ['OK']*10)))\n",
    "x"
   ],
   "outputs": [],
   "metadata": {}
  },
  {
   "cell_type": "code",
   "execution_count": null,
   "source": [
    "import matplotlib as mpl\n",
    "mpl.matplotlib_fname()"
   ],
   "outputs": [],
   "metadata": {}
  },
  {
   "cell_type": "markdown",
   "source": [
    "# GSEA1TMultSig: show one gene set on multiple signatures"
   ],
   "metadata": {}
  },
  {
   "cell_type": "code",
   "execution_count": null,
   "source": [
    "import numpy as np\n",
    "import pandas as pd\n",
    "import matplotlib.pyplot as plt\n",
    "from gsea import Gsea1TMultSigs"
   ],
   "outputs": [],
   "metadata": {}
  },
  {
   "cell_type": "markdown",
   "source": [
    "## Example dset"
   ],
   "metadata": {}
  },
  {
   "cell_type": "code",
   "execution_count": null,
   "source": [
    "dset = pd.read_csv('/home/carlo/Documents/Analyses/1_CUMC_LCM/ARNTL2/Hypoxia_ARNTL2_RNASeq/Results/KnockdDown_WaldStatSinatures.csv', index_col=0)\n",
    "dset.columns = dset.columns.str.upper()\n",
    "dset"
   ],
   "outputs": [],
   "metadata": {}
  },
  {
   "cell_type": "code",
   "execution_count": null,
   "source": [
    "dset = pd.read_table('/home/carlo/Documents/Analyses/1_CUMC_LCM/Sample-Data/Output_results/Log2FC-Matrix-Histopath-Signatures.txt', index_col=0)\n",
    "dset.columns = dset.columns.str.upper()\n",
    "dset"
   ],
   "outputs": [],
   "metadata": {}
  },
  {
   "cell_type": "markdown",
   "source": [
    "## HALLMARK"
   ],
   "metadata": {}
  },
  {
   "cell_type": "code",
   "execution_count": null,
   "source": [
    "gene_sets = {}\n",
    "\n",
    "with open('../Data/HALLMARK_related/h.all.v7.4.symbols.gmt') as f:\n",
    "    for line in f:\n",
    "        tmp = line.rstrip('\\n').split('\\t')\n",
    "        pw = tmp.pop(0)\n",
    "        gene_sets[pw] = tmp[1:]\n"
   ],
   "outputs": [],
   "metadata": {}
  },
  {
   "cell_type": "markdown",
   "source": [
    "## Class definition"
   ],
   "metadata": {}
  },
  {
   "cell_type": "code",
   "execution_count": null,
   "source": [
    "gsobj = Gsea1TMultSigs(dset, gene_set=gene_sets.get('HALLMARK_HYPOXIA'))"
   ],
   "outputs": [],
   "metadata": {}
  },
  {
   "cell_type": "code",
   "execution_count": null,
   "source": [
    "fig = gsobj.plot(figsize=(3, 1.5), \n",
    "                 norm_kw={'vcenter':0, 'vmin':-10, 'vmax':10}, \n",
    "                 add_title='GS: HYPOXIA')"
   ],
   "outputs": [],
   "metadata": {}
  },
  {
   "cell_type": "code",
   "execution_count": null,
   "source": [
    "fig.savefig('Test-Gsea1TMultSigs.pdf')"
   ],
   "outputs": [],
   "metadata": {}
  },
  {
   "cell_type": "markdown",
   "source": [
    "# GSEA1TMultSet: Multiple gene sets on one signature"
   ],
   "metadata": {}
  },
  {
   "cell_type": "markdown",
   "source": [
    "## Example signature"
   ],
   "metadata": {}
  },
  {
   "cell_type": "code",
   "execution_count": null,
   "source": [
    "\n",
    "import numpy as np\n",
    "import pandas as pd\n",
    "from gsea import Gsea1TMultSets\n",
    "\n",
    "hypo_sig = pd.read_table('../Analyses/1_CUMC_LCM/ARNTL2/Hypoxia_ARNTL2_RNASeq/Results/KnockdownNormoxia-Signature-Results.tsv')\n",
    "ges = pd.Series(data=hypo_sig['stat'].values, index=hypo_sig['row'].values)"
   ],
   "outputs": [],
   "metadata": {}
  },
  {
   "cell_type": "markdown",
   "source": [
    "## HALLMARK gene sets"
   ],
   "metadata": {}
  },
  {
   "cell_type": "code",
   "execution_count": null,
   "source": [
    "gene_sets = {}\n",
    "\n",
    "with open('../Data/HALLMARK_related/h.all.v7.4.symbols.gmt') as f:\n",
    "    for line in f:\n",
    "        tmp = line.rstrip('\\n').split('\\t')\n",
    "        pw = tmp.pop(0)\n",
    "        gene_sets[pw] = tmp[1:]\n",
    "        \n",
    "len(gene_sets)"
   ],
   "outputs": [],
   "metadata": {}
  },
  {
   "cell_type": "markdown",
   "source": [
    "Gsea1TMultSets"
   ],
   "metadata": {}
  },
  {
   "cell_type": "code",
   "execution_count": null,
   "source": [
    "gsobj = Gsea1TMultSets(ges, gene_sets, minsize=5)\n",
    "gsobj"
   ],
   "outputs": [],
   "metadata": {}
  },
  {
   "cell_type": "code",
   "execution_count": null,
   "source": [
    "\n",
    "fig = gsobj.plot(figsize=(3, 6), \n",
    "                 conditions=('CTRL', 'ARNTL2 KD'))\n",
    "fig.savefig('Test-Gsea1TMultSet.pdf')"
   ],
   "outputs": [],
   "metadata": {}
  },
  {
   "cell_type": "code",
   "execution_count": null,
   "source": [
    "gsobj.stats.to_csv('/home/carlo/Documents/Analyses/1_CUMC_LCM/ARNTL2/Hypoxia_ARNTL2_RNASeq/Results/aREA_HALLMARK_ARNTL2KD_Normoxia.tsv', sep='\\t', index=False)"
   ],
   "outputs": [],
   "metadata": {}
  },
  {
   "cell_type": "markdown",
   "source": [
    "# Gsea2T"
   ],
   "metadata": {}
  },
  {
   "cell_type": "code",
   "execution_count": null,
   "source": [
    "%load_ext autoreload\n",
    "%autoreload 2\n"
   ],
   "outputs": [],
   "metadata": {}
  },
  {
   "cell_type": "markdown",
   "source": [
    "## Example signature"
   ],
   "metadata": {}
  },
  {
   "cell_type": "code",
   "execution_count": null,
   "source": [
    "import numpy as np\n",
    "import pandas as pd\n",
    "from gsea import Gsea2T\n",
    "\n",
    "hypo_sig = pd.read_table('../Analyses/1_CUMC_LCM/ARNTL2/Hypoxia_ARNTL2_RNASeq/Results/KnockdownHypoxia-Signature-Results.tsv')\n",
    "ges = pd.Series(data=hypo_sig['stat'].values, index=hypo_sig['row'].values)"
   ],
   "outputs": [],
   "metadata": {}
  },
  {
   "cell_type": "code",
   "execution_count": null,
   "source": [
    "gsobj = Gsea2T(ges,  gene_set_1=gene_sets['HALLMARK_INTERFERON_ALPHA_RESPONSE'], gene_set_2=gene_sets['HALLMARK_HYPOXIA'])"
   ],
   "outputs": [],
   "metadata": {}
  },
  {
   "cell_type": "code",
   "execution_count": null,
   "source": [
    "gsobj"
   ],
   "outputs": [],
   "metadata": {}
  },
  {
   "cell_type": "code",
   "execution_count": null,
   "source": [
    "fig = gsobj.plot(conditions=('ARNTL2 KD', 'CTRL'), ges_type='Wald stat')\n",
    "fig.savefig('Gsea2T-Test.pdf')"
   ],
   "outputs": [],
   "metadata": {}
  },
  {
   "cell_type": "code",
   "execution_count": null,
   "source": [
    "fig = gsobj.plot_ledge(lbl_kw_1={'fontsize':5}, lbl_kw_2={\"fontsize\":5}, ledge_trim_2=25)\n",
    "fig.savefig('Gsea2T-Ledge-Test.pdf')"
   ],
   "outputs": [],
   "metadata": {}
  },
  {
   "cell_type": "markdown",
   "source": [],
   "metadata": {}
  },
  {
   "cell_type": "markdown",
   "source": [
    "# GseaReg"
   ],
   "metadata": {}
  },
  {
   "cell_type": "code",
   "execution_count": null,
   "source": [
    "dset = pd.read_table('../Analyses/1_CUMC_LCM/Sample-Data/Output_results/Log2FC-Matrix-Histopath-Signatures.txt', index_col=0)\n",
    "ges = dset.pop('SquamousVsRest').copy()"
   ],
   "outputs": [],
   "metadata": {}
  },
  {
   "cell_type": "code",
   "execution_count": null,
   "source": [
    "ges"
   ],
   "outputs": [],
   "metadata": {}
  },
  {
   "cell_type": "code",
   "execution_count": null,
   "source": [
    "reg = pd.read_csv('../Analyses/1_CUMC_LCM/Salmon_Gencode_hg38/Networks_Salmon/Epi/CUMC-Enet.csv')\n",
    "reg_dict = {reg:df[['target', 'mor', 'likelihood']] for reg, df in reg.groupby('source', as_index=False)}\n",
    "reg_dict"
   ],
   "outputs": [],
   "metadata": {}
  },
  {
   "cell_type": "code",
   "execution_count": null,
   "source": [
    "rp_reg = {rp:df for rp, df in reg_dict.items() if rp=='ARNTL2'}\n",
    "rp_reg"
   ],
   "outputs": [],
   "metadata": {}
  },
  {
   "cell_type": "code",
   "execution_count": null,
   "source": [
    "from gsea import GseaReg"
   ],
   "outputs": [],
   "metadata": {}
  },
  {
   "cell_type": "code",
   "execution_count": null,
   "source": [
    "gsobj = GseaReg(ges, rp_reg)"
   ],
   "outputs": [],
   "metadata": {}
  },
  {
   "cell_type": "code",
   "execution_count": null,
   "source": [
    "from gsea import aREA"
   ],
   "outputs": [],
   "metadata": {}
  },
  {
   "cell_type": "code",
   "execution_count": null,
   "source": [
    "fig = gsobj.plot(conditions=('Squamous', 'Rest'))\n",
    "fig.savefig('GseaReg-Test.pdf')"
   ],
   "outputs": [],
   "metadata": {}
  },
  {
   "cell_type": "code",
   "execution_count": null,
   "source": [
    "gsobj.ledge_1"
   ],
   "outputs": [],
   "metadata": {}
  },
  {
   "cell_type": "code",
   "execution_count": null,
   "source": [
    "fig = gsobj.plot_ledge(ledge_trim_1=30, ledge_trim_2=30, highlight_set_1=('HCAR2', 'EREG', 'CAV1'))\n",
    "fig.savefig('GseaReg-Ledge-Test.pdf')"
   ],
   "outputs": [],
   "metadata": {}
  },
  {
   "cell_type": "markdown",
   "source": [
    "---"
   ],
   "metadata": {}
  },
  {
   "cell_type": "markdown",
   "source": [
    "# GseaRegMultSig"
   ],
   "metadata": {}
  },
  {
   "cell_type": "code",
   "execution_count": null,
   "source": [
    "%load_ext autoreload\n",
    "%autoreload 2"
   ],
   "outputs": [],
   "metadata": {}
  },
  {
   "cell_type": "code",
   "execution_count": null,
   "source": [
    "import numpy as np\n",
    "import pandas as pd\n",
    "import matplotlib.pyplot as plt\n",
    "from gsea import GseaRegTMultSigs"
   ],
   "outputs": [],
   "metadata": {}
  },
  {
   "cell_type": "markdown",
   "source": [
    "## Example signature"
   ],
   "metadata": {}
  },
  {
   "cell_type": "code",
   "execution_count": null,
   "source": [
    "dset = pd.read_table('../Analyses/1_CUMC_LCM/Sample-Data/Output_results/Log2FC-Matrix-Histopath-Signatures.txt', index_col=0)\n",
    "dset.head()"
   ],
   "outputs": [],
   "metadata": {}
  },
  {
   "cell_type": "markdown",
   "source": [
    "## Example regulon"
   ],
   "metadata": {}
  },
  {
   "cell_type": "code",
   "execution_count": null,
   "source": [
    "reg = pd.read_csv('../Analyses/1_CUMC_LCM/Salmon_Gencode_hg38/Networks_Salmon/Epi/CUMC-Enet.csv')\n",
    "reg_dict = {i:group.reset_index(drop=True) for i, group in reg.groupby('source', as_index=True)}"
   ],
   "outputs": [],
   "metadata": {}
  },
  {
   "cell_type": "code",
   "execution_count": null,
   "source": [
    "rp_reg = {r:df.drop('source', axis=1) for r, df in reg_dict.items() if r=='ARNTL2'}\n",
    "rp_reg"
   ],
   "outputs": [],
   "metadata": {}
  },
  {
   "cell_type": "code",
   "execution_count": null,
   "source": [
    "gsobj = GseaRegTMultSigs(dset, rp_reg)"
   ],
   "outputs": [],
   "metadata": {}
  },
  {
   "cell_type": "code",
   "execution_count": null,
   "source": [
    "gsobj.stats"
   ],
   "outputs": [],
   "metadata": {}
  },
  {
   "cell_type": "code",
   "execution_count": null,
   "source": [
    "fig = gsobj.plot(figsize=(3, 2))\n",
    "fig.savefig('GseaRegMultSigs-Test.pdf')"
   ],
   "outputs": [],
   "metadata": {}
  },
  {
   "cell_type": "markdown",
   "source": [
    "# GseaMultReg"
   ],
   "metadata": {}
  },
  {
   "cell_type": "code",
   "execution_count": 3,
   "source": [
    "dset = pd.read_table('../Analyses/1_CUMC_LCM/Sample-Data/Output_results/Log2FC-Matrix-Histopath-Signatures.txt', index_col=0)\n",
    "ges = dset.pop('SquamousVsRest').copy()"
   ],
   "outputs": [],
   "metadata": {}
  },
  {
   "cell_type": "code",
   "execution_count": 4,
   "source": [
    "reg = pd.read_csv('../Analyses/1_CUMC_LCM/Salmon_Gencode_hg38/Networks_Salmon/Epi/CUMC-Enet.csv')\n",
    "reg_dict = {reg:df[['target', 'mor', 'likelihood']] for reg, df in reg.groupby('source', as_index=False)}"
   ],
   "outputs": [],
   "metadata": {}
  },
  {
   "cell_type": "code",
   "execution_count": 5,
   "source": [
    "from gsea import GseaMultReg"
   ],
   "outputs": [],
   "metadata": {}
  },
  {
   "cell_type": "code",
   "execution_count": 27,
   "source": [
    "gsobj = GseaMultReg(ges, reg_dict)"
   ],
   "outputs": [],
   "metadata": {}
  },
  {
   "cell_type": "code",
   "execution_count": 28,
   "source": [
    "gsobj"
   ],
   "outputs": [
    {
     "output_type": "execute_result",
     "data": {
      "text/plain": [
       "GseaMultReg(GES length: 19165\n",
       "Regulators provided: 2211\n",
       "Regulators evaluated: 2211"
      ]
     },
     "metadata": {},
     "execution_count": 28
    }
   ],
   "metadata": {}
  },
  {
   "cell_type": "code",
   "execution_count": 52,
   "source": [
    "fig = gsobj.plot(conditions=('Rest', 'Squamous'), figsize=(3,4))\n",
    "fig.savefig('GseaMultReg-Test.pdf')"
   ],
   "outputs": [
    {
     "output_type": "display_data",
     "data": {
      "image/png": "[encoded data removed]",
      "text/plain": [
       "<Figure size 216x288 with 4 Axes>"
      ]
     },
     "metadata": {
      "needs_background": "light"
     }
    }
   ],
   "metadata": {}
  },
  {
   "cell_type": "code",
   "execution_count": 44,
   "source": [
    "df = gsobj.stats\n",
    "top_rp = df.take(df['NES'].abs().nlargest(20).index)['Regulator']\n",
    "df = df[df['Regulator'].isin(top_rp)]\n",
    "df.reset_index(inplace=True, drop=True)"
   ],
   "outputs": [],
   "metadata": {}
  },
  {
   "cell_type": "code",
   "execution_count": 42,
   "source": [
    "targets = gsobj.target_idx.loc[df['Regulator']].values\n",
    "evt_data = [arr for tup in targets for arr in tup]\n"
   ],
   "outputs": [],
   "metadata": {}
  },
  {
   "cell_type": "code",
   "execution_count": 45,
   "source": [
    "len(evt_data)"
   ],
   "outputs": [
    {
     "output_type": "execute_result",
     "data": {
      "text/plain": [
       "40"
      ]
     },
     "metadata": {},
     "execution_count": 45
    }
   ],
   "metadata": {}
  },
  {
   "cell_type": "code",
   "execution_count": 26,
   "source": [
    "gsobj.plot()"
   ],
   "outputs": [
    {
     "output_type": "error",
     "ename": "TypeError",
     "evalue": "'NoneType' object is not subscriptable",
     "traceback": [
      "\u001b[0;31m---------------------------------------------------------------------------\u001b[0m",
      "\u001b[0;31mTypeError\u001b[0m                                 Traceback (most recent call last)",
      "\u001b[0;32m<ipython-input-26-8a0daa53fd10>\u001b[0m in \u001b[0;36m<module>\u001b[0;34m\u001b[0m\n\u001b[0;32m----> 1\u001b[0;31m \u001b[0mgsobj\u001b[0m\u001b[0;34m.\u001b[0m\u001b[0mplot\u001b[0m\u001b[0;34m(\u001b[0m\u001b[0;34m)\u001b[0m\u001b[0;34m\u001b[0m\u001b[0;34m\u001b[0m\u001b[0m\n\u001b[0m",
      "\u001b[0;32m~/Documents/Python_Packages/gsea/gsea/Gsea2T.py\u001b[0m in \u001b[0;36mplot\u001b[0;34m(self, figsize, conditions, subset, ges_type, ges_kw, evt_kw, pcm_kw, norm_kw)\u001b[0m\n\u001b[1;32m    836\u001b[0m             \u001b[0mdf\u001b[0m \u001b[0;34m=\u001b[0m \u001b[0mdf\u001b[0m\u001b[0;34m[\u001b[0m\u001b[0mdf\u001b[0m\u001b[0;34m[\u001b[0m\u001b[0;34m'Regulator'\u001b[0m\u001b[0;34m]\u001b[0m\u001b[0;34m.\u001b[0m\u001b[0misin\u001b[0m\u001b[0;34m(\u001b[0m\u001b[0mtop_rp\u001b[0m\u001b[0;34m)\u001b[0m\u001b[0;34m]\u001b[0m\u001b[0;34m.\u001b[0m\u001b[0mreset_index\u001b[0m\u001b[0;34m(\u001b[0m\u001b[0minplace\u001b[0m\u001b[0;34m=\u001b[0m\u001b[0;32mTrue\u001b[0m\u001b[0;34m)\u001b[0m\u001b[0;34m\u001b[0m\u001b[0;34m\u001b[0m\u001b[0m\n\u001b[1;32m    837\u001b[0m \u001b[0;34m\u001b[0m\u001b[0m\n\u001b[0;32m--> 838\u001b[0;31m         \u001b[0mtargets\u001b[0m \u001b[0;34m=\u001b[0m \u001b[0mself\u001b[0m\u001b[0;34m.\u001b[0m\u001b[0mtarget_idx\u001b[0m\u001b[0;34m.\u001b[0m\u001b[0mloc\u001b[0m\u001b[0;34m[\u001b[0m\u001b[0mdf\u001b[0m\u001b[0;34m[\u001b[0m\u001b[0;34m'Regulator'\u001b[0m\u001b[0;34m]\u001b[0m\u001b[0;34m]\u001b[0m\u001b[0;34m.\u001b[0m\u001b[0mvalues\u001b[0m\u001b[0;34m\u001b[0m\u001b[0;34m\u001b[0m\u001b[0m\n\u001b[0m\u001b[1;32m    839\u001b[0m         \u001b[0mevt_data\u001b[0m \u001b[0;34m=\u001b[0m \u001b[0;34m[\u001b[0m\u001b[0marr\u001b[0m \u001b[0;32mfor\u001b[0m \u001b[0mtup\u001b[0m \u001b[0;32min\u001b[0m \u001b[0mtargets\u001b[0m \u001b[0;32mfor\u001b[0m \u001b[0marr\u001b[0m \u001b[0;32min\u001b[0m \u001b[0mtup\u001b[0m\u001b[0;34m]\u001b[0m\u001b[0;34m\u001b[0m\u001b[0;34m\u001b[0m\u001b[0m\n\u001b[1;32m    840\u001b[0m \u001b[0;34m\u001b[0m\u001b[0m\n",
      "\u001b[0;31mTypeError\u001b[0m: 'NoneType' object is not subscriptable"
     ]
    }
   ],
   "metadata": {}
  },
  {
   "cell_type": "code",
   "execution_count": null,
   "source": [],
   "outputs": [],
   "metadata": {}
  },
  {
   "cell_type": "code",
   "execution_count": null,
   "source": [
    "def _find_hits(self, \n",
    "               ges: pd.Series, \n",
    "               gene_sets: dict):\n",
    "        \"\"\"\n",
    "\n",
    "        Args:\n",
    "          ges: pd.Series: \n",
    "          gene_sets: dict: \n",
    "\n",
    "        Returns: \n",
    "        \"\"\"\n",
    "\n",
    "        # This will have to be sorted first, which is the case in this Class\n",
    "    ges = ges.argsort()\n",
    "        \n",
    "    return [ges[ges.index.intersection(val)].values for val in gene_sets.values()]\n",
    "            "
   ],
   "outputs": [],
   "metadata": {}
  },
  {
   "cell_type": "code",
   "execution_count": null,
   "source": [
    "gsobj = GseaMultReg(ges, reg_dict)"
   ],
   "outputs": [],
   "metadata": {}
  },
  {
   "cell_type": "code",
   "execution_count": null,
   "source": [
    "fig, ax = plt.subplots()\n",
    "ax.eventplot(tt[:20], linelengths=0.33, linewidths=0.7, lineoffsets=offs,  colors=cls);\n",
    "\n",
    "ax.set_yticklabels(['A', 'B', 'C', 'D', 'E', 'F', 'G', 'H', 'I', 'J'], va='top')\n",
    "fig.savefig('GseaRegMultSig-Test.pdf')"
   ],
   "outputs": [],
   "metadata": {}
  },
  {
   "cell_type": "code",
   "execution_count": null,
   "source": [
    "from gsea import GseaRegTMultSigs\n"
   ],
   "outputs": [],
   "metadata": {}
  },
  {
   "cell_type": "code",
   "execution_count": null,
   "source": [
    "gsobj = GseaRegTMultSigs(dset, rp_reg)"
   ],
   "outputs": [],
   "metadata": {}
  },
  {
   "cell_type": "code",
   "execution_count": null,
   "source": [
    "from matplotlib.gridspec import GridSpec\n",
    "from matplotlib.cm import coolwarm, ScalarMappable\n",
    "cmap = coolwarm\n",
    "cols = np.tile(['#FB5607', '#828C51'], len(regs))\n",
    "\n",
    "\n",
    "fig = plt.figure(tight_layout=True)\n",
    "gs = GridSpec(nrows=2, ncols=2, hspace=0, height_ratios=[1,10], width_ratios=[1,10])\n",
    "\n",
    "ax1 = plt.subplot(gs[0,1])\n",
    "fig.colorbar(ScalarMappable(cmap=cmap), orientation='horizontal', ticks=[],cax=ax1)\n",
    "ax1.annotate('Down', (0, 0.5), xycoords='axes fraction', color='w', ha='left', va='center')\n",
    "ax1.annotate('Up', (1, 0.5), xycoords='axes fraction', color='w', ha='right', va='center')\n",
    "ax1.margins(y=0)\n",
    "\n",
    "ax2 = plt.subplot(gs[1,1])\n",
    "ax2.eventplot(data, linelengths=1/3, lineoffsets=ys_info['ypos'], alpha=0.5, color=cols)\n",
    "ax2.margins(x=0.02)\n",
    "ax2.set_yticks(ys_info['labelpos'])\n",
    "ax2.set_yticklabels(regs)\n",
    "ax2.tick_params(length=0, pad=0.8, labelsize=8)\n",
    "ax2.spines['right'].set_visible(False)\n",
    "ax2.spines['left'].set_visible(False)\n",
    "ax2.spines['top'].set_visible(False)\n",
    "ax2.set_ylim([-.25, len(regs)-1])\n",
    "\n",
    "# for i, stats in enumerate([(-1.9611294, 0.00023004587), (-1.237399, 0.15832263)]):\n",
    "#     nes, fdr = stats\n",
    "#     ax2.text(0, i-.26, 'NES: {:.2f}, FDR: {:.2e}'.format(nes, fdr), va='top')\n",
    "\n",
    "ax3 = plt.subplot(gs[1,0])\n",
    "ax3.pcolormesh(stats.values[:,np.newaxis], cmap='viridis')\n",
    "ax3.axis('off')\n",
    "for i, nes in enumerate(stats.values):\n",
    "    ax3.text(x=0.5, y=i+0.5, s=\"{:.2f}\".format(nes), ha='center', c='w', fontsize=8)\n",
    "ax3.set_title('NES')\n",
    "#fig.savefig('test3.pdf', transparent=True, bbox_inches='tight', dpi=150)\n"
   ],
   "outputs": [],
   "metadata": {}
  },
  {
   "cell_type": "code",
   "execution_count": null,
   "source": [],
   "outputs": [],
   "metadata": {}
  },
  {
   "cell_type": "code",
   "execution_count": null,
   "source": [],
   "outputs": [],
   "metadata": {}
  },
  {
   "cell_type": "markdown",
   "source": [
    "# Testing out color maps"
   ],
   "metadata": {}
  },
  {
   "cell_type": "code",
   "execution_count": null,
   "source": [
    "import numpy as np\n",
    "import matplotlib.pyplot as plt\n",
    "import matplotlib.colors as colors\n",
    "import matplotlib.cbook as cbook\n",
    "from matplotlib import cm"
   ],
   "outputs": [],
   "metadata": {}
  },
  {
   "cell_type": "code",
   "execution_count": null,
   "source": [
    "X = np.concatenate((np.random.normal(size=50), np.random.normal(loc=10, size=20))).reshape(-1,1)\n",
    "X.sort(axis=0)"
   ],
   "outputs": [],
   "metadata": {}
  },
  {
   "cell_type": "code",
   "execution_count": null,
   "source": [
    "arr = [-18.3665957,  -12.98670207,  -8.00381,     -2.41254807,  -2.22093726,\n",
    "  -2.05555296,  -1.27877686,  -0.81932312,  -0.46068903,  -0.13497194,\n",
    "   0.17512368,   0.59595715,   0.71394319,   0.7298588,    1.03703378,\n",
    "   1.44717056,   1.61256244,   2.02129354,   2.08393161,   2.1475689,\n",
    "   2.15782993,   2.21334173,   2.58706101,   2.85116052,   2.92276776,\n",
    "   3.15657542,   3.41710695,   3.95671378,   3.99037965,   4.14255156,\n",
    "   4.53036022,   4.65583896,   4.74520575,   5.15479047,   5.16568711,\n",
    "   5.28537102,  5.30237791,   5.9894994,    6.29368152,   7.56069596]"
   ],
   "outputs": [],
   "metadata": {}
  },
  {
   "cell_type": "code",
   "execution_count": null,
   "source": [],
   "outputs": [],
   "metadata": {}
  },
  {
   "cell_type": "markdown",
   "source": [
    "## Prepare a 2-tailed plot"
   ],
   "metadata": {}
  },
  {
   "cell_type": "code",
   "execution_count": null,
   "source": [
    "xpos1 = np.linspace(gsobj1.ledge_xlims[0], gsobj1.ledge_xlims[1], len(gsobj1.ledge))\n",
    "xpos2 = np.linspace(gsobj2.ledge_xlims[0], gsobj2.ledge_xlims[1], len(gsobj2.ledge))"
   ],
   "outputs": [],
   "metadata": {}
  },
  {
   "cell_type": "code",
   "execution_count": null,
   "source": [
    "genes1 = gsobj1.ledge['gene'].values\n",
    "genes2 = gsobj2.ledge['gene'].values"
   ],
   "outputs": [],
   "metadata": {}
  },
  {
   "cell_type": "code",
   "execution_count": null,
   "source": [
    "# yjitter\n",
    "ys1= 1/3 + (np.random.normal(0, 0.1, len(gsobj1.ledge)))\n",
    "ys2= 1/3 + (np.random.normal(0, 0.1, len(gsobj2.ledge)))\n",
    "# xlims for zoom axis \n",
    "xdown1, xdown2 = gsobj1.es_idx, gsobj1.ns\n",
    "xup1, xup2 = 0, gsobj2.es_idx+50"
   ],
   "outputs": [],
   "metadata": {}
  },
  {
   "cell_type": "code",
   "execution_count": null,
   "source": [
    "import matplotlib.pyplot as plt\n",
    "import matplotlib as mpl\n",
    "from matplotlib.gridspec import GridSpec\n",
    "# from matplotlib import ticker\n",
    "\n",
    "fig = plt.figure(figsize=(6, 6))\n",
    "gs = GridSpec(3, 1, height_ratios=[1, 4, 1], hspace=0.1)\n",
    "\n",
    "ax1 = fig.add_subplot(gs[0])\n",
    "ax1.set_xlim(xup1, xup2)\n",
    "ax1.axis('off')\n",
    "texts1 = [ax1.text(x, y, s, fontsize='xx-small', rotation=90) for x, y, s in zip(xpos2, ys2, genes2)]\n",
    "\n",
    "ax2 = fig.add_subplot(gs[1])\n",
    "ax2.plot(gsobj1.rs, c='C0')\n",
    "ax2.plot(gsobj2.rs, c='C1')\n",
    "ax2.axhline(y=0, linestyle='-', c='.5', lw=0.8)\n",
    "ax2.vlines(gsobj1.es_idx, 0, gsobj1.rs[gsobj1.es_idx], color='C0', linestyle='--', lw=.8)\n",
    "ax2.vlines(gsobj2.es_idx, 0, gsobj2.rs[gsobj2.es_idx], color='C1', linestyle='--', lw=.8)\n",
    "ax2.set_xticks([])\n",
    "\n",
    "ax3 = fig.add_subplot(gs[2])\n",
    "ax3.set_xlim(xdown1, xdown2)\n",
    "ax3.axis('off')\n",
    "texts2 = [ax3.text(x, y, s, fontsize='xx-small', rotation=90) for x, y, s in zip(xpos1, ys1, genes1)]\n",
    "\n",
    "zoom_effect(ax3, ax2, upper=False, patch_kws={'color':'C0', 'alpha':0.1});\n",
    "zoom_effect(ax1, ax2, patch_kws={'color':'C1', 'alpha':0.1})\n",
    "\n",
    "\n",
    "fig.savefig('Test-LedgePlot-2T.pdf')"
   ],
   "outputs": [],
   "metadata": {}
  }
 ],
 "metadata": {
  "kernelspec": {
   "name": "python3",
   "display_name": "Python 3.9.6 64-bit ('devpack': conda)"
  },
  "language_info": {
   "codemirror_mode": {
    "name": "ipython",
    "version": 3
   },
   "file_extension": ".py",
   "mimetype": "text/x-python",
   "name": "python",
   "nbconvert_exporter": "python",
   "pygments_lexer": "ipython3",
   "version": "3.9.6"
  },
  "toc": {
   "base_numbering": 1,
   "nav_menu": {},
   "number_sections": true,
   "sideBar": true,
   "skip_h1_title": false,
   "title_cell": "Table of Contents",
   "title_sidebar": "Contents",
   "toc_cell": false,
   "toc_position": {
    "height": "536.193px",
    "left": "197px",
    "top": "110.306px",
    "width": "165px"
   },
   "toc_section_display": true,
   "toc_window_display": true
  },
  "interpreter": {
   "hash": "be41892b54c54d96322dc580fc946e68b94a2f9c0dca41fc97ece4136e34eab5"
  }
 },
 "nbformat": 4,
 "nbformat_minor": 5
}